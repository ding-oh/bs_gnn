{
 "cells": [
  {
   "cell_type": "code",
   "execution_count": 18,
   "id": "4ca7fbbb",
   "metadata": {},
   "outputs": [],
   "source": [
    "import numpy as np\n",
    "np.set_printoptions(threshold=np.inf, linewidth=np.inf)\n",
    "from torch_geometric.data import Data\n",
    "from torch_geometric.loader import DataLoader\n",
    "from generateBindingsiteGraph import *\n",
    "import matplotlib.pyplot as plt"
   ]
  },
  {
   "cell_type": "code",
   "execution_count": 2,
   "id": "45fc4e2c",
   "metadata": {},
   "outputs": [],
   "source": [
    "# define path location\n",
    "proj_p = '/home/dongwoo/project/geo/BS_prediction'\n",
    "data_p = '/home/dongwoo/project/geo/scPDB_m/clean_set'"
   ]
  },
  {
   "cell_type": "code",
   "execution_count": 3,
   "id": "89b32468",
   "metadata": {
    "collapsed": true,
    "jupyter": {
     "outputs_hidden": true
    },
    "tags": []
   },
   "outputs": [
    {
     "name": "stdout",
     "output_type": "stream",
     "text": [
      "[INFO ] set 0\n"
     ]
    },
    {
     "name": "stderr",
     "output_type": "stream",
     "text": [
      "  5%|██▉                                                             | 9/199 [00:00<00:02, 88.57it/s]"
     ]
    },
    {
     "name": "stdout",
     "output_type": "stream",
     "text": [
      "\n",
      " Data(x=[144, 34], edge_index=[2, 2010], y=[144], edge_weight=[2010])\n",
      "\n",
      " Data(x=[260, 34], edge_index=[2, 4886], y=[260], edge_weight=[4886])\n",
      "\n",
      " Data(x=[249, 34], edge_index=[2, 4630], y=[249], edge_weight=[4630])\n",
      "\n",
      " Data(x=[258, 34], edge_index=[2, 4908], y=[258], edge_weight=[4908])\n",
      "\n",
      " Data(x=[99, 34], edge_index=[2, 1430], y=[99], edge_weight=[1430])\n",
      "\n",
      " Data(x=[99, 34], edge_index=[2, 1422], y=[99], edge_weight=[1422])\n",
      "\n",
      " Data(x=[99, 34], edge_index=[2, 1434], y=[99], edge_weight=[1434])\n",
      "\n",
      " Data(x=[99, 34], edge_index=[2, 1416], y=[99], edge_weight=[1416])\n",
      "\n",
      " Data(x=[99, 34], edge_index=[2, 1412], y=[99], edge_weight=[1412])\n",
      "\n",
      " Data(x=[99, 34], edge_index=[2, 1442], y=[99], edge_weight=[1442])\n",
      "\n",
      " Data(x=[99, 34], edge_index=[2, 1446], y=[99], edge_weight=[1446])\n",
      "\n",
      " Data(x=[99, 34], edge_index=[2, 1418], y=[99], edge_weight=[1418])\n",
      "\n",
      " Data(x=[99, 34], edge_index=[2, 1402], y=[99], edge_weight=[1402])\n",
      "\n",
      " Data(x=[99, 34], edge_index=[2, 1380], y=[99], edge_weight=[1380])\n",
      "\n",
      " Data(x=[1058, 34], edge_index=[2, 21656], y=[1058], edge_weight=[21656])\n",
      "\n",
      " Data(x=[528, 34], edge_index=[2, 10102], y=[528], edge_weight=[10102])\n"
     ]
    },
    {
     "name": "stderr",
     "output_type": "stream",
     "text": [
      " 13%|███████▉                                                       | 25/199 [00:00<00:02, 61.13it/s]"
     ]
    },
    {
     "name": "stdout",
     "output_type": "stream",
     "text": [
      "\n",
      " Data(x=[470, 34], edge_index=[2, 8870], y=[470], edge_weight=[8870])\n",
      "\n",
      " Data(x=[274, 34], edge_index=[2, 4484], y=[274], edge_weight=[4484])\n",
      "\n",
      " Data(x=[319, 34], edge_index=[2, 5696], y=[319], edge_weight=[5696])\n",
      "\n",
      " Data(x=[253, 34], edge_index=[2, 4686], y=[253], edge_weight=[4686])\n",
      "\n",
      " Data(x=[255, 34], edge_index=[2, 4792], y=[255], edge_weight=[4792])\n",
      "\n",
      " Data(x=[99, 34], edge_index=[2, 1432], y=[99], edge_weight=[1432])\n",
      "\n",
      " Data(x=[99, 34], edge_index=[2, 1452], y=[99], edge_weight=[1452])\n",
      "\n",
      " Data(x=[99, 34], edge_index=[2, 1396], y=[99], edge_weight=[1396])\n",
      "\n",
      " Data(x=[99, 34], edge_index=[2, 1380], y=[99], edge_weight=[1380])\n",
      "\n",
      " Data(x=[147, 34], edge_index=[2, 2664], y=[147], edge_weight=[2664])\n",
      "\n",
      " Data(x=[147, 34], edge_index=[2, 2686], y=[147], edge_weight=[2686])\n",
      "\n",
      " Data(x=[147, 34], edge_index=[2, 2624], y=[147], edge_weight=[2624])\n",
      "\n",
      " Data(x=[218, 34], edge_index=[2, 3554], y=[218], edge_weight=[3554])\n"
     ]
    },
    {
     "name": "stderr",
     "output_type": "stream",
     "text": [
      " 20%|████████████▋                                                  | 40/199 [00:00<00:02, 65.67it/s]"
     ]
    },
    {
     "name": "stdout",
     "output_type": "stream",
     "text": [
      "\n",
      " Data(x=[455, 34], edge_index=[2, 8980], y=[455], edge_weight=[8980])\n",
      "\n",
      " Data(x=[455, 34], edge_index=[2, 8986], y=[455], edge_weight=[8986])\n",
      "\n",
      " Data(x=[281, 34], edge_index=[2, 4468], y=[281], edge_weight=[4468])\n",
      "\n",
      " Data(x=[280, 34], edge_index=[2, 4434], y=[280], edge_weight=[4434])\n",
      "\n",
      " Data(x=[200, 34], edge_index=[2, 3534], y=[200], edge_weight=[3534])\n",
      "\n",
      " Data(x=[147, 34], edge_index=[2, 2676], y=[147], edge_weight=[2676])\n",
      "\n",
      " Data(x=[254, 34], edge_index=[2, 4644], y=[254], edge_weight=[4644])\n",
      "\n",
      " Data(x=[254, 34], edge_index=[2, 4510], y=[254], edge_weight=[4510])\n",
      "\n",
      " Data(x=[254, 34], edge_index=[2, 4518], y=[254], edge_weight=[4518])\n",
      "\n",
      " Data(x=[254, 34], edge_index=[2, 4516], y=[254], edge_weight=[4516])\n",
      "\n",
      " Data(x=[254, 34], edge_index=[2, 4494], y=[254], edge_weight=[4494])\n",
      "\n",
      " Data(x=[269, 34], edge_index=[2, 4428], y=[269], edge_weight=[4428])\n",
      "\n",
      " Data(x=[99, 34], edge_index=[2, 1404], y=[99], edge_weight=[1404])\n",
      "\n",
      " Data(x=[99, 34], edge_index=[2, 1370], y=[99], edge_weight=[1370])\n",
      "\n",
      " Data(x=[99, 34], edge_index=[2, 1426], y=[99], edge_weight=[1426])\n",
      "\n",
      " Data(x=[99, 34], edge_index=[2, 1408], y=[99], edge_weight=[1408])\n",
      "\n",
      " Data(x=[99, 34], edge_index=[2, 1418], y=[99], edge_weight=[1418])\n",
      "\n",
      " Data(x=[99, 34], edge_index=[2, 1438], y=[99], edge_weight=[1438])\n"
     ]
    },
    {
     "name": "stderr",
     "output_type": "stream",
     "text": [
      " 30%|██████████████████▋                                            | 59/199 [00:00<00:01, 79.13it/s]"
     ]
    },
    {
     "name": "stdout",
     "output_type": "stream",
     "text": [
      "\n",
      " Data(x=[253, 34], edge_index=[2, 4756], y=[253], edge_weight=[4756])\n",
      "\n",
      " Data(x=[382, 34], edge_index=[2, 7204], y=[382], edge_weight=[7204])\n",
      "\n",
      " Data(x=[382, 34], edge_index=[2, 7184], y=[382], edge_weight=[7184])\n",
      "\n",
      " Data(x=[383, 34], edge_index=[2, 7546], y=[383], edge_weight=[7546])\n",
      "\n",
      " Data(x=[99, 34], edge_index=[2, 1438], y=[99], edge_weight=[1438])\n",
      "\n",
      " Data(x=[99, 34], edge_index=[2, 1414], y=[99], edge_weight=[1414])\n",
      "\n",
      " Data(x=[99, 34], edge_index=[2, 1442], y=[99], edge_weight=[1442])\n",
      "\n",
      " Data(x=[99, 34], edge_index=[2, 1394], y=[99], edge_weight=[1394])\n",
      "\n",
      " Data(x=[99, 34], edge_index=[2, 1552], y=[99], edge_weight=[1552])\n",
      "\n",
      " Data(x=[99, 34], edge_index=[2, 1550], y=[99], edge_weight=[1550])\n",
      "\n",
      " Data(x=[99, 34], edge_index=[2, 1592], y=[99], edge_weight=[1592])\n",
      "\n",
      " Data(x=[99, 34], edge_index=[2, 1606], y=[99], edge_weight=[1606])\n",
      "\n",
      " Data(x=[350, 34], edge_index=[2, 7120], y=[350], edge_weight=[7120])\n",
      "\n",
      " Data(x=[99, 34], edge_index=[2, 1434], y=[99], edge_weight=[1434])\n",
      "\n",
      " Data(x=[99, 34], edge_index=[2, 1408], y=[99], edge_weight=[1408])\n",
      "\n",
      " Data(x=[99, 34], edge_index=[2, 1416], y=[99], edge_weight=[1416])\n",
      "\n",
      " Data(x=[99, 34], edge_index=[2, 1396], y=[99], edge_weight=[1396])\n"
     ]
    },
    {
     "name": "stderr",
     "output_type": "stream",
     "text": [
      " 34%|█████████████████████▌                                         | 68/199 [00:00<00:01, 72.32it/s]"
     ]
    },
    {
     "name": "stdout",
     "output_type": "stream",
     "text": [
      "\n",
      " Data(x=[347, 34], edge_index=[2, 6952], y=[347], edge_weight=[6952])\n",
      "\n",
      " Data(x=[1073, 34], edge_index=[2, 22028], y=[1073], edge_weight=[22028])\n",
      "\n",
      " Data(x=[213, 34], edge_index=[2, 3662], y=[213], edge_weight=[3662])\n",
      "\n",
      " Data(x=[213, 34], edge_index=[2, 3662], y=[213], edge_weight=[3662])\n",
      "\n",
      " Data(x=[585, 34], edge_index=[2, 10254], y=[585], edge_weight=[10254])\n",
      "\n",
      " Data(x=[491, 34], edge_index=[2, 7858], y=[491], edge_weight=[7858])\n"
     ]
    },
    {
     "name": "stderr",
     "output_type": "stream",
     "text": [
      " 38%|████████████████████████                                       | 76/199 [00:01<00:02, 50.94it/s]"
     ]
    },
    {
     "name": "stdout",
     "output_type": "stream",
     "text": [
      "\n",
      " Data(x=[539, 34], edge_index=[2, 8718], y=[539], edge_weight=[8718])\n",
      "\n",
      " Data(x=[414, 34], edge_index=[2, 6626], y=[414], edge_weight=[6626])\n",
      "\n",
      " Data(x=[537, 34], edge_index=[2, 8406], y=[537], edge_weight=[8406])\n",
      "\n",
      " Data(x=[537, 34], edge_index=[2, 8614], y=[537], edge_weight=[8614])\n",
      "\n",
      " Data(x=[349, 34], edge_index=[2, 7050], y=[349], edge_weight=[7050])\n",
      "\n",
      " Data(x=[262, 34], edge_index=[2, 4894], y=[262], edge_weight=[4894])\n",
      "\n",
      " Data(x=[262, 34], edge_index=[2, 4870], y=[262], edge_weight=[4870])\n",
      "\n",
      " Data(x=[99, 34], edge_index=[2, 1402], y=[99], edge_weight=[1402])\n",
      "\n",
      " Data(x=[99, 34], edge_index=[2, 1394], y=[99], edge_weight=[1394])\n",
      "\n",
      " Data(x=[217, 34], edge_index=[2, 3370], y=[217], edge_weight=[3370])\n",
      "\n",
      " Data(x=[217, 34], edge_index=[2, 3374], y=[217], edge_weight=[3374])\n",
      "\n",
      " Data(x=[147, 34], edge_index=[2, 2656], y=[147], edge_weight=[2656])\n",
      "\n",
      " Data(x=[242, 34], edge_index=[2, 4438], y=[242], edge_weight=[4438])\n"
     ]
    },
    {
     "name": "stderr",
     "output_type": "stream",
     "text": [
      " 51%|███████████████████████████████▍                              | 101/199 [00:01<00:01, 77.63it/s]"
     ]
    },
    {
     "name": "stdout",
     "output_type": "stream",
     "text": [
      "\n",
      " Data(x=[360, 34], edge_index=[2, 6974], y=[360], edge_weight=[6974])\n",
      "\n",
      " Data(x=[364, 34], edge_index=[2, 7148], y=[364], edge_weight=[7148])\n",
      "\n",
      " Data(x=[99, 34], edge_index=[2, 1420], y=[99], edge_weight=[1420])\n",
      "\n",
      " Data(x=[99, 34], edge_index=[2, 1412], y=[99], edge_weight=[1412])\n",
      "\n",
      " Data(x=[99, 34], edge_index=[2, 1404], y=[99], edge_weight=[1404])\n",
      "\n",
      " Data(x=[99, 34], edge_index=[2, 1402], y=[99], edge_weight=[1402])\n",
      "\n",
      " Data(x=[99, 34], edge_index=[2, 1408], y=[99], edge_weight=[1408])\n",
      "\n",
      " Data(x=[99, 34], edge_index=[2, 1406], y=[99], edge_weight=[1406])\n",
      "\n",
      " Data(x=[177, 34], edge_index=[2, 3176], y=[177], edge_weight=[3176])\n",
      "\n",
      " Data(x=[99, 34], edge_index=[2, 1392], y=[99], edge_weight=[1392])\n",
      "\n",
      " Data(x=[99, 34], edge_index=[2, 1406], y=[99], edge_weight=[1406])\n",
      "\n",
      " Data(x=[99, 34], edge_index=[2, 1456], y=[99], edge_weight=[1456])\n",
      "\n",
      " Data(x=[99, 34], edge_index=[2, 1462], y=[99], edge_weight=[1462])\n",
      "\n",
      " Data(x=[99, 34], edge_index=[2, 1394], y=[99], edge_weight=[1394])\n",
      "\n",
      " Data(x=[99, 34], edge_index=[2, 1390], y=[99], edge_weight=[1390])\n",
      "\n",
      " Data(x=[99, 34], edge_index=[2, 1426], y=[99], edge_weight=[1426])\n",
      "\n",
      " Data(x=[99, 34], edge_index=[2, 1410], y=[99], edge_weight=[1410])\n",
      "\n",
      " Data(x=[469, 34], edge_index=[2, 8526], y=[469], edge_weight=[8526])\n",
      "\n",
      " Data(x=[311, 34], edge_index=[2, 5706], y=[311], edge_weight=[5706])\n",
      "\n",
      " Data(x=[217, 34], edge_index=[2, 3436], y=[217], edge_weight=[3436])\n",
      "\n",
      " Data(x=[217, 34], edge_index=[2, 3468], y=[217], edge_weight=[3468])\n"
     ]
    },
    {
     "name": "stderr",
     "output_type": "stream",
     "text": [
      " 55%|██████████████████████████████████▎                           | 110/199 [00:01<00:01, 75.48it/s]"
     ]
    },
    {
     "name": "stdout",
     "output_type": "stream",
     "text": [
      "\n",
      " Data(x=[202, 34], edge_index=[2, 3502], y=[202], edge_weight=[3502])\n",
      "\n",
      " Data(x=[220, 34], edge_index=[2, 3526], y=[220], edge_weight=[3526])\n",
      "\n",
      " Data(x=[220, 34], edge_index=[2, 3506], y=[220], edge_weight=[3506])\n",
      "\n",
      " Data(x=[99, 34], edge_index=[2, 1412], y=[99], edge_weight=[1412])\n",
      "\n",
      " Data(x=[99, 34], edge_index=[2, 1428], y=[99], edge_weight=[1428])\n",
      "\n",
      " Data(x=[528, 34], edge_index=[2, 10258], y=[528], edge_weight=[10258])\n",
      "\n",
      " Data(x=[330, 34], edge_index=[2, 5808], y=[330], edge_weight=[5808])\n",
      "\n",
      " Data(x=[490, 34], edge_index=[2, 9424], y=[490], edge_weight=[9424])\n",
      "\n",
      " Data(x=[376, 34], edge_index=[2, 6926], y=[376], edge_weight=[6926])\n",
      "\n",
      " Data(x=[373, 34], edge_index=[2, 6928], y=[373], edge_weight=[6928])\n"
     ]
    },
    {
     "name": "stderr",
     "output_type": "stream",
     "text": [
      " 68%|██████████████████████████████████████████                    | 135/199 [00:01<00:00, 80.94it/s]"
     ]
    },
    {
     "name": "stdout",
     "output_type": "stream",
     "text": [
      "\n",
      " Data(x=[376, 34], edge_index=[2, 7556], y=[376], edge_weight=[7556])\n",
      "\n",
      " Data(x=[373, 34], edge_index=[2, 7498], y=[373], edge_weight=[7498])\n",
      "\n",
      " Data(x=[249, 34], edge_index=[2, 4102], y=[249], edge_weight=[4102])\n",
      "\n",
      " Data(x=[376, 34], edge_index=[2, 7478], y=[376], edge_weight=[7478])\n",
      "\n",
      " Data(x=[373, 34], edge_index=[2, 7406], y=[373], edge_weight=[7406])\n",
      "\n",
      " Data(x=[99, 34], edge_index=[2, 1434], y=[99], edge_weight=[1434])\n",
      "\n",
      " Data(x=[99, 34], edge_index=[2, 1430], y=[99], edge_weight=[1430])\n",
      "\n",
      " Data(x=[99, 34], edge_index=[2, 1388], y=[99], edge_weight=[1388])\n",
      "\n",
      " Data(x=[99, 34], edge_index=[2, 1394], y=[99], edge_weight=[1394])\n",
      "\n",
      " Data(x=[99, 34], edge_index=[2, 1382], y=[99], edge_weight=[1382])\n",
      "\n",
      " Data(x=[99, 34], edge_index=[2, 1376], y=[99], edge_weight=[1376])\n",
      "\n",
      " Data(x=[99, 34], edge_index=[2, 1388], y=[99], edge_weight=[1388])\n",
      "\n",
      " Data(x=[99, 34], edge_index=[2, 1396], y=[99], edge_weight=[1396])\n",
      "\n",
      " Data(x=[99, 34], edge_index=[2, 1416], y=[99], edge_weight=[1416])\n",
      "\n",
      " Data(x=[99, 34], edge_index=[2, 1418], y=[99], edge_weight=[1418])\n",
      "\n",
      " Data(x=[99, 34], edge_index=[2, 1426], y=[99], edge_weight=[1426])\n",
      "\n",
      " Data(x=[99, 34], edge_index=[2, 1442], y=[99], edge_weight=[1442])\n",
      "\n",
      " Data(x=[99, 34], edge_index=[2, 1398], y=[99], edge_weight=[1398])\n",
      "\n",
      " Data(x=[99, 34], edge_index=[2, 1396], y=[99], edge_weight=[1396])\n",
      "\n",
      " Data(x=[99, 34], edge_index=[2, 1384], y=[99], edge_weight=[1384])\n",
      "\n",
      " Data(x=[399, 34], edge_index=[2, 6414], y=[399], edge_weight=[6414])\n",
      "\n",
      " Data(x=[134, 34], edge_index=[2, 2126], y=[134], edge_weight=[2126])\n",
      "\n",
      " Data(x=[523, 34], edge_index=[2, 8264], y=[523], edge_weight=[8264])\n",
      "\n",
      " Data(x=[395, 34], edge_index=[2, 6286], y=[395], edge_weight=[6286])\n",
      "\n",
      " Data(x=[767, 34], edge_index=[2, 14964], y=[767], edge_weight=[14964])\n",
      "\n",
      " Data(x=[534, 34], edge_index=[2, 10284], y=[534], edge_weight=[10284])\n",
      "\n",
      " Data(x=[186, 34], edge_index=[2, 2908], y=[186], edge_weight=[2908])\n",
      "\n",
      " Data(x=[502, 34], edge_index=[2, 9474], y=[502], edge_weight=[9474])\n"
     ]
    },
    {
     "name": "stderr",
     "output_type": "stream",
     "text": [
      " 80%|█████████████████████████████████████████████████▊            | 160/199 [00:02<00:00, 80.56it/s]"
     ]
    },
    {
     "name": "stdout",
     "output_type": "stream",
     "text": [
      "\n",
      " Data(x=[447, 34], edge_index=[2, 8248], y=[447], edge_weight=[8248])\n",
      "\n",
      " Data(x=[99, 34], edge_index=[2, 1402], y=[99], edge_weight=[1402])\n",
      "\n",
      " Data(x=[123, 34], edge_index=[2, 1974], y=[123], edge_weight=[1974])\n",
      "\n",
      " Data(x=[99, 34], edge_index=[2, 1454], y=[99], edge_weight=[1454])\n",
      "\n",
      " Data(x=[99, 34], edge_index=[2, 1486], y=[99], edge_weight=[1486])\n",
      "\n",
      " Data(x=[99, 34], edge_index=[2, 1450], y=[99], edge_weight=[1450])\n",
      "\n",
      " Data(x=[99, 34], edge_index=[2, 1458], y=[99], edge_weight=[1458])\n",
      "\n",
      " Data(x=[99, 34], edge_index=[2, 1450], y=[99], edge_weight=[1450])\n",
      "\n",
      " Data(x=[99, 34], edge_index=[2, 1472], y=[99], edge_weight=[1472])\n",
      "\n",
      " Data(x=[99, 34], edge_index=[2, 1442], y=[99], edge_weight=[1442])\n",
      "\n",
      " Data(x=[99, 34], edge_index=[2, 1442], y=[99], edge_weight=[1442])\n",
      "\n",
      " Data(x=[99, 34], edge_index=[2, 1408], y=[99], edge_weight=[1408])\n",
      "\n",
      " Data(x=[99, 34], edge_index=[2, 1460], y=[99], edge_weight=[1460])\n",
      "\n",
      " Data(x=[99, 34], edge_index=[2, 1448], y=[99], edge_weight=[1448])\n",
      "\n",
      " Data(x=[99, 34], edge_index=[2, 1464], y=[99], edge_weight=[1464])\n",
      "\n",
      " Data(x=[99, 34], edge_index=[2, 1470], y=[99], edge_weight=[1470])\n",
      "\n",
      " Data(x=[99, 34], edge_index=[2, 1504], y=[99], edge_weight=[1504])\n",
      "\n",
      " Data(x=[520, 34], edge_index=[2, 8324], y=[520], edge_weight=[8324])\n",
      "\n",
      " Data(x=[403, 34], edge_index=[2, 6540], y=[403], edge_weight=[6540])\n",
      "\n",
      " Data(x=[543, 34], edge_index=[2, 8710], y=[543], edge_weight=[8710])\n",
      "\n",
      " Data(x=[542, 34], edge_index=[2, 8666], y=[542], edge_weight=[8666])\n"
     ]
    },
    {
     "name": "stderr",
     "output_type": "stream",
     "text": [
      " 86%|█████████████████████████████████████████████████████▎        | 171/199 [00:02<00:00, 70.88it/s]"
     ]
    },
    {
     "name": "stdout",
     "output_type": "stream",
     "text": [
      "\n",
      " Data(x=[408, 34], edge_index=[2, 6426], y=[408], edge_weight=[6426])\n",
      "\n",
      " Data(x=[315, 34], edge_index=[2, 5620], y=[315], edge_weight=[5620])\n",
      "\n",
      " Data(x=[262, 34], edge_index=[2, 4966], y=[262], edge_weight=[4966])\n",
      "\n",
      " Data(x=[147, 34], edge_index=[2, 2666], y=[147], edge_weight=[2666])\n",
      "\n",
      " Data(x=[124, 34], edge_index=[2, 1996], y=[124], edge_weight=[1996])\n",
      "\n",
      " Data(x=[124, 34], edge_index=[2, 1982], y=[124], edge_weight=[1982])\n",
      "\n",
      " Data(x=[124, 34], edge_index=[2, 1994], y=[124], edge_weight=[1994])\n",
      "\n",
      " Data(x=[124, 34], edge_index=[2, 1974], y=[124], edge_weight=[1974])\n",
      "\n",
      " Data(x=[585, 34], edge_index=[2, 10754], y=[585], edge_weight=[10754])\n",
      "\n",
      " Data(x=[585, 34], edge_index=[2, 10582], y=[585], edge_weight=[10582])\n",
      "\n",
      " Data(x=[164, 34], edge_index=[2, 2672], y=[164], edge_weight=[2672])\n",
      "\n",
      " Data(x=[164, 34], edge_index=[2, 2710], y=[164], edge_weight=[2710])\n"
     ]
    },
    {
     "name": "stderr",
     "output_type": "stream",
     "text": [
      " 95%|██████████████████████████████████████████████████████████▉   | 189/199 [00:02<00:00, 71.55it/s]"
     ]
    },
    {
     "name": "stdout",
     "output_type": "stream",
     "text": [
      "\n",
      " Data(x=[99, 34], edge_index=[2, 1384], y=[99], edge_weight=[1384])\n",
      "\n",
      " Data(x=[99, 34], edge_index=[2, 1400], y=[99], edge_weight=[1400])\n",
      "\n",
      " Data(x=[99, 34], edge_index=[2, 1376], y=[99], edge_weight=[1376])\n",
      "\n",
      " Data(x=[99, 34], edge_index=[2, 1388], y=[99], edge_weight=[1388])\n",
      "\n",
      " Data(x=[284, 34], edge_index=[2, 5082], y=[284], edge_weight=[5082])\n",
      "\n",
      " Data(x=[284, 34], edge_index=[2, 5138], y=[284], edge_weight=[5138])\n",
      "\n",
      " Data(x=[186, 34], edge_index=[2, 2888], y=[186], edge_weight=[2888])\n",
      "\n",
      " Data(x=[529, 34], edge_index=[2, 10208], y=[529], edge_weight=[10208])\n",
      "\n",
      " Data(x=[532, 34], edge_index=[2, 10354], y=[532], edge_weight=[10354])\n",
      "\n",
      " Data(x=[217, 34], edge_index=[2, 3434], y=[217], edge_weight=[3434])\n",
      "\n",
      " Data(x=[217, 34], edge_index=[2, 3446], y=[217], edge_weight=[3446])\n",
      "\n",
      " Data(x=[99, 34], edge_index=[2, 1410], y=[99], edge_weight=[1410])\n",
      "\n",
      " Data(x=[99, 34], edge_index=[2, 1410], y=[99], edge_weight=[1410])\n",
      "\n",
      " Data(x=[99, 34], edge_index=[2, 1402], y=[99], edge_weight=[1402])\n",
      "\n",
      " Data(x=[99, 34], edge_index=[2, 1376], y=[99], edge_weight=[1376])\n",
      "\n",
      " Data(x=[99, 34], edge_index=[2, 1408], y=[99], edge_weight=[1408])\n",
      "\n",
      " Data(x=[99, 34], edge_index=[2, 1392], y=[99], edge_weight=[1392])\n"
     ]
    },
    {
     "name": "stderr",
     "output_type": "stream",
     "text": [
      "100%|██████████████████████████████████████████████████████████████| 199/199 [00:02<00:00, 67.94it/s]\n"
     ]
    },
    {
     "name": "stdout",
     "output_type": "stream",
     "text": [
      "\n",
      " Data(x=[558, 34], edge_index=[2, 9116], y=[558], edge_weight=[9116])\n",
      "\n",
      " Data(x=[427, 34], edge_index=[2, 6880], y=[427], edge_weight=[6880])\n",
      "\n",
      " Data(x=[558, 34], edge_index=[2, 9054], y=[558], edge_weight=[9054])\n",
      "\n",
      " Data(x=[427, 34], edge_index=[2, 6794], y=[427], edge_weight=[6794])\n",
      "\n",
      " Data(x=[99, 34], edge_index=[2, 1408], y=[99], edge_weight=[1408])\n",
      "\n",
      " Data(x=[99, 34], edge_index=[2, 1436], y=[99], edge_weight=[1436])\n",
      "\n",
      " Data(x=[163, 34], edge_index=[2, 2488], y=[163], edge_weight=[2488])\n",
      "[INFO ] set 1\n"
     ]
    },
    {
     "name": "stderr",
     "output_type": "stream",
     "text": [
      "  0%|                                                                        | 0/199 [00:00<?, ?it/s]"
     ]
    },
    {
     "name": "stdout",
     "output_type": "stream",
     "text": [
      "\n",
      " Data(x=[144, 34], edge_index=[2, 2010], y=[144], edge_weight=[2010])\n",
      "\n",
      " Data(x=[260, 34], edge_index=[2, 4886], y=[260], edge_weight=[4886])\n",
      "\n",
      " Data(x=[249, 34], edge_index=[2, 4630], y=[249], edge_weight=[4630])\n",
      "\n",
      " Data(x=[258, 34], edge_index=[2, 4908], y=[258], edge_weight=[4908])\n",
      "\n",
      " Data(x=[99, 34], edge_index=[2, 1430], y=[99], edge_weight=[1430])\n",
      "\n",
      " Data(x=[99, 34], edge_index=[2, 1422], y=[99], edge_weight=[1422])\n",
      "\n",
      " Data(x=[99, 34], edge_index=[2, 1434], y=[99], edge_weight=[1434])\n",
      "\n",
      " Data(x=[99, 34], edge_index=[2, 1416], y=[99], edge_weight=[1416])\n",
      "\n",
      " Data(x=[99, 34], edge_index=[2, 1412], y=[99], edge_weight=[1412])\n"
     ]
    },
    {
     "name": "stderr",
     "output_type": "stream",
     "text": [
      "  6%|███▋                                                          | 12/199 [00:00<00:01, 112.57it/s]"
     ]
    },
    {
     "name": "stdout",
     "output_type": "stream",
     "text": [
      "\n",
      " Data(x=[99, 34], edge_index=[2, 1442], y=[99], edge_weight=[1442])\n",
      "\n",
      " Data(x=[99, 34], edge_index=[2, 1446], y=[99], edge_weight=[1446])\n",
      "\n",
      " Data(x=[99, 34], edge_index=[2, 1418], y=[99], edge_weight=[1418])\n",
      "\n",
      " Data(x=[99, 34], edge_index=[2, 1402], y=[99], edge_weight=[1402])\n",
      "\n",
      " Data(x=[99, 34], edge_index=[2, 1380], y=[99], edge_weight=[1380])\n",
      "\n",
      " Data(x=[1058, 34], edge_index=[2, 21656], y=[1058], edge_weight=[21656])\n",
      "\n",
      " Data(x=[528, 34], edge_index=[2, 10102], y=[528], edge_weight=[10102])\n",
      "\n",
      " Data(x=[470, 34], edge_index=[2, 8870], y=[470], edge_weight=[8870])\n"
     ]
    },
    {
     "name": "stderr",
     "output_type": "stream",
     "text": [
      " 12%|███████▌                                                       | 24/199 [00:00<00:02, 59.45it/s]"
     ]
    },
    {
     "name": "stdout",
     "output_type": "stream",
     "text": [
      "\n",
      " Data(x=[274, 34], edge_index=[2, 4484], y=[274], edge_weight=[4484])\n",
      "\n",
      " Data(x=[319, 34], edge_index=[2, 5696], y=[319], edge_weight=[5696])\n",
      "\n",
      " Data(x=[253, 34], edge_index=[2, 4686], y=[253], edge_weight=[4686])\n",
      "\n",
      " Data(x=[255, 34], edge_index=[2, 4792], y=[255], edge_weight=[4792])\n",
      "\n",
      " Data(x=[99, 34], edge_index=[2, 1432], y=[99], edge_weight=[1432])\n",
      "\n",
      " Data(x=[99, 34], edge_index=[2, 1452], y=[99], edge_weight=[1452])\n",
      "\n",
      " Data(x=[99, 34], edge_index=[2, 1396], y=[99], edge_weight=[1396])\n",
      "\n",
      " Data(x=[99, 34], edge_index=[2, 1380], y=[99], edge_weight=[1380])\n",
      "\n",
      " Data(x=[147, 34], edge_index=[2, 2664], y=[147], edge_weight=[2664])\n",
      "\n",
      " Data(x=[147, 34], edge_index=[2, 2686], y=[147], edge_weight=[2686])\n",
      "\n",
      " Data(x=[147, 34], edge_index=[2, 2624], y=[147], edge_weight=[2624])\n",
      "\n",
      " Data(x=[218, 34], edge_index=[2, 3554], y=[218], edge_weight=[3554])\n",
      "\n",
      " Data(x=[455, 34], edge_index=[2, 8980], y=[455], edge_weight=[8980])\n"
     ]
    },
    {
     "name": "stderr",
     "output_type": "stream",
     "text": [
      " 16%|██████████▏                                                    | 32/199 [00:00<00:02, 63.83it/s]"
     ]
    },
    {
     "name": "stdout",
     "output_type": "stream",
     "text": [
      "\n",
      " Data(x=[455, 34], edge_index=[2, 8986], y=[455], edge_weight=[8986])\n",
      "\n",
      " Data(x=[281, 34], edge_index=[2, 4468], y=[281], edge_weight=[4468])\n",
      "\n",
      " Data(x=[280, 34], edge_index=[2, 4434], y=[280], edge_weight=[4434])\n"
     ]
    },
    {
     "name": "stderr",
     "output_type": "stream",
     "text": [
      " 20%|████████████▋                                                  | 40/199 [00:00<00:02, 67.46it/s]"
     ]
    },
    {
     "name": "stdout",
     "output_type": "stream",
     "text": [
      "\n",
      " Data(x=[200, 34], edge_index=[2, 3534], y=[200], edge_weight=[3534])\n",
      "\n",
      " Data(x=[147, 34], edge_index=[2, 2676], y=[147], edge_weight=[2676])\n",
      "\n",
      " Data(x=[254, 34], edge_index=[2, 4644], y=[254], edge_weight=[4644])\n",
      "\n",
      " Data(x=[254, 34], edge_index=[2, 4510], y=[254], edge_weight=[4510])\n",
      "\n",
      " Data(x=[254, 34], edge_index=[2, 4518], y=[254], edge_weight=[4518])\n",
      "\n",
      " Data(x=[254, 34], edge_index=[2, 4516], y=[254], edge_weight=[4516])\n",
      "\n",
      " Data(x=[254, 34], edge_index=[2, 4494], y=[254], edge_weight=[4494])\n",
      "\n",
      " Data(x=[269, 34], edge_index=[2, 4428], y=[269], edge_weight=[4428])\n",
      "\n",
      " Data(x=[99, 34], edge_index=[2, 1404], y=[99], edge_weight=[1404])\n",
      "\n",
      " Data(x=[99, 34], edge_index=[2, 1370], y=[99], edge_weight=[1370])\n",
      "\n",
      " Data(x=[99, 34], edge_index=[2, 1426], y=[99], edge_weight=[1426])\n",
      "\n",
      " Data(x=[99, 34], edge_index=[2, 1408], y=[99], edge_weight=[1408])\n",
      "\n",
      " Data(x=[99, 34], edge_index=[2, 1418], y=[99], edge_weight=[1418])\n",
      "\n",
      " Data(x=[99, 34], edge_index=[2, 1438], y=[99], edge_weight=[1438])\n",
      "\n",
      " Data(x=[253, 34], edge_index=[2, 4756], y=[253], edge_weight=[4756])\n"
     ]
    },
    {
     "name": "stderr",
     "output_type": "stream",
     "text": [
      " 25%|███████████████▊                                               | 50/199 [00:00<00:01, 76.46it/s]"
     ]
    },
    {
     "name": "stdout",
     "output_type": "stream",
     "text": [
      "\n",
      " Data(x=[382, 34], edge_index=[2, 7204], y=[382], edge_weight=[7204])\n",
      "\n",
      " Data(x=[382, 34], edge_index=[2, 7184], y=[382], edge_weight=[7184])\n"
     ]
    },
    {
     "name": "stderr",
     "output_type": "stream",
     "text": [
      " 30%|██████████████████▋                                            | 59/199 [00:00<00:01, 79.11it/s]"
     ]
    },
    {
     "name": "stdout",
     "output_type": "stream",
     "text": [
      "\n",
      " Data(x=[383, 34], edge_index=[2, 7546], y=[383], edge_weight=[7546])\n",
      "\n",
      " Data(x=[99, 34], edge_index=[2, 1438], y=[99], edge_weight=[1438])\n",
      "\n",
      " Data(x=[99, 34], edge_index=[2, 1414], y=[99], edge_weight=[1414])\n",
      "\n",
      " Data(x=[99, 34], edge_index=[2, 1442], y=[99], edge_weight=[1442])\n",
      "\n",
      " Data(x=[99, 34], edge_index=[2, 1394], y=[99], edge_weight=[1394])\n",
      "\n",
      " Data(x=[99, 34], edge_index=[2, 1552], y=[99], edge_weight=[1552])\n",
      "\n",
      " Data(x=[99, 34], edge_index=[2, 1550], y=[99], edge_weight=[1550])\n",
      "\n",
      " Data(x=[99, 34], edge_index=[2, 1592], y=[99], edge_weight=[1592])\n",
      "\n",
      " Data(x=[99, 34], edge_index=[2, 1606], y=[99], edge_weight=[1606])\n",
      "\n",
      " Data(x=[350, 34], edge_index=[2, 7120], y=[350], edge_weight=[7120])\n",
      "\n",
      " Data(x=[99, 34], edge_index=[2, 1434], y=[99], edge_weight=[1434])\n",
      "\n",
      " Data(x=[99, 34], edge_index=[2, 1408], y=[99], edge_weight=[1408])\n",
      "\n",
      " Data(x=[99, 34], edge_index=[2, 1416], y=[99], edge_weight=[1416])\n",
      "\n",
      " Data(x=[99, 34], edge_index=[2, 1396], y=[99], edge_weight=[1396])\n",
      "\n",
      " Data(x=[347, 34], edge_index=[2, 6952], y=[347], edge_weight=[6952])\n"
     ]
    },
    {
     "name": "stderr",
     "output_type": "stream",
     "text": [
      " 34%|█████████████████████▌                                         | 68/199 [00:00<00:01, 71.87it/s]"
     ]
    },
    {
     "name": "stdout",
     "output_type": "stream",
     "text": [
      "\n",
      " Data(x=[1073, 34], edge_index=[2, 22028], y=[1073], edge_weight=[22028])\n",
      "\n",
      " Data(x=[213, 34], edge_index=[2, 3662], y=[213], edge_weight=[3662])\n",
      "\n",
      " Data(x=[213, 34], edge_index=[2, 3662], y=[213], edge_weight=[3662])\n",
      "\n",
      " Data(x=[585, 34], edge_index=[2, 10254], y=[585], edge_weight=[10254])\n",
      "\n",
      " Data(x=[491, 34], edge_index=[2, 7858], y=[491], edge_weight=[7858])\n",
      "\n",
      " Data(x=[539, 34], edge_index=[2, 8718], y=[539], edge_weight=[8718])\n",
      "\n",
      " Data(x=[414, 34], edge_index=[2, 6626], y=[414], edge_weight=[6626])\n"
     ]
    },
    {
     "name": "stderr",
     "output_type": "stream",
     "text": [
      " 43%|██████████████████████████▉                                    | 85/199 [00:01<00:01, 58.32it/s]"
     ]
    },
    {
     "name": "stdout",
     "output_type": "stream",
     "text": [
      "\n",
      " Data(x=[537, 34], edge_index=[2, 8406], y=[537], edge_weight=[8406])\n",
      "\n",
      " Data(x=[537, 34], edge_index=[2, 8614], y=[537], edge_weight=[8614])\n",
      "\n",
      " Data(x=[349, 34], edge_index=[2, 7050], y=[349], edge_weight=[7050])\n",
      "\n",
      " Data(x=[262, 34], edge_index=[2, 4894], y=[262], edge_weight=[4894])\n",
      "\n",
      " Data(x=[262, 34], edge_index=[2, 4870], y=[262], edge_weight=[4870])\n",
      "\n",
      " Data(x=[99, 34], edge_index=[2, 1402], y=[99], edge_weight=[1402])\n",
      "\n",
      " Data(x=[99, 34], edge_index=[2, 1394], y=[99], edge_weight=[1394])\n",
      "\n",
      " Data(x=[217, 34], edge_index=[2, 3370], y=[217], edge_weight=[3370])\n",
      "\n",
      " Data(x=[217, 34], edge_index=[2, 3374], y=[217], edge_weight=[3374])\n",
      "\n",
      " Data(x=[147, 34], edge_index=[2, 2656], y=[147], edge_weight=[2656])\n",
      "\n",
      " Data(x=[242, 34], edge_index=[2, 4438], y=[242], edge_weight=[4438])\n",
      "\n",
      " Data(x=[360, 34], edge_index=[2, 6974], y=[360], edge_weight=[6974])\n",
      "\n",
      " Data(x=[364, 34], edge_index=[2, 7148], y=[364], edge_weight=[7148])\n",
      "\n",
      " Data(x=[99, 34], edge_index=[2, 1420], y=[99], edge_weight=[1420])\n",
      "\n",
      " Data(x=[99, 34], edge_index=[2, 1412], y=[99], edge_weight=[1412])\n",
      "\n",
      " Data(x=[99, 34], edge_index=[2, 1404], y=[99], edge_weight=[1404])\n",
      "\n",
      " Data(x=[99, 34], edge_index=[2, 1402], y=[99], edge_weight=[1402])\n",
      "\n",
      " Data(x=[99, 34], edge_index=[2, 1408], y=[99], edge_weight=[1408])\n"
     ]
    },
    {
     "name": "stderr",
     "output_type": "stream",
     "text": [
      " 51%|███████████████████████████████▍                              | 101/199 [00:01<00:01, 79.88it/s]"
     ]
    },
    {
     "name": "stdout",
     "output_type": "stream",
     "text": [
      "\n",
      " Data(x=[99, 34], edge_index=[2, 1406], y=[99], edge_weight=[1406])\n",
      "\n",
      " Data(x=[177, 34], edge_index=[2, 3176], y=[177], edge_weight=[3176])\n",
      "\n",
      " Data(x=[99, 34], edge_index=[2, 1392], y=[99], edge_weight=[1392])\n",
      "\n",
      " Data(x=[99, 34], edge_index=[2, 1406], y=[99], edge_weight=[1406])\n",
      "\n",
      " Data(x=[99, 34], edge_index=[2, 1456], y=[99], edge_weight=[1456])\n",
      "\n",
      " Data(x=[99, 34], edge_index=[2, 1462], y=[99], edge_weight=[1462])\n",
      "\n",
      " Data(x=[99, 34], edge_index=[2, 1394], y=[99], edge_weight=[1394])\n",
      "\n",
      " Data(x=[99, 34], edge_index=[2, 1390], y=[99], edge_weight=[1390])\n",
      "\n",
      " Data(x=[99, 34], edge_index=[2, 1426], y=[99], edge_weight=[1426])\n",
      "\n",
      " Data(x=[99, 34], edge_index=[2, 1410], y=[99], edge_weight=[1410])\n",
      "\n",
      " Data(x=[469, 34], edge_index=[2, 8526], y=[469], edge_weight=[8526])\n",
      "\n",
      " Data(x=[311, 34], edge_index=[2, 5706], y=[311], edge_weight=[5706])\n",
      "\n",
      " Data(x=[217, 34], edge_index=[2, 3436], y=[217], edge_weight=[3436])\n",
      "\n",
      " Data(x=[217, 34], edge_index=[2, 3468], y=[217], edge_weight=[3468])\n",
      "\n",
      " Data(x=[202, 34], edge_index=[2, 3502], y=[202], edge_weight=[3502])\n",
      "\n",
      " Data(x=[220, 34], edge_index=[2, 3526], y=[220], edge_weight=[3526])\n",
      "\n",
      " Data(x=[220, 34], edge_index=[2, 3506], y=[220], edge_weight=[3506])\n",
      "\n",
      " Data(x=[99, 34], edge_index=[2, 1412], y=[99], edge_weight=[1412])\n",
      "\n",
      " Data(x=[99, 34], edge_index=[2, 1428], y=[99], edge_weight=[1428])\n",
      "\n",
      " Data(x=[528, 34], edge_index=[2, 10258], y=[528], edge_weight=[10258])\n"
     ]
    },
    {
     "name": "stderr",
     "output_type": "stream",
     "text": [
      " 60%|█████████████████████████████████████▍                        | 120/199 [00:01<00:01, 64.53it/s]"
     ]
    },
    {
     "name": "stdout",
     "output_type": "stream",
     "text": [
      "\n",
      " Data(x=[330, 34], edge_index=[2, 5808], y=[330], edge_weight=[5808])\n",
      "\n",
      " Data(x=[490, 34], edge_index=[2, 9424], y=[490], edge_weight=[9424])\n",
      "\n",
      " Data(x=[376, 34], edge_index=[2, 6926], y=[376], edge_weight=[6926])\n",
      "\n",
      " Data(x=[373, 34], edge_index=[2, 6928], y=[373], edge_weight=[6928])\n",
      "\n",
      " Data(x=[376, 34], edge_index=[2, 7556], y=[376], edge_weight=[7556])\n",
      "\n",
      " Data(x=[373, 34], edge_index=[2, 7498], y=[373], edge_weight=[7498])\n",
      "\n",
      " Data(x=[249, 34], edge_index=[2, 4102], y=[249], edge_weight=[4102])\n",
      "\n",
      " Data(x=[376, 34], edge_index=[2, 7478], y=[376], edge_weight=[7478])\n",
      "\n",
      " Data(x=[373, 34], edge_index=[2, 7406], y=[373], edge_weight=[7406])\n",
      "\n",
      " Data(x=[99, 34], edge_index=[2, 1434], y=[99], edge_weight=[1434])\n",
      "\n",
      " Data(x=[99, 34], edge_index=[2, 1430], y=[99], edge_weight=[1430])\n",
      "\n",
      " Data(x=[99, 34], edge_index=[2, 1388], y=[99], edge_weight=[1388])\n",
      "\n",
      " Data(x=[99, 34], edge_index=[2, 1394], y=[99], edge_weight=[1394])\n",
      "\n",
      " Data(x=[99, 34], edge_index=[2, 1382], y=[99], edge_weight=[1382])\n"
     ]
    },
    {
     "name": "stderr",
     "output_type": "stream",
     "text": [
      " 68%|██████████████████████████████████████████                    | 135/199 [00:01<00:00, 81.41it/s]"
     ]
    },
    {
     "name": "stdout",
     "output_type": "stream",
     "text": [
      "\n",
      " Data(x=[99, 34], edge_index=[2, 1376], y=[99], edge_weight=[1376])\n",
      "\n",
      " Data(x=[99, 34], edge_index=[2, 1388], y=[99], edge_weight=[1388])\n",
      "\n",
      " Data(x=[99, 34], edge_index=[2, 1396], y=[99], edge_weight=[1396])\n",
      "\n",
      " Data(x=[99, 34], edge_index=[2, 1416], y=[99], edge_weight=[1416])\n",
      "\n",
      " Data(x=[99, 34], edge_index=[2, 1418], y=[99], edge_weight=[1418])\n",
      "\n",
      " Data(x=[99, 34], edge_index=[2, 1426], y=[99], edge_weight=[1426])\n",
      "\n",
      " Data(x=[99, 34], edge_index=[2, 1442], y=[99], edge_weight=[1442])\n",
      "\n",
      " Data(x=[99, 34], edge_index=[2, 1398], y=[99], edge_weight=[1398])\n",
      "\n",
      " Data(x=[99, 34], edge_index=[2, 1396], y=[99], edge_weight=[1396])\n",
      "\n",
      " Data(x=[99, 34], edge_index=[2, 1384], y=[99], edge_weight=[1384])\n",
      "\n",
      " Data(x=[399, 34], edge_index=[2, 6414], y=[399], edge_weight=[6414])\n",
      "\n",
      " Data(x=[134, 34], edge_index=[2, 2126], y=[134], edge_weight=[2126])\n",
      "\n",
      " Data(x=[523, 34], edge_index=[2, 8264], y=[523], edge_weight=[8264])\n",
      "\n",
      " Data(x=[395, 34], edge_index=[2, 6286], y=[395], edge_weight=[6286])\n"
     ]
    },
    {
     "name": "stderr",
     "output_type": "stream",
     "text": [
      " 73%|█████████████████████████████████████████████▏                | 145/199 [00:02<00:00, 62.40it/s]"
     ]
    },
    {
     "name": "stdout",
     "output_type": "stream",
     "text": [
      "\n",
      " Data(x=[767, 34], edge_index=[2, 14964], y=[767], edge_weight=[14964])\n",
      "\n",
      " Data(x=[534, 34], edge_index=[2, 10284], y=[534], edge_weight=[10284])\n",
      "\n",
      " Data(x=[186, 34], edge_index=[2, 2908], y=[186], edge_weight=[2908])\n",
      "\n",
      " Data(x=[502, 34], edge_index=[2, 9474], y=[502], edge_weight=[9474])\n",
      "\n",
      " Data(x=[447, 34], edge_index=[2, 8248], y=[447], edge_weight=[8248])\n",
      "\n",
      " Data(x=[99, 34], edge_index=[2, 1402], y=[99], edge_weight=[1402])\n",
      "\n",
      " Data(x=[123, 34], edge_index=[2, 1974], y=[123], edge_weight=[1974])\n",
      "\n",
      " Data(x=[99, 34], edge_index=[2, 1454], y=[99], edge_weight=[1454])\n",
      "\n",
      " Data(x=[99, 34], edge_index=[2, 1486], y=[99], edge_weight=[1486])\n",
      "\n",
      " Data(x=[99, 34], edge_index=[2, 1450], y=[99], edge_weight=[1450])\n",
      "\n",
      " Data(x=[99, 34], edge_index=[2, 1458], y=[99], edge_weight=[1458])\n",
      "\n",
      " Data(x=[99, 34], edge_index=[2, 1450], y=[99], edge_weight=[1450])\n",
      "\n",
      " Data(x=[99, 34], edge_index=[2, 1472], y=[99], edge_weight=[1472])\n",
      "\n",
      " Data(x=[99, 34], edge_index=[2, 1442], y=[99], edge_weight=[1442])\n",
      "\n",
      " Data(x=[99, 34], edge_index=[2, 1442], y=[99], edge_weight=[1442])\n",
      "\n",
      " Data(x=[99, 34], edge_index=[2, 1408], y=[99], edge_weight=[1408])\n",
      "\n",
      " Data(x=[99, 34], edge_index=[2, 1460], y=[99], edge_weight=[1460])\n",
      "\n",
      " Data(x=[99, 34], edge_index=[2, 1448], y=[99], edge_weight=[1448])\n",
      "\n",
      " Data(x=[99, 34], edge_index=[2, 1464], y=[99], edge_weight=[1464])\n",
      "\n",
      " Data(x=[99, 34], edge_index=[2, 1470], y=[99], edge_weight=[1470])\n",
      "\n",
      " Data(x=[99, 34], edge_index=[2, 1504], y=[99], edge_weight=[1504])\n"
     ]
    },
    {
     "name": "stderr",
     "output_type": "stream",
     "text": [
      " 85%|████████████████████████████████████████████████████▉         | 170/199 [00:02<00:00, 69.11it/s]"
     ]
    },
    {
     "name": "stdout",
     "output_type": "stream",
     "text": [
      "\n",
      " Data(x=[520, 34], edge_index=[2, 8324], y=[520], edge_weight=[8324])\n",
      "\n",
      " Data(x=[403, 34], edge_index=[2, 6540], y=[403], edge_weight=[6540])\n",
      "\n",
      " Data(x=[543, 34], edge_index=[2, 8710], y=[543], edge_weight=[8710])\n",
      "\n",
      " Data(x=[542, 34], edge_index=[2, 8666], y=[542], edge_weight=[8666])\n",
      "\n",
      " Data(x=[408, 34], edge_index=[2, 6426], y=[408], edge_weight=[6426])\n",
      "\n",
      " Data(x=[315, 34], edge_index=[2, 5620], y=[315], edge_weight=[5620])\n",
      "\n",
      " Data(x=[262, 34], edge_index=[2, 4966], y=[262], edge_weight=[4966])\n",
      "\n",
      " Data(x=[147, 34], edge_index=[2, 2666], y=[147], edge_weight=[2666])\n",
      "\n",
      " Data(x=[124, 34], edge_index=[2, 1996], y=[124], edge_weight=[1996])\n",
      "\n",
      " Data(x=[124, 34], edge_index=[2, 1982], y=[124], edge_weight=[1982])\n",
      "\n",
      " Data(x=[124, 34], edge_index=[2, 1994], y=[124], edge_weight=[1994])\n"
     ]
    },
    {
     "name": "stderr",
     "output_type": "stream",
     "text": [
      " 90%|███████████████████████████████████████████████████████▊      | 179/199 [00:02<00:00, 72.78it/s]"
     ]
    },
    {
     "name": "stdout",
     "output_type": "stream",
     "text": [
      "\n",
      " Data(x=[124, 34], edge_index=[2, 1974], y=[124], edge_weight=[1974])\n",
      "\n",
      " Data(x=[585, 34], edge_index=[2, 10754], y=[585], edge_weight=[10754])\n",
      "\n",
      " Data(x=[585, 34], edge_index=[2, 10582], y=[585], edge_weight=[10582])\n",
      "\n",
      " Data(x=[164, 34], edge_index=[2, 2672], y=[164], edge_weight=[2672])\n",
      "\n",
      " Data(x=[164, 34], edge_index=[2, 2710], y=[164], edge_weight=[2710])\n",
      "\n",
      " Data(x=[99, 34], edge_index=[2, 1384], y=[99], edge_weight=[1384])\n",
      "\n",
      " Data(x=[99, 34], edge_index=[2, 1400], y=[99], edge_weight=[1400])\n",
      "\n",
      " Data(x=[99, 34], edge_index=[2, 1376], y=[99], edge_weight=[1376])\n",
      "\n",
      " Data(x=[99, 34], edge_index=[2, 1388], y=[99], edge_weight=[1388])\n",
      "\n",
      " Data(x=[284, 34], edge_index=[2, 5082], y=[284], edge_weight=[5082])\n",
      "\n",
      " Data(x=[284, 34], edge_index=[2, 5138], y=[284], edge_weight=[5138])\n",
      "\n",
      " Data(x=[186, 34], edge_index=[2, 2888], y=[186], edge_weight=[2888])\n"
     ]
    },
    {
     "name": "stderr",
     "output_type": "stream",
     "text": [
      " 98%|█████████████████████████████████████████████████████████████ | 196/199 [00:02<00:00, 66.20it/s]"
     ]
    },
    {
     "name": "stdout",
     "output_type": "stream",
     "text": [
      "\n",
      " Data(x=[529, 34], edge_index=[2, 10208], y=[529], edge_weight=[10208])\n",
      "\n",
      " Data(x=[532, 34], edge_index=[2, 10354], y=[532], edge_weight=[10354])\n",
      "\n",
      " Data(x=[217, 34], edge_index=[2, 3434], y=[217], edge_weight=[3434])\n",
      "\n",
      " Data(x=[217, 34], edge_index=[2, 3446], y=[217], edge_weight=[3446])\n",
      "\n",
      " Data(x=[99, 34], edge_index=[2, 1410], y=[99], edge_weight=[1410])\n",
      "\n",
      " Data(x=[99, 34], edge_index=[2, 1410], y=[99], edge_weight=[1410])\n",
      "\n",
      " Data(x=[99, 34], edge_index=[2, 1402], y=[99], edge_weight=[1402])\n",
      "\n",
      " Data(x=[99, 34], edge_index=[2, 1376], y=[99], edge_weight=[1376])\n",
      "\n",
      " Data(x=[99, 34], edge_index=[2, 1408], y=[99], edge_weight=[1408])\n",
      "\n",
      " Data(x=[99, 34], edge_index=[2, 1392], y=[99], edge_weight=[1392])\n",
      "\n",
      " Data(x=[558, 34], edge_index=[2, 9116], y=[558], edge_weight=[9116])\n",
      "\n",
      " Data(x=[427, 34], edge_index=[2, 6880], y=[427], edge_weight=[6880])\n",
      "\n",
      " Data(x=[558, 34], edge_index=[2, 9054], y=[558], edge_weight=[9054])\n",
      "\n",
      " Data(x=[427, 34], edge_index=[2, 6794], y=[427], edge_weight=[6794])\n",
      "\n",
      " Data(x=[99, 34], edge_index=[2, 1408], y=[99], edge_weight=[1408])\n",
      "\n",
      " Data(x=[99, 34], edge_index=[2, 1436], y=[99], edge_weight=[1436])\n"
     ]
    },
    {
     "name": "stderr",
     "output_type": "stream",
     "text": [
      "100%|██████████████████████████████████████████████████████████████| 199/199 [00:02<00:00, 69.11it/s]\n"
     ]
    },
    {
     "name": "stdout",
     "output_type": "stream",
     "text": [
      "\n",
      " Data(x=[163, 34], edge_index=[2, 2488], y=[163], edge_weight=[2488])\n",
      "[INFO ] set 2\n"
     ]
    },
    {
     "name": "stderr",
     "output_type": "stream",
     "text": [
      "  7%|████                                                          | 13/199 [00:00<00:01, 127.28it/s]"
     ]
    },
    {
     "name": "stdout",
     "output_type": "stream",
     "text": [
      "\n",
      " Data(x=[144, 34], edge_index=[2, 2010], y=[144], edge_weight=[2010])\n",
      "\n",
      " Data(x=[260, 34], edge_index=[2, 4886], y=[260], edge_weight=[4886])\n",
      "\n",
      " Data(x=[249, 34], edge_index=[2, 4630], y=[249], edge_weight=[4630])\n",
      "\n",
      " Data(x=[258, 34], edge_index=[2, 4908], y=[258], edge_weight=[4908])\n",
      "\n",
      " Data(x=[99, 34], edge_index=[2, 1430], y=[99], edge_weight=[1430])\n",
      "\n",
      " Data(x=[99, 34], edge_index=[2, 1422], y=[99], edge_weight=[1422])\n",
      "\n",
      " Data(x=[99, 34], edge_index=[2, 1434], y=[99], edge_weight=[1434])\n",
      "\n",
      " Data(x=[99, 34], edge_index=[2, 1416], y=[99], edge_weight=[1416])\n",
      "\n",
      " Data(x=[99, 34], edge_index=[2, 1412], y=[99], edge_weight=[1412])\n",
      "\n",
      " Data(x=[99, 34], edge_index=[2, 1442], y=[99], edge_weight=[1442])\n",
      "\n",
      " Data(x=[99, 34], edge_index=[2, 1446], y=[99], edge_weight=[1446])\n",
      "\n",
      " Data(x=[99, 34], edge_index=[2, 1418], y=[99], edge_weight=[1418])\n",
      "\n",
      " Data(x=[99, 34], edge_index=[2, 1402], y=[99], edge_weight=[1402])\n",
      "\n",
      " Data(x=[99, 34], edge_index=[2, 1380], y=[99], edge_weight=[1380])\n"
     ]
    },
    {
     "name": "stderr",
     "output_type": "stream",
     "text": [
      " 13%|████████▏                                                      | 26/199 [00:00<00:02, 64.37it/s]"
     ]
    },
    {
     "name": "stdout",
     "output_type": "stream",
     "text": [
      "\n",
      " Data(x=[1058, 34], edge_index=[2, 21656], y=[1058], edge_weight=[21656])\n",
      "\n",
      " Data(x=[528, 34], edge_index=[2, 10102], y=[528], edge_weight=[10102])\n",
      "\n",
      " Data(x=[470, 34], edge_index=[2, 8870], y=[470], edge_weight=[8870])\n",
      "\n",
      " Data(x=[274, 34], edge_index=[2, 4484], y=[274], edge_weight=[4484])\n",
      "\n",
      " Data(x=[319, 34], edge_index=[2, 5696], y=[319], edge_weight=[5696])\n",
      "\n",
      " Data(x=[253, 34], edge_index=[2, 4686], y=[253], edge_weight=[4686])\n",
      "\n",
      " Data(x=[255, 34], edge_index=[2, 4792], y=[255], edge_weight=[4792])\n",
      "\n",
      " Data(x=[99, 34], edge_index=[2, 1432], y=[99], edge_weight=[1432])\n",
      "\n",
      " Data(x=[99, 34], edge_index=[2, 1452], y=[99], edge_weight=[1452])\n",
      "\n",
      " Data(x=[99, 34], edge_index=[2, 1396], y=[99], edge_weight=[1396])\n",
      "\n",
      " Data(x=[99, 34], edge_index=[2, 1380], y=[99], edge_weight=[1380])\n",
      "\n",
      " Data(x=[147, 34], edge_index=[2, 2664], y=[147], edge_weight=[2664])\n",
      "\n",
      " Data(x=[147, 34], edge_index=[2, 2686], y=[147], edge_weight=[2686])\n",
      "\n",
      " Data(x=[147, 34], edge_index=[2, 2624], y=[147], edge_weight=[2624])\n",
      "\n",
      " Data(x=[218, 34], edge_index=[2, 3554], y=[218], edge_weight=[3554])\n"
     ]
    },
    {
     "name": "stderr",
     "output_type": "stream",
     "text": [
      " 23%|██████████████▏                                                | 45/199 [00:00<00:02, 74.10it/s]"
     ]
    },
    {
     "name": "stdout",
     "output_type": "stream",
     "text": [
      "\n",
      " Data(x=[455, 34], edge_index=[2, 8980], y=[455], edge_weight=[8980])\n",
      "\n",
      " Data(x=[455, 34], edge_index=[2, 8986], y=[455], edge_weight=[8986])\n",
      "\n",
      " Data(x=[281, 34], edge_index=[2, 4468], y=[281], edge_weight=[4468])\n",
      "\n",
      " Data(x=[280, 34], edge_index=[2, 4434], y=[280], edge_weight=[4434])\n",
      "\n",
      " Data(x=[200, 34], edge_index=[2, 3534], y=[200], edge_weight=[3534])\n",
      "\n",
      " Data(x=[147, 34], edge_index=[2, 2676], y=[147], edge_weight=[2676])\n",
      "\n",
      " Data(x=[254, 34], edge_index=[2, 4644], y=[254], edge_weight=[4644])\n",
      "\n",
      " Data(x=[254, 34], edge_index=[2, 4510], y=[254], edge_weight=[4510])\n",
      "\n",
      " Data(x=[254, 34], edge_index=[2, 4518], y=[254], edge_weight=[4518])\n",
      "\n",
      " Data(x=[254, 34], edge_index=[2, 4516], y=[254], edge_weight=[4516])\n",
      "\n",
      " Data(x=[254, 34], edge_index=[2, 4494], y=[254], edge_weight=[4494])\n",
      "\n",
      " Data(x=[269, 34], edge_index=[2, 4428], y=[269], edge_weight=[4428])\n",
      "\n",
      " Data(x=[99, 34], edge_index=[2, 1404], y=[99], edge_weight=[1404])\n",
      "\n",
      " Data(x=[99, 34], edge_index=[2, 1370], y=[99], edge_weight=[1370])\n",
      "\n",
      " Data(x=[99, 34], edge_index=[2, 1426], y=[99], edge_weight=[1426])\n",
      "\n",
      " Data(x=[99, 34], edge_index=[2, 1408], y=[99], edge_weight=[1408])\n",
      "\n",
      " Data(x=[99, 34], edge_index=[2, 1418], y=[99], edge_weight=[1418])\n",
      "\n",
      " Data(x=[99, 34], edge_index=[2, 1438], y=[99], edge_weight=[1438])\n"
     ]
    },
    {
     "name": "stderr",
     "output_type": "stream",
     "text": [
      " 27%|█████████████████                                              | 54/199 [00:00<00:02, 68.19it/s]"
     ]
    },
    {
     "name": "stdout",
     "output_type": "stream",
     "text": [
      "\n",
      " Data(x=[253, 34], edge_index=[2, 4756], y=[253], edge_weight=[4756])\n",
      "\n",
      " Data(x=[382, 34], edge_index=[2, 7204], y=[382], edge_weight=[7204])\n",
      "\n",
      " Data(x=[382, 34], edge_index=[2, 7184], y=[382], edge_weight=[7184])\n",
      "\n",
      " Data(x=[383, 34], edge_index=[2, 7546], y=[383], edge_weight=[7546])\n",
      "\n",
      " Data(x=[99, 34], edge_index=[2, 1438], y=[99], edge_weight=[1438])\n",
      "\n",
      " Data(x=[99, 34], edge_index=[2, 1414], y=[99], edge_weight=[1414])\n",
      "\n",
      " Data(x=[99, 34], edge_index=[2, 1442], y=[99], edge_weight=[1442])\n",
      "\n",
      " Data(x=[99, 34], edge_index=[2, 1394], y=[99], edge_weight=[1394])\n",
      "\n",
      " Data(x=[99, 34], edge_index=[2, 1552], y=[99], edge_weight=[1552])\n",
      "\n",
      " Data(x=[99, 34], edge_index=[2, 1550], y=[99], edge_weight=[1550])\n",
      "\n",
      " Data(x=[99, 34], edge_index=[2, 1592], y=[99], edge_weight=[1592])\n",
      "\n",
      " Data(x=[99, 34], edge_index=[2, 1606], y=[99], edge_weight=[1606])\n",
      "\n",
      " Data(x=[350, 34], edge_index=[2, 7120], y=[350], edge_weight=[7120])\n",
      "\n",
      " Data(x=[99, 34], edge_index=[2, 1434], y=[99], edge_weight=[1434])\n",
      "\n",
      " Data(x=[99, 34], edge_index=[2, 1408], y=[99], edge_weight=[1408])\n",
      "\n",
      " Data(x=[99, 34], edge_index=[2, 1416], y=[99], edge_weight=[1416])\n",
      "\n",
      " Data(x=[99, 34], edge_index=[2, 1396], y=[99], edge_weight=[1396])\n"
     ]
    },
    {
     "name": "stderr",
     "output_type": "stream",
     "text": [
      " 33%|████████████████████▉                                          | 66/199 [00:00<00:01, 71.58it/s]"
     ]
    },
    {
     "name": "stdout",
     "output_type": "stream",
     "text": [
      "\n",
      " Data(x=[347, 34], edge_index=[2, 6952], y=[347], edge_weight=[6952])\n",
      "\n",
      " Data(x=[1073, 34], edge_index=[2, 22028], y=[1073], edge_weight=[22028])\n",
      "\n",
      " Data(x=[213, 34], edge_index=[2, 3662], y=[213], edge_weight=[3662])\n",
      "\n",
      " Data(x=[213, 34], edge_index=[2, 3662], y=[213], edge_weight=[3662])\n",
      "\n",
      " Data(x=[585, 34], edge_index=[2, 10254], y=[585], edge_weight=[10254])\n"
     ]
    },
    {
     "name": "stderr",
     "output_type": "stream",
     "text": [
      " 37%|███████████████████████▍                                       | 74/199 [00:01<00:02, 54.62it/s]"
     ]
    },
    {
     "name": "stdout",
     "output_type": "stream",
     "text": [
      "\n",
      " Data(x=[491, 34], edge_index=[2, 7858], y=[491], edge_weight=[7858])\n",
      "\n",
      " Data(x=[539, 34], edge_index=[2, 8718], y=[539], edge_weight=[8718])\n",
      "\n",
      " Data(x=[414, 34], edge_index=[2, 6626], y=[414], edge_weight=[6626])\n",
      "\n",
      " Data(x=[537, 34], edge_index=[2, 8406], y=[537], edge_weight=[8406])\n",
      "\n",
      " Data(x=[537, 34], edge_index=[2, 8614], y=[537], edge_weight=[8614])\n",
      "\n",
      " Data(x=[349, 34], edge_index=[2, 7050], y=[349], edge_weight=[7050])\n",
      "\n",
      " Data(x=[262, 34], edge_index=[2, 4894], y=[262], edge_weight=[4894])\n",
      "\n",
      " Data(x=[262, 34], edge_index=[2, 4870], y=[262], edge_weight=[4870])\n",
      "\n",
      " Data(x=[99, 34], edge_index=[2, 1402], y=[99], edge_weight=[1402])\n",
      "\n",
      " Data(x=[99, 34], edge_index=[2, 1394], y=[99], edge_weight=[1394])\n",
      "\n",
      " Data(x=[217, 34], edge_index=[2, 3370], y=[217], edge_weight=[3370])\n",
      "\n",
      " Data(x=[217, 34], edge_index=[2, 3374], y=[217], edge_weight=[3374])\n",
      "\n",
      " Data(x=[147, 34], edge_index=[2, 2656], y=[147], edge_weight=[2656])\n"
     ]
    },
    {
     "name": "stderr",
     "output_type": "stream",
     "text": [
      " 46%|█████████████████████████████▏                                 | 92/199 [00:01<00:01, 63.74it/s]"
     ]
    },
    {
     "name": "stdout",
     "output_type": "stream",
     "text": [
      "\n",
      " Data(x=[242, 34], edge_index=[2, 4438], y=[242], edge_weight=[4438])\n",
      "\n",
      " Data(x=[360, 34], edge_index=[2, 6974], y=[360], edge_weight=[6974])\n",
      "\n",
      " Data(x=[364, 34], edge_index=[2, 7148], y=[364], edge_weight=[7148])\n",
      "\n",
      " Data(x=[99, 34], edge_index=[2, 1420], y=[99], edge_weight=[1420])\n",
      "\n",
      " Data(x=[99, 34], edge_index=[2, 1412], y=[99], edge_weight=[1412])\n",
      "\n",
      " Data(x=[99, 34], edge_index=[2, 1404], y=[99], edge_weight=[1404])\n",
      "\n",
      " Data(x=[99, 34], edge_index=[2, 1402], y=[99], edge_weight=[1402])\n",
      "\n",
      " Data(x=[99, 34], edge_index=[2, 1408], y=[99], edge_weight=[1408])\n",
      "\n",
      " Data(x=[99, 34], edge_index=[2, 1406], y=[99], edge_weight=[1406])\n",
      "\n",
      " Data(x=[177, 34], edge_index=[2, 3176], y=[177], edge_weight=[3176])\n",
      "\n",
      " Data(x=[99, 34], edge_index=[2, 1392], y=[99], edge_weight=[1392])\n",
      "\n",
      " Data(x=[99, 34], edge_index=[2, 1406], y=[99], edge_weight=[1406])\n",
      "\n",
      " Data(x=[99, 34], edge_index=[2, 1456], y=[99], edge_weight=[1456])\n",
      "\n",
      " Data(x=[99, 34], edge_index=[2, 1462], y=[99], edge_weight=[1462])\n",
      "\n",
      " Data(x=[99, 34], edge_index=[2, 1394], y=[99], edge_weight=[1394])\n",
      "\n",
      " Data(x=[99, 34], edge_index=[2, 1390], y=[99], edge_weight=[1390])\n",
      "\n",
      " Data(x=[99, 34], edge_index=[2, 1426], y=[99], edge_weight=[1426])\n",
      "\n",
      " Data(x=[99, 34], edge_index=[2, 1410], y=[99], edge_weight=[1410])\n"
     ]
    },
    {
     "name": "stderr",
     "output_type": "stream",
     "text": [
      " 56%|██████████████████████████████████▉                           | 112/199 [00:01<00:01, 72.90it/s]"
     ]
    },
    {
     "name": "stdout",
     "output_type": "stream",
     "text": [
      "\n",
      " Data(x=[469, 34], edge_index=[2, 8526], y=[469], edge_weight=[8526])\n",
      "\n",
      " Data(x=[311, 34], edge_index=[2, 5706], y=[311], edge_weight=[5706])\n",
      "\n",
      " Data(x=[217, 34], edge_index=[2, 3436], y=[217], edge_weight=[3436])\n",
      "\n",
      " Data(x=[217, 34], edge_index=[2, 3468], y=[217], edge_weight=[3468])\n",
      "\n",
      " Data(x=[202, 34], edge_index=[2, 3502], y=[202], edge_weight=[3502])\n",
      "\n",
      " Data(x=[220, 34], edge_index=[2, 3526], y=[220], edge_weight=[3526])\n",
      "\n",
      " Data(x=[220, 34], edge_index=[2, 3506], y=[220], edge_weight=[3506])\n",
      "\n",
      " Data(x=[99, 34], edge_index=[2, 1412], y=[99], edge_weight=[1412])\n",
      "\n",
      " Data(x=[99, 34], edge_index=[2, 1428], y=[99], edge_weight=[1428])\n",
      "\n",
      " Data(x=[528, 34], edge_index=[2, 10258], y=[528], edge_weight=[10258])\n",
      "\n",
      " Data(x=[330, 34], edge_index=[2, 5808], y=[330], edge_weight=[5808])\n",
      "\n",
      " Data(x=[490, 34], edge_index=[2, 9424], y=[490], edge_weight=[9424])\n",
      "\n",
      " Data(x=[376, 34], edge_index=[2, 6926], y=[376], edge_weight=[6926])\n",
      "\n",
      " Data(x=[373, 34], edge_index=[2, 6928], y=[373], edge_weight=[6928])\n"
     ]
    },
    {
     "name": "stderr",
     "output_type": "stream",
     "text": [
      " 60%|█████████████████████████████████████▍                        | 120/199 [00:01<00:01, 60.52it/s]"
     ]
    },
    {
     "name": "stdout",
     "output_type": "stream",
     "text": [
      "\n",
      " Data(x=[376, 34], edge_index=[2, 7556], y=[376], edge_weight=[7556])\n",
      "\n",
      " Data(x=[373, 34], edge_index=[2, 7498], y=[373], edge_weight=[7498])\n",
      "\n",
      " Data(x=[249, 34], edge_index=[2, 4102], y=[249], edge_weight=[4102])\n",
      "\n",
      " Data(x=[376, 34], edge_index=[2, 7478], y=[376], edge_weight=[7478])\n",
      "\n",
      " Data(x=[373, 34], edge_index=[2, 7406], y=[373], edge_weight=[7406])\n",
      "\n",
      " Data(x=[99, 34], edge_index=[2, 1434], y=[99], edge_weight=[1434])\n",
      "\n",
      " Data(x=[99, 34], edge_index=[2, 1430], y=[99], edge_weight=[1430])\n",
      "\n",
      " Data(x=[99, 34], edge_index=[2, 1388], y=[99], edge_weight=[1388])\n",
      "\n",
      " Data(x=[99, 34], edge_index=[2, 1394], y=[99], edge_weight=[1394])\n",
      "\n",
      " Data(x=[99, 34], edge_index=[2, 1382], y=[99], edge_weight=[1382])\n",
      "\n",
      " Data(x=[99, 34], edge_index=[2, 1376], y=[99], edge_weight=[1376])\n",
      "\n",
      " Data(x=[99, 34], edge_index=[2, 1388], y=[99], edge_weight=[1388])\n",
      "\n",
      " Data(x=[99, 34], edge_index=[2, 1396], y=[99], edge_weight=[1396])\n",
      "\n",
      " Data(x=[99, 34], edge_index=[2, 1416], y=[99], edge_weight=[1416])\n",
      "\n",
      " Data(x=[99, 34], edge_index=[2, 1418], y=[99], edge_weight=[1418])\n",
      "\n",
      " Data(x=[99, 34], edge_index=[2, 1426], y=[99], edge_weight=[1426])\n",
      "\n",
      " Data(x=[99, 34], edge_index=[2, 1442], y=[99], edge_weight=[1442])\n",
      "\n",
      " Data(x=[99, 34], edge_index=[2, 1398], y=[99], edge_weight=[1398])\n",
      "\n",
      " Data(x=[99, 34], edge_index=[2, 1396], y=[99], edge_weight=[1396])\n"
     ]
    },
    {
     "name": "stderr",
     "output_type": "stream",
     "text": [
      " 69%|██████████████████████████████████████████▋                   | 137/199 [00:01<00:00, 81.07it/s]"
     ]
    },
    {
     "name": "stdout",
     "output_type": "stream",
     "text": [
      "\n",
      " Data(x=[99, 34], edge_index=[2, 1384], y=[99], edge_weight=[1384])\n",
      "\n",
      " Data(x=[399, 34], edge_index=[2, 6414], y=[399], edge_weight=[6414])\n",
      "\n",
      " Data(x=[134, 34], edge_index=[2, 2126], y=[134], edge_weight=[2126])\n",
      "\n",
      " Data(x=[523, 34], edge_index=[2, 8264], y=[523], edge_weight=[8264])\n",
      "\n",
      " Data(x=[395, 34], edge_index=[2, 6286], y=[395], edge_weight=[6286])\n",
      "\n",
      " Data(x=[767, 34], edge_index=[2, 14964], y=[767], edge_weight=[14964])\n",
      "\n",
      " Data(x=[534, 34], edge_index=[2, 10284], y=[534], edge_weight=[10284])\n",
      "\n",
      " Data(x=[186, 34], edge_index=[2, 2908], y=[186], edge_weight=[2908])\n",
      "\n",
      " Data(x=[502, 34], edge_index=[2, 9474], y=[502], edge_weight=[9474])\n"
     ]
    },
    {
     "name": "stderr",
     "output_type": "stream",
     "text": [
      " 81%|██████████████████████████████████████████████████▏           | 161/199 [00:02<00:00, 79.55it/s]"
     ]
    },
    {
     "name": "stdout",
     "output_type": "stream",
     "text": [
      "\n",
      " Data(x=[447, 34], edge_index=[2, 8248], y=[447], edge_weight=[8248])\n",
      "\n",
      " Data(x=[99, 34], edge_index=[2, 1402], y=[99], edge_weight=[1402])\n",
      "\n",
      " Data(x=[123, 34], edge_index=[2, 1974], y=[123], edge_weight=[1974])\n",
      "\n",
      " Data(x=[99, 34], edge_index=[2, 1454], y=[99], edge_weight=[1454])\n",
      "\n",
      " Data(x=[99, 34], edge_index=[2, 1486], y=[99], edge_weight=[1486])\n",
      "\n",
      " Data(x=[99, 34], edge_index=[2, 1450], y=[99], edge_weight=[1450])\n",
      "\n",
      " Data(x=[99, 34], edge_index=[2, 1458], y=[99], edge_weight=[1458])\n",
      "\n",
      " Data(x=[99, 34], edge_index=[2, 1450], y=[99], edge_weight=[1450])\n",
      "\n",
      " Data(x=[99, 34], edge_index=[2, 1472], y=[99], edge_weight=[1472])\n",
      "\n",
      " Data(x=[99, 34], edge_index=[2, 1442], y=[99], edge_weight=[1442])\n",
      "\n",
      " Data(x=[99, 34], edge_index=[2, 1442], y=[99], edge_weight=[1442])\n",
      "\n",
      " Data(x=[99, 34], edge_index=[2, 1408], y=[99], edge_weight=[1408])\n",
      "\n",
      " Data(x=[99, 34], edge_index=[2, 1460], y=[99], edge_weight=[1460])\n",
      "\n",
      " Data(x=[99, 34], edge_index=[2, 1448], y=[99], edge_weight=[1448])\n",
      "\n",
      " Data(x=[99, 34], edge_index=[2, 1464], y=[99], edge_weight=[1464])\n",
      "\n",
      " Data(x=[99, 34], edge_index=[2, 1470], y=[99], edge_weight=[1470])\n",
      "\n",
      " Data(x=[99, 34], edge_index=[2, 1504], y=[99], edge_weight=[1504])\n",
      "\n",
      " Data(x=[520, 34], edge_index=[2, 8324], y=[520], edge_weight=[8324])\n",
      "\n",
      " Data(x=[403, 34], edge_index=[2, 6540], y=[403], edge_weight=[6540])\n",
      "\n",
      " Data(x=[543, 34], edge_index=[2, 8710], y=[543], edge_weight=[8710])\n",
      "\n",
      " Data(x=[542, 34], edge_index=[2, 8666], y=[542], edge_weight=[8666])\n"
     ]
    },
    {
     "name": "stderr",
     "output_type": "stream",
     "text": [
      " 90%|███████████████████████████████████████████████████████▊      | 179/199 [00:02<00:00, 78.13it/s]"
     ]
    },
    {
     "name": "stdout",
     "output_type": "stream",
     "text": [
      "\n",
      " Data(x=[408, 34], edge_index=[2, 6426], y=[408], edge_weight=[6426])\n",
      "\n",
      " Data(x=[315, 34], edge_index=[2, 5620], y=[315], edge_weight=[5620])\n",
      "\n",
      " Data(x=[262, 34], edge_index=[2, 4966], y=[262], edge_weight=[4966])\n",
      "\n",
      " Data(x=[147, 34], edge_index=[2, 2666], y=[147], edge_weight=[2666])\n",
      "\n",
      " Data(x=[124, 34], edge_index=[2, 1996], y=[124], edge_weight=[1996])\n",
      "\n",
      " Data(x=[124, 34], edge_index=[2, 1982], y=[124], edge_weight=[1982])\n",
      "\n",
      " Data(x=[124, 34], edge_index=[2, 1994], y=[124], edge_weight=[1994])\n",
      "\n",
      " Data(x=[124, 34], edge_index=[2, 1974], y=[124], edge_weight=[1974])\n",
      "\n",
      " Data(x=[585, 34], edge_index=[2, 10754], y=[585], edge_weight=[10754])\n",
      "\n",
      " Data(x=[585, 34], edge_index=[2, 10582], y=[585], edge_weight=[10582])\n",
      "\n",
      " Data(x=[164, 34], edge_index=[2, 2672], y=[164], edge_weight=[2672])\n",
      "\n",
      " Data(x=[164, 34], edge_index=[2, 2710], y=[164], edge_weight=[2710])\n",
      "\n",
      " Data(x=[99, 34], edge_index=[2, 1384], y=[99], edge_weight=[1384])\n",
      "\n",
      " Data(x=[99, 34], edge_index=[2, 1400], y=[99], edge_weight=[1400])\n",
      "\n",
      " Data(x=[99, 34], edge_index=[2, 1376], y=[99], edge_weight=[1376])\n",
      "\n",
      " Data(x=[99, 34], edge_index=[2, 1388], y=[99], edge_weight=[1388])\n",
      "\n",
      " Data(x=[284, 34], edge_index=[2, 5082], y=[284], edge_weight=[5082])\n",
      "\n",
      " Data(x=[284, 34], edge_index=[2, 5138], y=[284], edge_weight=[5138])\n"
     ]
    },
    {
     "name": "stderr",
     "output_type": "stream",
     "text": [
      " 94%|██████████████████████████████████████████████████████████▌   | 188/199 [00:02<00:00, 68.69it/s]"
     ]
    },
    {
     "name": "stdout",
     "output_type": "stream",
     "text": [
      "\n",
      " Data(x=[186, 34], edge_index=[2, 2888], y=[186], edge_weight=[2888])\n",
      "\n",
      " Data(x=[529, 34], edge_index=[2, 10208], y=[529], edge_weight=[10208])\n",
      "\n",
      " Data(x=[532, 34], edge_index=[2, 10354], y=[532], edge_weight=[10354])\n",
      "\n",
      " Data(x=[217, 34], edge_index=[2, 3434], y=[217], edge_weight=[3434])\n",
      "\n",
      " Data(x=[217, 34], edge_index=[2, 3446], y=[217], edge_weight=[3446])\n",
      "\n",
      " Data(x=[99, 34], edge_index=[2, 1410], y=[99], edge_weight=[1410])\n",
      "\n",
      " Data(x=[99, 34], edge_index=[2, 1410], y=[99], edge_weight=[1410])\n",
      "\n",
      " Data(x=[99, 34], edge_index=[2, 1402], y=[99], edge_weight=[1402])\n",
      "\n",
      " Data(x=[99, 34], edge_index=[2, 1376], y=[99], edge_weight=[1376])\n",
      "\n",
      " Data(x=[99, 34], edge_index=[2, 1408], y=[99], edge_weight=[1408])\n",
      "\n",
      " Data(x=[99, 34], edge_index=[2, 1392], y=[99], edge_weight=[1392])\n",
      "\n",
      " Data(x=[558, 34], edge_index=[2, 9116], y=[558], edge_weight=[9116])\n"
     ]
    },
    {
     "name": "stderr",
     "output_type": "stream",
     "text": [
      "100%|██████████████████████████████████████████████████████████████| 199/199 [00:02<00:00, 69.83it/s]\n"
     ]
    },
    {
     "name": "stdout",
     "output_type": "stream",
     "text": [
      "\n",
      " Data(x=[427, 34], edge_index=[2, 6880], y=[427], edge_weight=[6880])\n",
      "\n",
      " Data(x=[558, 34], edge_index=[2, 9054], y=[558], edge_weight=[9054])\n",
      "\n",
      " Data(x=[427, 34], edge_index=[2, 6794], y=[427], edge_weight=[6794])\n",
      "\n",
      " Data(x=[99, 34], edge_index=[2, 1408], y=[99], edge_weight=[1408])\n",
      "\n",
      " Data(x=[99, 34], edge_index=[2, 1436], y=[99], edge_weight=[1436])\n",
      "\n",
      " Data(x=[163, 34], edge_index=[2, 2488], y=[163], edge_weight=[2488])\n",
      "[INFO ] set 3\n"
     ]
    },
    {
     "name": "stderr",
     "output_type": "stream",
     "text": [
      "  7%|████                                                          | 13/199 [00:00<00:01, 124.52it/s]"
     ]
    },
    {
     "name": "stdout",
     "output_type": "stream",
     "text": [
      "\n",
      " Data(x=[144, 34], edge_index=[2, 2010], y=[144], edge_weight=[2010])\n",
      "\n",
      " Data(x=[260, 34], edge_index=[2, 4886], y=[260], edge_weight=[4886])\n",
      "\n",
      " Data(x=[249, 34], edge_index=[2, 4630], y=[249], edge_weight=[4630])\n",
      "\n",
      " Data(x=[258, 34], edge_index=[2, 4908], y=[258], edge_weight=[4908])\n",
      "\n",
      " Data(x=[99, 34], edge_index=[2, 1430], y=[99], edge_weight=[1430])\n",
      "\n",
      " Data(x=[99, 34], edge_index=[2, 1422], y=[99], edge_weight=[1422])\n",
      "\n",
      " Data(x=[99, 34], edge_index=[2, 1434], y=[99], edge_weight=[1434])\n",
      "\n",
      " Data(x=[99, 34], edge_index=[2, 1416], y=[99], edge_weight=[1416])\n",
      "\n",
      " Data(x=[99, 34], edge_index=[2, 1412], y=[99], edge_weight=[1412])\n",
      "\n",
      " Data(x=[99, 34], edge_index=[2, 1442], y=[99], edge_weight=[1442])\n",
      "\n",
      " Data(x=[99, 34], edge_index=[2, 1446], y=[99], edge_weight=[1446])\n",
      "\n",
      " Data(x=[99, 34], edge_index=[2, 1418], y=[99], edge_weight=[1418])\n",
      "\n",
      " Data(x=[99, 34], edge_index=[2, 1402], y=[99], edge_weight=[1402])\n",
      "\n",
      " Data(x=[99, 34], edge_index=[2, 1380], y=[99], edge_weight=[1380])\n",
      "\n",
      " Data(x=[1058, 34], edge_index=[2, 21656], y=[1058], edge_weight=[21656])\n",
      "\n",
      " Data(x=[528, 34], edge_index=[2, 10102], y=[528], edge_weight=[10102])\n",
      "\n",
      " Data(x=[470, 34], edge_index=[2, 8870], y=[470], edge_weight=[8870])\n",
      "\n",
      " Data(x=[274, 34], edge_index=[2, 4484], y=[274], edge_weight=[4484])\n",
      "\n",
      " Data(x=[319, 34], edge_index=[2, 5696], y=[319], edge_weight=[5696])\n",
      "\n",
      " Data(x=[253, 34], edge_index=[2, 4686], y=[253], edge_weight=[4686])\n",
      "\n",
      " Data(x=[255, 34], edge_index=[2, 4792], y=[255], edge_weight=[4792])\n",
      "\n",
      " Data(x=[99, 34], edge_index=[2, 1432], y=[99], edge_weight=[1432])\n",
      "\n",
      " Data(x=[99, 34], edge_index=[2, 1452], y=[99], edge_weight=[1452])\n",
      "\n",
      " Data(x=[99, 34], edge_index=[2, 1396], y=[99], edge_weight=[1396])\n",
      "\n",
      " Data(x=[99, 34], edge_index=[2, 1380], y=[99], edge_weight=[1380])\n"
     ]
    },
    {
     "name": "stderr",
     "output_type": "stream",
     "text": [
      " 13%|████████▏                                                      | 26/199 [00:00<00:02, 63.66it/s]"
     ]
    },
    {
     "name": "stdout",
     "output_type": "stream",
     "text": [
      "\n",
      " Data(x=[147, 34], edge_index=[2, 2664], y=[147], edge_weight=[2664])\n",
      "\n",
      " Data(x=[147, 34], edge_index=[2, 2686], y=[147], edge_weight=[2686])\n",
      "\n",
      " Data(x=[147, 34], edge_index=[2, 2624], y=[147], edge_weight=[2624])\n"
     ]
    },
    {
     "name": "stderr",
     "output_type": "stream",
     "text": [
      " 17%|██████████▊                                                    | 34/199 [00:00<00:02, 61.71it/s]"
     ]
    },
    {
     "name": "stdout",
     "output_type": "stream",
     "text": [
      "\n",
      " Data(x=[218, 34], edge_index=[2, 3554], y=[218], edge_weight=[3554])\n",
      "\n",
      " Data(x=[455, 34], edge_index=[2, 8980], y=[455], edge_weight=[8980])\n",
      "\n",
      " Data(x=[455, 34], edge_index=[2, 8986], y=[455], edge_weight=[8986])\n",
      "\n",
      " Data(x=[281, 34], edge_index=[2, 4468], y=[281], edge_weight=[4468])\n",
      "\n",
      " Data(x=[280, 34], edge_index=[2, 4434], y=[280], edge_weight=[4434])\n",
      "\n",
      " Data(x=[200, 34], edge_index=[2, 3534], y=[200], edge_weight=[3534])\n",
      "\n",
      " Data(x=[147, 34], edge_index=[2, 2676], y=[147], edge_weight=[2676])\n",
      "\n",
      " Data(x=[254, 34], edge_index=[2, 4644], y=[254], edge_weight=[4644])\n",
      "\n",
      " Data(x=[254, 34], edge_index=[2, 4510], y=[254], edge_weight=[4510])\n",
      "\n",
      " Data(x=[254, 34], edge_index=[2, 4518], y=[254], edge_weight=[4518])\n",
      "\n",
      " Data(x=[254, 34], edge_index=[2, 4516], y=[254], edge_weight=[4516])\n",
      "\n",
      " Data(x=[254, 34], edge_index=[2, 4494], y=[254], edge_weight=[4494])\n",
      "\n",
      " Data(x=[269, 34], edge_index=[2, 4428], y=[269], edge_weight=[4428])\n"
     ]
    },
    {
     "name": "stderr",
     "output_type": "stream",
     "text": [
      " 25%|███████████████▊                                               | 50/199 [00:00<00:02, 63.59it/s]"
     ]
    },
    {
     "name": "stdout",
     "output_type": "stream",
     "text": [
      "\n",
      " Data(x=[99, 34], edge_index=[2, 1404], y=[99], edge_weight=[1404])\n",
      "\n",
      " Data(x=[99, 34], edge_index=[2, 1370], y=[99], edge_weight=[1370])\n",
      "\n",
      " Data(x=[99, 34], edge_index=[2, 1426], y=[99], edge_weight=[1426])\n",
      "\n",
      " Data(x=[99, 34], edge_index=[2, 1408], y=[99], edge_weight=[1408])\n",
      "\n",
      " Data(x=[99, 34], edge_index=[2, 1418], y=[99], edge_weight=[1418])\n",
      "\n",
      " Data(x=[99, 34], edge_index=[2, 1438], y=[99], edge_weight=[1438])\n",
      "\n",
      " Data(x=[253, 34], edge_index=[2, 4756], y=[253], edge_weight=[4756])\n",
      "\n",
      " Data(x=[382, 34], edge_index=[2, 7204], y=[382], edge_weight=[7204])\n",
      "\n",
      " Data(x=[382, 34], edge_index=[2, 7184], y=[382], edge_weight=[7184])\n",
      "\n",
      " Data(x=[383, 34], edge_index=[2, 7546], y=[383], edge_weight=[7546])\n",
      "\n",
      " Data(x=[99, 34], edge_index=[2, 1438], y=[99], edge_weight=[1438])\n",
      "\n",
      " Data(x=[99, 34], edge_index=[2, 1414], y=[99], edge_weight=[1414])\n",
      "\n",
      " Data(x=[99, 34], edge_index=[2, 1442], y=[99], edge_weight=[1442])\n",
      "\n",
      " Data(x=[99, 34], edge_index=[2, 1394], y=[99], edge_weight=[1394])\n",
      "\n",
      " Data(x=[99, 34], edge_index=[2, 1552], y=[99], edge_weight=[1552])\n",
      "\n",
      " Data(x=[99, 34], edge_index=[2, 1550], y=[99], edge_weight=[1550])\n",
      "\n",
      " Data(x=[99, 34], edge_index=[2, 1592], y=[99], edge_weight=[1592])\n",
      "\n",
      " Data(x=[99, 34], edge_index=[2, 1606], y=[99], edge_weight=[1606])\n"
     ]
    },
    {
     "name": "stderr",
     "output_type": "stream",
     "text": [
      " 32%|████████████████████▎                                          | 64/199 [00:00<00:01, 83.09it/s]"
     ]
    },
    {
     "name": "stdout",
     "output_type": "stream",
     "text": [
      "\n",
      " Data(x=[350, 34], edge_index=[2, 7120], y=[350], edge_weight=[7120])\n",
      "\n",
      " Data(x=[99, 34], edge_index=[2, 1434], y=[99], edge_weight=[1434])\n",
      "\n",
      " Data(x=[99, 34], edge_index=[2, 1408], y=[99], edge_weight=[1408])\n",
      "\n",
      " Data(x=[99, 34], edge_index=[2, 1416], y=[99], edge_weight=[1416])\n",
      "\n",
      " Data(x=[99, 34], edge_index=[2, 1396], y=[99], edge_weight=[1396])\n",
      "\n",
      " Data(x=[347, 34], edge_index=[2, 6952], y=[347], edge_weight=[6952])\n",
      "\n",
      " Data(x=[1073, 34], edge_index=[2, 22028], y=[1073], edge_weight=[22028])\n",
      "\n",
      " Data(x=[213, 34], edge_index=[2, 3662], y=[213], edge_weight=[3662])\n",
      "\n",
      " Data(x=[213, 34], edge_index=[2, 3662], y=[213], edge_weight=[3662])\n",
      "\n",
      " Data(x=[585, 34], edge_index=[2, 10254], y=[585], edge_weight=[10254])\n"
     ]
    },
    {
     "name": "stderr",
     "output_type": "stream",
     "text": [
      " 37%|███████████████████████▍                                       | 74/199 [00:01<00:02, 54.80it/s]"
     ]
    },
    {
     "name": "stdout",
     "output_type": "stream",
     "text": [
      "\n",
      " Data(x=[491, 34], edge_index=[2, 7858], y=[491], edge_weight=[7858])\n",
      "\n",
      " Data(x=[539, 34], edge_index=[2, 8718], y=[539], edge_weight=[8718])\n",
      "\n",
      " Data(x=[414, 34], edge_index=[2, 6626], y=[414], edge_weight=[6626])\n",
      "\n",
      " Data(x=[537, 34], edge_index=[2, 8406], y=[537], edge_weight=[8406])\n",
      "\n",
      " Data(x=[537, 34], edge_index=[2, 8614], y=[537], edge_weight=[8614])\n",
      "\n",
      " Data(x=[349, 34], edge_index=[2, 7050], y=[349], edge_weight=[7050])\n",
      "\n",
      " Data(x=[262, 34], edge_index=[2, 4894], y=[262], edge_weight=[4894])\n",
      "\n",
      " Data(x=[262, 34], edge_index=[2, 4870], y=[262], edge_weight=[4870])\n",
      "\n",
      " Data(x=[99, 34], edge_index=[2, 1402], y=[99], edge_weight=[1402])\n",
      "\n",
      " Data(x=[99, 34], edge_index=[2, 1394], y=[99], edge_weight=[1394])\n",
      "\n",
      " Data(x=[217, 34], edge_index=[2, 3370], y=[217], edge_weight=[3370])\n",
      "\n",
      " Data(x=[217, 34], edge_index=[2, 3374], y=[217], edge_weight=[3374])\n"
     ]
    },
    {
     "name": "stderr",
     "output_type": "stream",
     "text": [
      " 42%|██████████████████████████▎                                    | 83/199 [00:01<00:01, 60.32it/s]"
     ]
    },
    {
     "name": "stdout",
     "output_type": "stream",
     "text": [
      "\n",
      " Data(x=[147, 34], edge_index=[2, 2656], y=[147], edge_weight=[2656])\n",
      "\n",
      " Data(x=[242, 34], edge_index=[2, 4438], y=[242], edge_weight=[4438])\n",
      "\n",
      " Data(x=[360, 34], edge_index=[2, 6974], y=[360], edge_weight=[6974])\n",
      "\n",
      " Data(x=[364, 34], edge_index=[2, 7148], y=[364], edge_weight=[7148])\n",
      "\n",
      " Data(x=[99, 34], edge_index=[2, 1420], y=[99], edge_weight=[1420])\n",
      "\n",
      " Data(x=[99, 34], edge_index=[2, 1412], y=[99], edge_weight=[1412])\n",
      "\n",
      " Data(x=[99, 34], edge_index=[2, 1404], y=[99], edge_weight=[1404])\n",
      "\n",
      " Data(x=[99, 34], edge_index=[2, 1402], y=[99], edge_weight=[1402])\n",
      "\n",
      " Data(x=[99, 34], edge_index=[2, 1408], y=[99], edge_weight=[1408])\n",
      "\n",
      " Data(x=[99, 34], edge_index=[2, 1406], y=[99], edge_weight=[1406])\n",
      "\n",
      " Data(x=[177, 34], edge_index=[2, 3176], y=[177], edge_weight=[3176])\n",
      "\n",
      " Data(x=[99, 34], edge_index=[2, 1392], y=[99], edge_weight=[1392])\n",
      "\n",
      " Data(x=[99, 34], edge_index=[2, 1406], y=[99], edge_weight=[1406])\n",
      "\n",
      " Data(x=[99, 34], edge_index=[2, 1456], y=[99], edge_weight=[1456])\n"
     ]
    },
    {
     "name": "stderr",
     "output_type": "stream",
     "text": [
      " 48%|██████████████████████████████▍                                | 96/199 [00:01<00:01, 67.66it/s]"
     ]
    },
    {
     "name": "stdout",
     "output_type": "stream",
     "text": [
      "\n",
      " Data(x=[99, 34], edge_index=[2, 1462], y=[99], edge_weight=[1462])\n",
      "\n",
      " Data(x=[99, 34], edge_index=[2, 1394], y=[99], edge_weight=[1394])\n",
      "\n",
      " Data(x=[99, 34], edge_index=[2, 1390], y=[99], edge_weight=[1390])\n",
      "\n",
      " Data(x=[99, 34], edge_index=[2, 1426], y=[99], edge_weight=[1426])\n",
      "\n",
      " Data(x=[99, 34], edge_index=[2, 1410], y=[99], edge_weight=[1410])\n"
     ]
    },
    {
     "name": "stderr",
     "output_type": "stream",
     "text": [
      " 52%|████████████████████████████████▍                             | 104/199 [00:01<00:01, 70.09it/s]"
     ]
    },
    {
     "name": "stdout",
     "output_type": "stream",
     "text": [
      "\n",
      " Data(x=[469, 34], edge_index=[2, 8526], y=[469], edge_weight=[8526])\n",
      "\n",
      " Data(x=[311, 34], edge_index=[2, 5706], y=[311], edge_weight=[5706])\n",
      "\n",
      " Data(x=[217, 34], edge_index=[2, 3436], y=[217], edge_weight=[3436])\n",
      "\n",
      " Data(x=[217, 34], edge_index=[2, 3468], y=[217], edge_weight=[3468])\n",
      "\n",
      " Data(x=[202, 34], edge_index=[2, 3502], y=[202], edge_weight=[3502])\n",
      "\n",
      " Data(x=[220, 34], edge_index=[2, 3526], y=[220], edge_weight=[3526])\n",
      "\n",
      " Data(x=[220, 34], edge_index=[2, 3506], y=[220], edge_weight=[3506])\n",
      "\n",
      " Data(x=[99, 34], edge_index=[2, 1412], y=[99], edge_weight=[1412])\n",
      "\n",
      " Data(x=[99, 34], edge_index=[2, 1428], y=[99], edge_weight=[1428])\n",
      "\n",
      " Data(x=[528, 34], edge_index=[2, 10258], y=[528], edge_weight=[10258])\n",
      "\n",
      " "
     ]
    },
    {
     "name": "stderr",
     "output_type": "stream",
     "text": [
      " 56%|██████████████████████████████████▉                           | 112/199 [00:01<00:01, 66.95it/s]"
     ]
    },
    {
     "name": "stdout",
     "output_type": "stream",
     "text": [
      "Data(x=[330, 34], edge_index=[2, 5808], y=[330], edge_weight=[5808])\n",
      "\n",
      " Data(x=[490, 34], edge_index=[2, 9424], y=[490], edge_weight=[9424])\n",
      "\n",
      " Data(x=[376, 34], edge_index=[2, 6926], y=[376], edge_weight=[6926])\n",
      "\n",
      " Data(x=[373, 34], edge_index=[2, 6928], y=[373], edge_weight=[6928])\n",
      "\n",
      " Data(x=[376, 34], edge_index=[2, 7556], y=[376], edge_weight=[7556])\n",
      "\n",
      " Data(x=[373, 34], edge_index=[2, 7498], y=[373], edge_weight=[7498])\n",
      "\n",
      " Data(x=[249, 34], edge_index=[2, 4102], y=[249], edge_weight=[4102])\n",
      "\n",
      " Data(x=[376, 34], edge_index=[2, 7478], y=[376], edge_weight=[7478])\n"
     ]
    },
    {
     "name": "stderr",
     "output_type": "stream",
     "text": [
      " 60%|█████████████████████████████████████▍                        | 120/199 [00:01<00:01, 56.75it/s]"
     ]
    },
    {
     "name": "stdout",
     "output_type": "stream",
     "text": [
      "\n",
      " Data(x=[373, 34], edge_index=[2, 7406], y=[373], edge_weight=[7406])\n",
      "\n",
      " Data(x=[99, 34], edge_index=[2, 1434], y=[99], edge_weight=[1434])\n",
      "\n",
      " Data(x=[99, 34], edge_index=[2, 1430], y=[99], edge_weight=[1430])\n",
      "\n",
      " Data(x=[99, 34], edge_index=[2, 1388], y=[99], edge_weight=[1388])\n",
      "\n",
      " Data(x=[99, 34], edge_index=[2, 1394], y=[99], edge_weight=[1394])\n",
      "\n",
      " Data(x=[99, 34], edge_index=[2, 1382], y=[99], edge_weight=[1382])\n"
     ]
    },
    {
     "name": "stderr",
     "output_type": "stream",
     "text": [
      " 68%|██████████████████████████████████████████▎                   | 136/199 [00:01<00:00, 77.96it/s]"
     ]
    },
    {
     "name": "stdout",
     "output_type": "stream",
     "text": [
      "\n",
      " Data(x=[99, 34], edge_index=[2, 1376], y=[99], edge_weight=[1376])\n",
      "\n",
      " Data(x=[99, 34], edge_index=[2, 1388], y=[99], edge_weight=[1388])\n",
      "\n",
      " Data(x=[99, 34], edge_index=[2, 1396], y=[99], edge_weight=[1396])\n",
      "\n",
      " Data(x=[99, 34], edge_index=[2, 1416], y=[99], edge_weight=[1416])\n",
      "\n",
      " Data(x=[99, 34], edge_index=[2, 1418], y=[99], edge_weight=[1418])\n",
      "\n",
      " Data(x=[99, 34], edge_index=[2, 1426], y=[99], edge_weight=[1426])\n",
      "\n",
      " Data(x=[99, 34], edge_index=[2, 1442], y=[99], edge_weight=[1442])\n",
      "\n",
      " Data(x=[99, 34], edge_index=[2, 1398], y=[99], edge_weight=[1398])\n",
      "\n",
      " Data(x=[99, 34], edge_index=[2, 1396], y=[99], edge_weight=[1396])\n",
      "\n",
      " Data(x=[99, 34], edge_index=[2, 1384], y=[99], edge_weight=[1384])\n",
      "\n",
      " Data(x=[399, 34], edge_index=[2, 6414], y=[399], edge_weight=[6414])\n",
      "\n",
      " Data(x=[134, 34], edge_index=[2, 2126], y=[134], edge_weight=[2126])\n",
      "\n",
      " Data(x=[523, 34], edge_index=[2, 8264], y=[523], edge_weight=[8264])\n",
      "\n",
      " Data(x=[395, 34], edge_index=[2, 6286], y=[395], edge_weight=[6286])\n",
      "\n",
      " Data(x=[767, 34], edge_index=[2, 14964], y=[767], edge_weight=[14964])\n",
      "\n",
      " Data(x=[534, 34], edge_index=[2, 10284], y=[534], edge_weight=[10284])\n"
     ]
    },
    {
     "name": "stderr",
     "output_type": "stream",
     "text": [
      " 73%|█████████████████████████████████████████████▏                | 145/199 [00:02<00:00, 66.14it/s]"
     ]
    },
    {
     "name": "stdout",
     "output_type": "stream",
     "text": [
      "\n",
      " Data(x=[186, 34], edge_index=[2, 2908], y=[186], edge_weight=[2908])\n",
      "\n",
      " Data(x=[502, 34], edge_index=[2, 9474], y=[502], edge_weight=[9474])\n",
      "\n",
      " Data(x=[447, 34], edge_index=[2, 8248], y=[447], edge_weight=[8248])\n",
      "\n",
      " Data(x=[99, 34], edge_index=[2, 1402], y=[99], edge_weight=[1402])\n",
      "\n",
      " Data(x=[123, 34], edge_index=[2, 1974], y=[123], edge_weight=[1974])\n",
      "\n",
      " Data(x=[99, 34], edge_index=[2, 1454], y=[99], edge_weight=[1454])\n",
      "\n",
      " Data(x=[99, 34], edge_index=[2, 1486], y=[99], edge_weight=[1486])\n",
      "\n",
      " Data(x=[99, 34], edge_index=[2, 1450], y=[99], edge_weight=[1450])\n",
      "\n",
      " Data(x=[99, 34], edge_index=[2, 1458], y=[99], edge_weight=[1458])\n",
      "\n",
      " Data(x=[99, 34], edge_index=[2, 1450], y=[99], edge_weight=[1450])\n",
      "\n",
      " Data(x=[99, 34], edge_index=[2, 1472], y=[99], edge_weight=[1472])\n",
      "\n",
      " Data(x=[99, 34], edge_index=[2, 1442], y=[99], edge_weight=[1442])\n",
      "\n",
      " Data(x=[99, 34], edge_index=[2, 1442], y=[99], edge_weight=[1442])\n",
      "\n",
      " Data(x=[99, 34], edge_index=[2, 1408], y=[99], edge_weight=[1408])\n",
      "\n",
      " Data(x=[99, 34], edge_index=[2, 1460], y=[99], edge_weight=[1460])\n",
      "\n",
      " Data(x=[99, 34], edge_index=[2, 1448], y=[99], edge_weight=[1448])\n",
      "\n",
      " Data(x=[99, 34], edge_index=[2, 1464], y=[99], edge_weight=[1464])\n",
      "\n",
      " Data(x=[99, 34], edge_index=[2, 1470], y=[99], edge_weight=[1470])\n",
      "\n",
      " Data(x=[99, 34], edge_index=[2, 1504], y=[99], edge_weight=[1504])\n"
     ]
    },
    {
     "name": "stderr",
     "output_type": "stream",
     "text": [
      " 85%|████████████████████████████████████████████████████▋         | 169/199 [00:02<00:00, 69.33it/s]"
     ]
    },
    {
     "name": "stdout",
     "output_type": "stream",
     "text": [
      "\n",
      " Data(x=[520, 34], edge_index=[2, 8324], y=[520], edge_weight=[8324])\n",
      "\n",
      " Data(x=[403, 34], edge_index=[2, 6540], y=[403], edge_weight=[6540])\n",
      "\n",
      " Data(x=[543, 34], edge_index=[2, 8710], y=[543], edge_weight=[8710])\n",
      "\n",
      " Data(x=[542, 34], edge_index=[2, 8666], y=[542], edge_weight=[8666])\n",
      "\n",
      " Data(x=[408, 34], edge_index=[2, 6426], y=[408], edge_weight=[6426])\n",
      "\n",
      " Data(x=[315, 34], edge_index=[2, 5620], y=[315], edge_weight=[5620])\n",
      "\n",
      " Data(x=[262, 34], edge_index=[2, 4966], y=[262], edge_weight=[4966])\n",
      "\n",
      " Data(x=[147, 34], edge_index=[2, 2666], y=[147], edge_weight=[2666])\n",
      "\n",
      " Data(x=[124, 34], edge_index=[2, 1996], y=[124], edge_weight=[1996])\n",
      "\n",
      " Data(x=[124, 34], edge_index=[2, 1982], y=[124], edge_weight=[1982])\n",
      "\n",
      " Data(x=[124, 34], edge_index=[2, 1994], y=[124], edge_weight=[1994])\n",
      "\n",
      " Data(x=[124, 34], edge_index=[2, 1974], y=[124], edge_weight=[1974])\n"
     ]
    },
    {
     "name": "stderr",
     "output_type": "stream",
     "text": [
      " 89%|███████████████████████████████████████████████████████▏      | 177/199 [00:02<00:00, 70.75it/s]"
     ]
    },
    {
     "name": "stdout",
     "output_type": "stream",
     "text": [
      "\n",
      " Data(x=[585, 34], edge_index=[2, 10754], y=[585], edge_weight=[10754])\n",
      "\n",
      " Data(x=[585, 34], edge_index=[2, 10582], y=[585], edge_weight=[10582])\n",
      "\n",
      " Data(x=[164, 34], edge_index=[2, 2672], y=[164], edge_weight=[2672])\n",
      "\n",
      " Data(x=[164, 34], edge_index=[2, 2710], y=[164], edge_weight=[2710])\n",
      "\n",
      " Data(x=[99, 34], edge_index=[2, 1384], y=[99], edge_weight=[1384])\n",
      "\n",
      " Data(x=[99, 34], edge_index=[2, 1400], y=[99], edge_weight=[1400])\n",
      "\n",
      " Data(x=[99, 34], edge_index=[2, 1376], y=[99], edge_weight=[1376])\n",
      "\n",
      " Data(x=[99, 34], edge_index=[2, 1388], y=[99], edge_weight=[1388])\n",
      "\n",
      " Data(x=[284, 34], edge_index=[2, 5082], y=[284], edge_weight=[5082])\n",
      "\n",
      " Data(x=[284, 34], edge_index=[2, 5138], y=[284], edge_weight=[5138])\n",
      "\n",
      " Data(x=[186, 34], edge_index=[2, 2888], y=[186], edge_weight=[2888])\n",
      "\n",
      " Data(x=[529, 34], edge_index=[2, 10208], y=[529], edge_weight=[10208])\n"
     ]
    },
    {
     "name": "stderr",
     "output_type": "stream",
     "text": [
      "100%|██████████████████████████████████████████████████████████████| 199/199 [00:02<00:00, 68.21it/s]\n"
     ]
    },
    {
     "name": "stdout",
     "output_type": "stream",
     "text": [
      "\n",
      " Data(x=[532, 34], edge_index=[2, 10354], y=[532], edge_weight=[10354])\n",
      "\n",
      " Data(x=[217, 34], edge_index=[2, 3434], y=[217], edge_weight=[3434])\n",
      "\n",
      " Data(x=[217, 34], edge_index=[2, 3446], y=[217], edge_weight=[3446])\n",
      "\n",
      " Data(x=[99, 34], edge_index=[2, 1410], y=[99], edge_weight=[1410])\n",
      "\n",
      " Data(x=[99, 34], edge_index=[2, 1410], y=[99], edge_weight=[1410])\n",
      "\n",
      " Data(x=[99, 34], edge_index=[2, 1402], y=[99], edge_weight=[1402])\n",
      "\n",
      " Data(x=[99, 34], edge_index=[2, 1376], y=[99], edge_weight=[1376])\n",
      "\n",
      " Data(x=[99, 34], edge_index=[2, 1408], y=[99], edge_weight=[1408])\n",
      "\n",
      " Data(x=[99, 34], edge_index=[2, 1392], y=[99], edge_weight=[1392])\n",
      "\n",
      " Data(x=[558, 34], edge_index=[2, 9116], y=[558], edge_weight=[9116])\n",
      "\n",
      " Data(x=[427, 34], edge_index=[2, 6880], y=[427], edge_weight=[6880])\n",
      "\n",
      " Data(x=[558, 34], edge_index=[2, 9054], y=[558], edge_weight=[9054])\n",
      "\n",
      " Data(x=[427, 34], edge_index=[2, 6794], y=[427], edge_weight=[6794])\n",
      "\n",
      " Data(x=[99, 34], edge_index=[2, 1408], y=[99], edge_weight=[1408])\n",
      "\n",
      " Data(x=[99, 34], edge_index=[2, 1436], y=[99], edge_weight=[1436])\n",
      "\n",
      " Data(x=[163, 34], edge_index=[2, 2488], y=[163], edge_weight=[2488])\n",
      "[INFO ] set 4\n"
     ]
    },
    {
     "name": "stderr",
     "output_type": "stream",
     "text": [
      "  0%|                                                                        | 0/199 [00:00<?, ?it/s]"
     ]
    },
    {
     "name": "stdout",
     "output_type": "stream",
     "text": [
      "\n",
      " Data(x=[144, 34], edge_index=[2, 2010], y=[144], edge_weight=[2010])\n",
      "\n",
      " Data(x=[260, 34], edge_index=[2, 4886], y=[260], edge_weight=[4886])\n"
     ]
    },
    {
     "name": "stderr",
     "output_type": "stream",
     "text": [
      "  7%|████                                                          | 13/199 [00:00<00:01, 127.88it/s]"
     ]
    },
    {
     "name": "stdout",
     "output_type": "stream",
     "text": [
      "\n",
      " Data(x=[249, 34], edge_index=[2, 4630], y=[249], edge_weight=[4630])\n",
      "\n",
      " Data(x=[258, 34], edge_index=[2, 4908], y=[258], edge_weight=[4908])\n",
      "\n",
      " Data(x=[99, 34], edge_index=[2, 1430], y=[99], edge_weight=[1430])\n",
      "\n",
      " Data(x=[99, 34], edge_index=[2, 1422], y=[99], edge_weight=[1422])\n",
      "\n",
      " Data(x=[99, 34], edge_index=[2, 1434], y=[99], edge_weight=[1434])\n",
      "\n",
      " Data(x=[99, 34], edge_index=[2, 1416], y=[99], edge_weight=[1416])\n",
      "\n",
      " Data(x=[99, 34], edge_index=[2, 1412], y=[99], edge_weight=[1412])\n",
      "\n",
      " Data(x=[99, 34], edge_index=[2, 1442], y=[99], edge_weight=[1442])\n",
      "\n",
      " Data(x=[99, 34], edge_index=[2, 1446], y=[99], edge_weight=[1446])\n",
      "\n",
      " Data(x=[99, 34], edge_index=[2, 1418], y=[99], edge_weight=[1418])\n",
      "\n",
      " Data(x=[99, 34], edge_index=[2, 1402], y=[99], edge_weight=[1402])\n",
      "\n",
      " Data(x=[99, 34], edge_index=[2, 1380], y=[99], edge_weight=[1380])\n",
      "\n",
      " Data(x=[1058, 34], edge_index=[2, 21656], y=[1058], edge_weight=[21656])\n"
     ]
    },
    {
     "name": "stderr",
     "output_type": "stream",
     "text": [
      " 13%|████████▏                                                      | 26/199 [00:00<00:02, 61.95it/s]"
     ]
    },
    {
     "name": "stdout",
     "output_type": "stream",
     "text": [
      "\n",
      " Data(x=[528, 34], edge_index=[2, 10102], y=[528], edge_weight=[10102])\n",
      "\n",
      " Data(x=[470, 34], edge_index=[2, 8870], y=[470], edge_weight=[8870])\n",
      "\n",
      " Data(x=[274, 34], edge_index=[2, 4484], y=[274], edge_weight=[4484])\n",
      "\n",
      " Data(x=[319, 34], edge_index=[2, 5696], y=[319], edge_weight=[5696])\n",
      "\n",
      " Data(x=[253, 34], edge_index=[2, 4686], y=[253], edge_weight=[4686])\n",
      "\n",
      " Data(x=[255, 34], edge_index=[2, 4792], y=[255], edge_weight=[4792])\n",
      "\n",
      " Data(x=[99, 34], edge_index=[2, 1432], y=[99], edge_weight=[1432])\n",
      "\n",
      " Data(x=[99, 34], edge_index=[2, 1452], y=[99], edge_weight=[1452])\n",
      "\n",
      " Data(x=[99, 34], edge_index=[2, 1396], y=[99], edge_weight=[1396])\n",
      "\n",
      " Data(x=[99, 34], edge_index=[2, 1380], y=[99], edge_weight=[1380])\n",
      "\n",
      " Data(x=[147, 34], edge_index=[2, 2664], y=[147], edge_weight=[2664])\n",
      "\n",
      " Data(x=[147, 34], edge_index=[2, 2686], y=[147], edge_weight=[2686])\n",
      "\n",
      " Data(x=[147, 34], edge_index=[2, 2624], y=[147], edge_weight=[2624])\n",
      "\n",
      " Data(x=[218, 34], edge_index=[2, 3554], y=[218], edge_weight=[3554])\n",
      "\n",
      " Data(x=[455, 34], edge_index=[2, 8980], y=[455], edge_weight=[8980])\n"
     ]
    },
    {
     "name": "stderr",
     "output_type": "stream",
     "text": [
      " 22%|█████████████▉                                                 | 44/199 [00:00<00:02, 73.09it/s]"
     ]
    },
    {
     "name": "stdout",
     "output_type": "stream",
     "text": [
      "\n",
      " Data(x=[455, 34], edge_index=[2, 8986], y=[455], edge_weight=[8986])\n",
      "\n",
      " Data(x=[281, 34], edge_index=[2, 4468], y=[281], edge_weight=[4468])\n",
      "\n",
      " Data(x=[280, 34], edge_index=[2, 4434], y=[280], edge_weight=[4434])\n",
      "\n",
      " Data(x=[200, 34], edge_index=[2, 3534], y=[200], edge_weight=[3534])\n",
      "\n",
      " Data(x=[147, 34], edge_index=[2, 2676], y=[147], edge_weight=[2676])\n",
      "\n",
      " Data(x=[254, 34], edge_index=[2, 4644], y=[254], edge_weight=[4644])\n",
      "\n",
      " Data(x=[254, 34], edge_index=[2, 4510], y=[254], edge_weight=[4510])\n",
      "\n",
      " Data(x=[254, 34], edge_index=[2, 4518], y=[254], edge_weight=[4518])\n",
      "\n",
      " Data(x=[254, 34], edge_index=[2, 4516], y=[254], edge_weight=[4516])\n",
      "\n",
      " Data(x=[254, 34], edge_index=[2, 4494], y=[254], edge_weight=[4494])\n",
      "\n",
      " Data(x=[269, 34], edge_index=[2, 4428], y=[269], edge_weight=[4428])\n",
      "\n",
      " Data(x=[99, 34], edge_index=[2, 1404], y=[99], edge_weight=[1404])\n",
      "\n",
      " Data(x=[99, 34], edge_index=[2, 1370], y=[99], edge_weight=[1370])\n",
      "\n",
      " Data(x=[99, 34], edge_index=[2, 1426], y=[99], edge_weight=[1426])\n",
      "\n",
      " Data(x=[99, 34], edge_index=[2, 1408], y=[99], edge_weight=[1408])\n",
      "\n",
      " Data(x=[99, 34], edge_index=[2, 1418], y=[99], edge_weight=[1418])\n",
      "\n",
      " Data(x=[99, 34], edge_index=[2, 1438], y=[99], edge_weight=[1438])\n",
      "\n",
      " Data(x=[253, 34], edge_index=[2, 4756], y=[253], edge_weight=[4756])\n",
      "\n",
      " Data(x=[382, 34], edge_index=[2, 7204], y=[382], edge_weight=[7204])\n"
     ]
    },
    {
     "name": "stderr",
     "output_type": "stream",
     "text": [
      " 27%|████████████████▊                                              | 53/199 [00:00<00:02, 68.84it/s]"
     ]
    },
    {
     "name": "stdout",
     "output_type": "stream",
     "text": [
      "\n",
      " Data(x=[382, 34], edge_index=[2, 7184], y=[382], edge_weight=[7184])\n",
      "\n",
      " Data(x=[383, 34], edge_index=[2, 7546], y=[383], edge_weight=[7546])\n",
      "\n",
      " Data(x=[99, 34], edge_index=[2, 1438], y=[99], edge_weight=[1438])\n",
      "\n",
      " Data(x=[99, 34], edge_index=[2, 1414], y=[99], edge_weight=[1414])\n",
      "\n",
      " Data(x=[99, 34], edge_index=[2, 1442], y=[99], edge_weight=[1442])\n",
      "\n",
      " Data(x=[99, 34], edge_index=[2, 1394], y=[99], edge_weight=[1394])\n",
      "\n",
      " Data(x=[99, 34], edge_index=[2, 1552], y=[99], edge_weight=[1552])\n",
      "\n",
      " Data(x=[99, 34], edge_index=[2, 1550], y=[99], edge_weight=[1550])\n",
      "\n",
      " Data(x=[99, 34], edge_index=[2, 1592], y=[99], edge_weight=[1592])\n",
      "\n",
      " Data(x=[99, 34], edge_index=[2, 1606], y=[99], edge_weight=[1606])\n",
      "\n",
      " Data(x=[350, 34], edge_index=[2, 7120], y=[350], edge_weight=[7120])\n",
      "\n",
      " Data(x=[99, 34], edge_index=[2, 1434], y=[99], edge_weight=[1434])\n",
      "\n",
      " Data(x=[99, 34], edge_index=[2, 1408], y=[99], edge_weight=[1408])\n",
      "\n",
      " Data(x=[99, 34], edge_index=[2, 1416], y=[99], edge_weight=[1416])\n",
      "\n",
      " Data(x=[99, 34], edge_index=[2, 1396], y=[99], edge_weight=[1396])\n",
      "\n",
      " Data(x=[347, 34], edge_index=[2, 6952], y=[347], edge_weight=[6952])\n"
     ]
    },
    {
     "name": "stderr",
     "output_type": "stream",
     "text": [
      " 33%|████████████████████▉                                          | 66/199 [00:00<00:01, 75.11it/s]"
     ]
    },
    {
     "name": "stdout",
     "output_type": "stream",
     "text": [
      "\n",
      " Data(x=[1073, 34], edge_index=[2, 22028], y=[1073], edge_weight=[22028])\n",
      "\n",
      " Data(x=[213, 34], edge_index=[2, 3662], y=[213], edge_weight=[3662])\n",
      "\n",
      " Data(x=[213, 34], edge_index=[2, 3662], y=[213], edge_weight=[3662])\n",
      "\n",
      " Data(x=[585, 34], edge_index=[2, 10254], y=[585], edge_weight=[10254])\n",
      "\n",
      " Data(x=[491, 34], edge_index=[2, 7858], y=[491], edge_weight=[7858])\n",
      "\n",
      " Data(x=[539, 34], edge_index=[2, 8718], y=[539], edge_weight=[8718])\n",
      "\n",
      " Data(x=[414, 34], edge_index=[2, 6626], y=[414], edge_weight=[6626])\n"
     ]
    },
    {
     "name": "stderr",
     "output_type": "stream",
     "text": [
      " 42%|██████████████████████████▌                                    | 84/199 [00:01<00:01, 64.46it/s]"
     ]
    },
    {
     "name": "stdout",
     "output_type": "stream",
     "text": [
      "\n",
      " Data(x=[537, 34], edge_index=[2, 8406], y=[537], edge_weight=[8406])\n",
      "\n",
      " Data(x=[537, 34], edge_index=[2, 8614], y=[537], edge_weight=[8614])\n",
      "\n",
      " Data(x=[349, 34], edge_index=[2, 7050], y=[349], edge_weight=[7050])\n",
      "\n",
      " Data(x=[262, 34], edge_index=[2, 4894], y=[262], edge_weight=[4894])\n",
      "\n",
      " Data(x=[262, 34], edge_index=[2, 4870], y=[262], edge_weight=[4870])\n",
      "\n",
      " Data(x=[99, 34], edge_index=[2, 1402], y=[99], edge_weight=[1402])\n",
      "\n",
      " Data(x=[99, 34], edge_index=[2, 1394], y=[99], edge_weight=[1394])\n",
      "\n",
      " Data(x=[217, 34], edge_index=[2, 3370], y=[217], edge_weight=[3370])\n",
      "\n",
      " Data(x=[217, 34], edge_index=[2, 3374], y=[217], edge_weight=[3374])\n",
      "\n",
      " Data(x=[147, 34], edge_index=[2, 2656], y=[147], edge_weight=[2656])\n",
      "\n",
      " Data(x=[242, 34], edge_index=[2, 4438], y=[242], edge_weight=[4438])\n",
      "\n",
      " Data(x=[360, 34], edge_index=[2, 6974], y=[360], edge_weight=[6974])\n",
      "\n",
      " Data(x=[364, 34], edge_index=[2, 7148], y=[364], edge_weight=[7148])\n",
      "\n",
      " Data(x=[99, 34], edge_index=[2, 1420], y=[99], edge_weight=[1420])\n",
      "\n",
      " Data(x=[99, 34], edge_index=[2, 1412], y=[99], edge_weight=[1412])\n",
      "\n",
      " Data(x=[99, 34], edge_index=[2, 1404], y=[99], edge_weight=[1404])\n",
      "\n",
      " Data(x=[99, 34], edge_index=[2, 1402], y=[99], edge_weight=[1402])\n",
      "\n",
      " Data(x=[99, 34], edge_index=[2, 1408], y=[99], edge_weight=[1408])\n",
      "\n",
      " Data(x=[99, 34], edge_index=[2, 1406], y=[99], edge_weight=[1406])\n",
      "\n",
      " Data(x=[177, 34], edge_index=[2, 3176], y=[177], edge_weight=[3176])\n"
     ]
    },
    {
     "name": "stderr",
     "output_type": "stream",
     "text": [
      " 51%|███████████████████████████████▍                              | 101/199 [00:01<00:01, 84.95it/s]"
     ]
    },
    {
     "name": "stdout",
     "output_type": "stream",
     "text": [
      "\n",
      " Data(x=[99, 34], edge_index=[2, 1392], y=[99], edge_weight=[1392])\n",
      "\n",
      " Data(x=[99, 34], edge_index=[2, 1406], y=[99], edge_weight=[1406])\n",
      "\n",
      " Data(x=[99, 34], edge_index=[2, 1456], y=[99], edge_weight=[1456])\n",
      "\n",
      " Data(x=[99, 34], edge_index=[2, 1462], y=[99], edge_weight=[1462])\n",
      "\n",
      " Data(x=[99, 34], edge_index=[2, 1394], y=[99], edge_weight=[1394])\n",
      "\n",
      " Data(x=[99, 34], edge_index=[2, 1390], y=[99], edge_weight=[1390])\n",
      "\n",
      " Data(x=[99, 34], edge_index=[2, 1426], y=[99], edge_weight=[1426])\n",
      "\n",
      " Data(x=[99, 34], edge_index=[2, 1410], y=[99], edge_weight=[1410])\n",
      "\n",
      " Data(x=[469, 34], edge_index=[2, 8526], y=[469], edge_weight=[8526])\n",
      "\n",
      " Data(x=[311, 34], edge_index=[2, 5706], y=[311], edge_weight=[5706])\n",
      "\n",
      " Data(x=[217, 34], edge_index=[2, 3436], y=[217], edge_weight=[3436])\n",
      "\n",
      " Data(x=[217, 34], edge_index=[2, 3468], y=[217], edge_weight=[3468])\n",
      "\n",
      " Data(x=[202, 34], edge_index=[2, 3502], y=[202], edge_weight=[3502])\n",
      "\n",
      " Data(x=[220, 34], edge_index=[2, 3526], y=[220], edge_weight=[3526])\n",
      "\n",
      " Data(x=[220, 34], edge_index=[2, 3506], y=[220], edge_weight=[3506])\n",
      "\n",
      " Data(x=[99, 34], edge_index=[2, 1412], y=[99], edge_weight=[1412])\n",
      "\n",
      " Data(x=[99, 34], edge_index=[2, 1428], y=[99], edge_weight=[1428])\n"
     ]
    },
    {
     "name": "stderr",
     "output_type": "stream",
     "text": [
      " 60%|█████████████████████████████████████▍                        | 120/199 [00:01<00:01, 68.68it/s]"
     ]
    },
    {
     "name": "stdout",
     "output_type": "stream",
     "text": [
      "\n",
      " Data(x=[528, 34], edge_index=[2, 10258], y=[528], edge_weight=[10258])\n",
      "\n",
      " Data(x=[330, 34], edge_index=[2, 5808], y=[330], edge_weight=[5808])\n",
      "\n",
      " Data(x=[490, 34], edge_index=[2, 9424], y=[490], edge_weight=[9424])\n",
      "\n",
      " Data(x=[376, 34], edge_index=[2, 6926], y=[376], edge_weight=[6926])\n",
      "\n",
      " Data(x=[373, 34], edge_index=[2, 6928], y=[373], edge_weight=[6928])\n",
      "\n",
      " Data(x=[376, 34], edge_index=[2, 7556], y=[376], edge_weight=[7556])\n",
      "\n",
      " Data(x=[373, 34], edge_index=[2, 7498], y=[373], edge_weight=[7498])\n",
      "\n",
      " Data(x=[249, 34], edge_index=[2, 4102], y=[249], edge_weight=[4102])\n",
      "\n",
      " Data(x=[376, 34], edge_index=[2, 7478], y=[376], edge_weight=[7478])\n",
      "\n",
      " Data(x=[373, 34], edge_index=[2, 7406], y=[373], edge_weight=[7406])\n",
      "\n",
      " Data(x=[99, 34], edge_index=[2, 1434], y=[99], edge_weight=[1434])\n",
      "\n",
      " Data(x=[99, 34], edge_index=[2, 1430], y=[99], edge_weight=[1430])\n",
      "\n",
      " Data(x=[99, 34], edge_index=[2, 1388], y=[99], edge_weight=[1388])\n",
      "\n",
      " Data(x=[99, 34], edge_index=[2, 1394], y=[99], edge_weight=[1394])\n"
     ]
    },
    {
     "name": "stderr",
     "output_type": "stream",
     "text": [
      " 69%|██████████████████████████████████████████▋                   | 137/199 [00:01<00:00, 87.72it/s]"
     ]
    },
    {
     "name": "stdout",
     "output_type": "stream",
     "text": [
      "\n",
      " Data(x=[99, 34], edge_index=[2, 1382], y=[99], edge_weight=[1382])\n",
      "\n",
      " Data(x=[99, 34], edge_index=[2, 1376], y=[99], edge_weight=[1376])\n",
      "\n",
      " Data(x=[99, 34], edge_index=[2, 1388], y=[99], edge_weight=[1388])\n",
      "\n",
      " Data(x=[99, 34], edge_index=[2, 1396], y=[99], edge_weight=[1396])\n",
      "\n",
      " Data(x=[99, 34], edge_index=[2, 1416], y=[99], edge_weight=[1416])\n",
      "\n",
      " Data(x=[99, 34], edge_index=[2, 1418], y=[99], edge_weight=[1418])\n",
      "\n",
      " Data(x=[99, 34], edge_index=[2, 1426], y=[99], edge_weight=[1426])\n",
      "\n",
      " Data(x=[99, 34], edge_index=[2, 1442], y=[99], edge_weight=[1442])\n",
      "\n",
      " Data(x=[99, 34], edge_index=[2, 1398], y=[99], edge_weight=[1398])\n",
      "\n",
      " Data(x=[99, 34], edge_index=[2, 1396], y=[99], edge_weight=[1396])\n",
      "\n",
      " Data(x=[99, 34], edge_index=[2, 1384], y=[99], edge_weight=[1384])\n",
      "\n",
      " Data(x=[399, 34], edge_index=[2, 6414], y=[399], edge_weight=[6414])\n",
      "\n",
      " Data(x=[134, 34], edge_index=[2, 2126], y=[134], edge_weight=[2126])\n",
      "\n",
      " Data(x=[523, 34], edge_index=[2, 8264], y=[523], edge_weight=[8264])\n",
      "\n",
      " Data(x=[395, 34], edge_index=[2, 6286], y=[395], edge_weight=[6286])\n"
     ]
    },
    {
     "name": "stderr",
     "output_type": "stream",
     "text": [
      " 74%|█████████████████████████████████████████████▊                | 147/199 [00:02<00:00, 70.01it/s]"
     ]
    },
    {
     "name": "stdout",
     "output_type": "stream",
     "text": [
      "\n",
      " Data(x=[767, 34], edge_index=[2, 14964], y=[767], edge_weight=[14964])\n",
      "\n",
      " Data(x=[534, 34], edge_index=[2, 10284], y=[534], edge_weight=[10284])\n",
      "\n",
      " Data(x=[186, 34], edge_index=[2, 2908], y=[186], edge_weight=[2908])\n",
      "\n",
      " Data(x=[502, 34], edge_index=[2, 9474], y=[502], edge_weight=[9474])\n",
      "\n",
      " Data(x=[447, 34], edge_index=[2, 8248], y=[447], edge_weight=[8248])\n",
      "\n",
      " Data(x=[99, 34], edge_index=[2, 1402], y=[99], edge_weight=[1402])\n",
      "\n",
      " Data(x=[123, 34], edge_index=[2, 1974], y=[123], edge_weight=[1974])\n",
      "\n",
      " Data(x=[99, 34], edge_index=[2, 1454], y=[99], edge_weight=[1454])\n",
      "\n",
      " Data(x=[99, 34], edge_index=[2, 1486], y=[99], edge_weight=[1486])\n",
      "\n",
      " Data(x=[99, 34], edge_index=[2, 1450], y=[99], edge_weight=[1450])\n",
      "\n",
      " Data(x=[99, 34], edge_index=[2, 1458], y=[99], edge_weight=[1458])\n",
      "\n",
      " Data(x=[99, 34], edge_index=[2, 1450], y=[99], edge_weight=[1450])\n",
      "\n",
      " Data(x=[99, 34], edge_index=[2, 1472], y=[99], edge_weight=[1472])\n",
      "\n",
      " Data(x=[99, 34], edge_index=[2, 1442], y=[99], edge_weight=[1442])\n",
      "\n",
      " Data(x=[99, 34], edge_index=[2, 1442], y=[99], edge_weight=[1442])\n",
      "\n",
      " Data(x=[99, 34], edge_index=[2, 1408], y=[99], edge_weight=[1408])\n",
      "\n",
      " Data(x=[99, 34], edge_index=[2, 1460], y=[99], edge_weight=[1460])\n",
      "\n",
      " Data(x=[99, 34], edge_index=[2, 1448], y=[99], edge_weight=[1448])\n",
      "\n",
      " Data(x=[99, 34], edge_index=[2, 1464], y=[99], edge_weight=[1464])\n",
      "\n",
      " Data(x=[99, 34], edge_index=[2, 1470], y=[99], edge_weight=[1470])\n",
      "\n",
      " Data(x=[99, 34], edge_index=[2, 1504], y=[99], edge_weight=[1504])\n",
      "\n",
      " Data(x=[520, 34], edge_index=[2, 8324], y=[520], edge_weight=[8324])\n"
     ]
    },
    {
     "name": "stderr",
     "output_type": "stream",
     "text": [
      " 86%|█████████████████████████████████████████████████████▎        | 171/199 [00:02<00:00, 74.66it/s]"
     ]
    },
    {
     "name": "stdout",
     "output_type": "stream",
     "text": [
      "\n",
      " Data(x=[403, 34], edge_index=[2, 6540], y=[403], edge_weight=[6540])\n",
      "\n",
      " Data(x=[543, 34], edge_index=[2, 8710], y=[543], edge_weight=[8710])\n",
      "\n",
      " Data(x=[542, 34], edge_index=[2, 8666], y=[542], edge_weight=[8666])\n",
      "\n",
      " Data(x=[408, 34], edge_index=[2, 6426], y=[408], edge_weight=[6426])\n",
      "\n",
      " Data(x=[315, 34], edge_index=[2, 5620], y=[315], edge_weight=[5620])\n",
      "\n",
      " Data(x=[262, 34], edge_index=[2, 4966], y=[262], edge_weight=[4966])\n",
      "\n",
      " Data(x=[147, 34], edge_index=[2, 2666], y=[147], edge_weight=[2666])\n",
      "\n",
      " Data(x=[124, 34], edge_index=[2, 1996], y=[124], edge_weight=[1996])\n",
      "\n",
      " Data(x=[124, 34], edge_index=[2, 1982], y=[124], edge_weight=[1982])\n",
      "\n",
      " Data(x=[124, 34], edge_index=[2, 1994], y=[124], edge_weight=[1994])\n",
      "\n",
      " Data(x=[124, 34], edge_index=[2, 1974], y=[124], edge_weight=[1974])\n"
     ]
    },
    {
     "name": "stderr",
     "output_type": "stream",
     "text": [
      " 90%|████████████████████████████████████████████████████████      | 180/199 [00:02<00:00, 75.72it/s]"
     ]
    },
    {
     "name": "stdout",
     "output_type": "stream",
     "text": [
      "\n",
      " Data(x=[585, 34], edge_index=[2, 10754], y=[585], edge_weight=[10754])\n",
      "\n",
      " Data(x=[585, 34], edge_index=[2, 10582], y=[585], edge_weight=[10582])\n",
      "\n",
      " Data(x=[164, 34], edge_index=[2, 2672], y=[164], edge_weight=[2672])\n",
      "\n",
      " Data(x=[164, 34], edge_index=[2, 2710], y=[164], edge_weight=[2710])\n",
      "\n",
      " Data(x=[99, 34], edge_index=[2, 1384], y=[99], edge_weight=[1384])\n",
      "\n",
      " Data(x=[99, 34], edge_index=[2, 1400], y=[99], edge_weight=[1400])\n",
      "\n",
      " Data(x=[99, 34], edge_index=[2, 1376], y=[99], edge_weight=[1376])\n",
      "\n",
      " Data(x=[99, 34], edge_index=[2, 1388], y=[99], edge_weight=[1388])\n",
      "\n",
      " Data(x=[284, 34], edge_index=[2, 5082], y=[284], edge_weight=[5082])\n",
      "\n",
      " Data(x=[284, 34], edge_index=[2, 5138], y=[284], edge_weight=[5138])\n",
      "\n",
      " Data(x=[186, 34], edge_index=[2, 2888], y=[186], edge_weight=[2888])\n",
      "\n",
      " Data(x=[529, 34], edge_index=[2, 10208], y=[529], edge_weight=[10208])\n",
      "\n",
      " Data(x=[532, 34], edge_index=[2, 10354], y=[532], edge_weight=[10354])\n",
      "\n",
      " Data(x=[217, 34], edge_index=[2, 3434], y=[217], edge_weight=[3434])\n",
      "\n",
      " Data(x=[217, 34], edge_index=[2, 3446], y=[217], edge_weight=[3446])\n",
      "\n",
      " Data(x=[99, 34], edge_index=[2, 1410], y=[99], edge_weight=[1410])\n",
      "\n",
      " Data(x=[99, 34], edge_index=[2, 1410], y=[99], edge_weight=[1410])\n"
     ]
    },
    {
     "name": "stderr",
     "output_type": "stream",
     "text": [
      "100%|██████████████████████████████████████████████████████████████| 199/199 [00:02<00:00, 72.34it/s]\n"
     ]
    },
    {
     "name": "stdout",
     "output_type": "stream",
     "text": [
      "\n",
      " Data(x=[99, 34], edge_index=[2, 1402], y=[99], edge_weight=[1402])\n",
      "\n",
      " Data(x=[99, 34], edge_index=[2, 1376], y=[99], edge_weight=[1376])\n",
      "\n",
      " Data(x=[99, 34], edge_index=[2, 1408], y=[99], edge_weight=[1408])\n",
      "\n",
      " Data(x=[99, 34], edge_index=[2, 1392], y=[99], edge_weight=[1392])\n",
      "\n",
      " Data(x=[558, 34], edge_index=[2, 9116], y=[558], edge_weight=[9116])\n",
      "\n",
      " Data(x=[427, 34], edge_index=[2, 6880], y=[427], edge_weight=[6880])\n",
      "\n",
      " Data(x=[558, 34], edge_index=[2, 9054], y=[558], edge_weight=[9054])\n",
      "\n",
      " Data(x=[427, 34], edge_index=[2, 6794], y=[427], edge_weight=[6794])\n",
      "\n",
      " Data(x=[99, 34], edge_index=[2, 1408], y=[99], edge_weight=[1408])\n",
      "\n",
      " Data(x=[99, 34], edge_index=[2, 1436], y=[99], edge_weight=[1436])\n",
      "\n",
      " Data(x=[163, 34], edge_index=[2, 2488], y=[163], edge_weight=[2488])\n",
      "[INFO ] set 5\n"
     ]
    },
    {
     "name": "stderr",
     "output_type": "stream",
     "text": [
      "  0%|                                                                        | 0/199 [00:00<?, ?it/s]"
     ]
    },
    {
     "name": "stdout",
     "output_type": "stream",
     "text": [
      "\n",
      " Data(x=[144, 34], edge_index=[2, 2010], y=[144], edge_weight=[2010])\n"
     ]
    },
    {
     "name": "stderr",
     "output_type": "stream",
     "text": [
      "  6%|███▋                                                          | 12/199 [00:00<00:01, 115.71it/s]"
     ]
    },
    {
     "name": "stdout",
     "output_type": "stream",
     "text": [
      "\n",
      " Data(x=[260, 34], edge_index=[2, 4886], y=[260], edge_weight=[4886])\n",
      "\n",
      " Data(x=[249, 34], edge_index=[2, 4630], y=[249], edge_weight=[4630])\n",
      "\n",
      " Data(x=[258, 34], edge_index=[2, 4908], y=[258], edge_weight=[4908])\n",
      "\n",
      " Data(x=[99, 34], edge_index=[2, 1430], y=[99], edge_weight=[1430])\n",
      "\n",
      " Data(x=[99, 34], edge_index=[2, 1422], y=[99], edge_weight=[1422])\n",
      "\n",
      " Data(x=[99, 34], edge_index=[2, 1434], y=[99], edge_weight=[1434])\n",
      "\n",
      " Data(x=[99, 34], edge_index=[2, 1416], y=[99], edge_weight=[1416])\n",
      "\n",
      " Data(x=[99, 34], edge_index=[2, 1412], y=[99], edge_weight=[1412])\n",
      "\n",
      " Data(x=[99, 34], edge_index=[2, 1442], y=[99], edge_weight=[1442])\n",
      "\n",
      " Data(x=[99, 34], edge_index=[2, 1446], y=[99], edge_weight=[1446])\n",
      "\n",
      " Data(x=[99, 34], edge_index=[2, 1418], y=[99], edge_weight=[1418])\n",
      "\n",
      " Data(x=[99, 34], edge_index=[2, 1402], y=[99], edge_weight=[1402])\n",
      "\n",
      " Data(x=[99, 34], edge_index=[2, 1380], y=[99], edge_weight=[1380])\n",
      "\n",
      " Data(x=[1058, 34], edge_index=[2, 21656], y=[1058], edge_weight=[21656])\n"
     ]
    },
    {
     "name": "stderr",
     "output_type": "stream",
     "text": [
      " 12%|███████▌                                                       | 24/199 [00:00<00:03, 57.98it/s]"
     ]
    },
    {
     "name": "stdout",
     "output_type": "stream",
     "text": [
      "\n",
      " Data(x=[528, 34], edge_index=[2, 10102], y=[528], edge_weight=[10102])\n",
      "\n",
      " Data(x=[470, 34], edge_index=[2, 8870], y=[470], edge_weight=[8870])\n",
      "\n",
      " Data(x=[274, 34], edge_index=[2, 4484], y=[274], edge_weight=[4484])\n",
      "\n",
      " Data(x=[319, 34], edge_index=[2, 5696], y=[319], edge_weight=[5696])\n",
      "\n",
      " Data(x=[253, 34], edge_index=[2, 4686], y=[253], edge_weight=[4686])\n",
      "\n",
      " Data(x=[255, 34], edge_index=[2, 4792], y=[255], edge_weight=[4792])\n",
      "\n",
      " Data(x=[99, 34], edge_index=[2, 1432], y=[99], edge_weight=[1432])\n",
      "\n",
      " Data(x=[99, 34], edge_index=[2, 1452], y=[99], edge_weight=[1452])\n",
      "\n",
      " Data(x=[99, 34], edge_index=[2, 1396], y=[99], edge_weight=[1396])\n",
      "\n",
      " Data(x=[99, 34], edge_index=[2, 1380], y=[99], edge_weight=[1380])\n",
      "\n",
      " Data(x=[147, 34], edge_index=[2, 2664], y=[147], edge_weight=[2664])\n",
      "\n",
      " Data(x=[147, 34], edge_index=[2, 2686], y=[147], edge_weight=[2686])\n",
      "\n",
      " Data(x=[147, 34], edge_index=[2, 2624], y=[147], edge_weight=[2624])\n",
      "\n",
      " Data(x=[218, 34], edge_index=[2, 3554], y=[218], edge_weight=[3554])\n",
      "\n",
      " Data(x=[455, 34], edge_index=[2, 8980], y=[455], edge_weight=[8980])\n",
      "\n",
      " Data(x=[455, 34], edge_index=[2, 8986], y=[455], edge_weight=[8986])\n"
     ]
    },
    {
     "name": "stderr",
     "output_type": "stream",
     "text": [
      " 20%|████████████▋                                                  | 40/199 [00:00<00:02, 64.20it/s]"
     ]
    },
    {
     "name": "stdout",
     "output_type": "stream",
     "text": [
      "\n",
      " Data(x=[281, 34], edge_index=[2, 4468], y=[281], edge_weight=[4468])\n",
      "\n",
      " Data(x=[280, 34], edge_index=[2, 4434], y=[280], edge_weight=[4434])\n",
      "\n",
      " Data(x=[200, 34], edge_index=[2, 3534], y=[200], edge_weight=[3534])\n",
      "\n",
      " Data(x=[147, 34], edge_index=[2, 2676], y=[147], edge_weight=[2676])\n",
      "\n",
      " Data(x=[254, 34], edge_index=[2, 4644], y=[254], edge_weight=[4644])\n",
      "\n",
      " Data(x=[254, 34], edge_index=[2, 4510], y=[254], edge_weight=[4510])\n",
      "\n",
      " Data(x=[254, 34], edge_index=[2, 4518], y=[254], edge_weight=[4518])\n",
      "\n",
      " Data(x=[254, 34], edge_index=[2, 4516], y=[254], edge_weight=[4516])\n",
      "\n",
      " Data(x=[254, 34], edge_index=[2, 4494], y=[254], edge_weight=[4494])\n",
      "\n",
      " Data(x=[269, 34], edge_index=[2, 4428], y=[269], edge_weight=[4428])\n",
      "\n",
      " Data(x=[99, 34], edge_index=[2, 1404], y=[99], edge_weight=[1404])\n",
      "\n",
      " Data(x=[99, 34], edge_index=[2, 1370], y=[99], edge_weight=[1370])\n"
     ]
    },
    {
     "name": "stderr",
     "output_type": "stream",
     "text": [
      " 28%|█████████████████▋                                             | 56/199 [00:00<00:02, 68.43it/s]"
     ]
    },
    {
     "name": "stdout",
     "output_type": "stream",
     "text": [
      "\n",
      " Data(x=[99, 34], edge_index=[2, 1426], y=[99], edge_weight=[1426])\n",
      "\n",
      " Data(x=[99, 34], edge_index=[2, 1408], y=[99], edge_weight=[1408])\n",
      "\n",
      " Data(x=[99, 34], edge_index=[2, 1418], y=[99], edge_weight=[1418])\n",
      "\n",
      " Data(x=[99, 34], edge_index=[2, 1438], y=[99], edge_weight=[1438])\n",
      "\n",
      " Data(x=[253, 34], edge_index=[2, 4756], y=[253], edge_weight=[4756])\n",
      "\n",
      " Data(x=[382, 34], edge_index=[2, 7204], y=[382], edge_weight=[7204])\n",
      "\n",
      " Data(x=[382, 34], edge_index=[2, 7184], y=[382], edge_weight=[7184])\n",
      "\n",
      " Data(x=[383, 34], edge_index=[2, 7546], y=[383], edge_weight=[7546])\n",
      "\n",
      " Data(x=[99, 34], edge_index=[2, 1438], y=[99], edge_weight=[1438])\n",
      "\n",
      " Data(x=[99, 34], edge_index=[2, 1414], y=[99], edge_weight=[1414])\n",
      "\n",
      " Data(x=[99, 34], edge_index=[2, 1442], y=[99], edge_weight=[1442])\n",
      "\n",
      " Data(x=[99, 34], edge_index=[2, 1394], y=[99], edge_weight=[1394])\n",
      "\n",
      " Data(x=[99, 34], edge_index=[2, 1552], y=[99], edge_weight=[1552])\n",
      "\n",
      " Data(x=[99, 34], edge_index=[2, 1550], y=[99], edge_weight=[1550])\n",
      "\n",
      " Data(x=[99, 34], edge_index=[2, 1592], y=[99], edge_weight=[1592])\n",
      "\n",
      " Data(x=[99, 34], edge_index=[2, 1606], y=[99], edge_weight=[1606])\n",
      "\n",
      " Data(x=[350, 34], edge_index=[2, 7120], y=[350], edge_weight=[7120])\n",
      "\n",
      " Data(x=[99, 34], edge_index=[2, 1434], y=[99], edge_weight=[1434])\n",
      "\n",
      " Data(x=[99, 34], edge_index=[2, 1408], y=[99], edge_weight=[1408])\n",
      "\n",
      " Data(x=[99, 34], edge_index=[2, 1416], y=[99], edge_weight=[1416])\n",
      "\n",
      " Data(x=[99, 34], edge_index=[2, 1396], y=[99], edge_weight=[1396])\n"
     ]
    },
    {
     "name": "stderr",
     "output_type": "stream",
     "text": [
      " 33%|████████████████████▉                                          | 66/199 [00:00<00:01, 68.29it/s]"
     ]
    },
    {
     "name": "stdout",
     "output_type": "stream",
     "text": [
      "\n",
      " Data(x=[347, 34], edge_index=[2, 6952], y=[347], edge_weight=[6952])\n",
      "\n",
      " Data(x=[1073, 34], edge_index=[2, 22028], y=[1073], edge_weight=[22028])\n",
      "\n",
      " Data(x=[213, 34], edge_index=[2, 3662], y=[213], edge_weight=[3662])\n",
      "\n",
      " Data(x=[213, 34], edge_index=[2, 3662], y=[213], edge_weight=[3662])\n",
      "\n",
      " Data(x=[585, 34], edge_index=[2, 10254], y=[585], edge_weight=[10254])\n",
      "\n",
      " Data(x=[491, 34], edge_index=[2, 7858], y=[491], edge_weight=[7858])\n",
      "\n",
      " Data(x=[539, 34], edge_index=[2, 8718], y=[539], edge_weight=[8718])\n"
     ]
    },
    {
     "name": "stderr",
     "output_type": "stream",
     "text": [
      " 41%|█████████████████████████▉                                     | 82/199 [00:01<00:02, 58.03it/s]"
     ]
    },
    {
     "name": "stdout",
     "output_type": "stream",
     "text": [
      "\n",
      " Data(x=[414, 34], edge_index=[2, 6626], y=[414], edge_weight=[6626])\n",
      "\n",
      " Data(x=[537, 34], edge_index=[2, 8406], y=[537], edge_weight=[8406])\n",
      "\n",
      " Data(x=[537, 34], edge_index=[2, 8614], y=[537], edge_weight=[8614])\n",
      "\n",
      " Data(x=[349, 34], edge_index=[2, 7050], y=[349], edge_weight=[7050])\n",
      "\n",
      " Data(x=[262, 34], edge_index=[2, 4894], y=[262], edge_weight=[4894])\n",
      "\n",
      " Data(x=[262, 34], edge_index=[2, 4870], y=[262], edge_weight=[4870])\n",
      "\n",
      " Data(x=[99, 34], edge_index=[2, 1402], y=[99], edge_weight=[1402])\n",
      "\n",
      " Data(x=[99, 34], edge_index=[2, 1394], y=[99], edge_weight=[1394])\n",
      "\n",
      " Data(x=[217, 34], edge_index=[2, 3370], y=[217], edge_weight=[3370])\n",
      "\n",
      " Data(x=[217, 34], edge_index=[2, 3374], y=[217], edge_weight=[3374])\n",
      "\n",
      " Data(x=[147, 34], edge_index=[2, 2656], y=[147], edge_weight=[2656])\n"
     ]
    },
    {
     "name": "stderr",
     "output_type": "stream",
     "text": [
      " 51%|███████████████████████████████▊                              | 102/199 [00:01<00:01, 75.28it/s]"
     ]
    },
    {
     "name": "stdout",
     "output_type": "stream",
     "text": [
      "\n",
      " Data(x=[242, 34], edge_index=[2, 4438], y=[242], edge_weight=[4438])\n",
      "\n",
      " Data(x=[360, 34], edge_index=[2, 6974], y=[360], edge_weight=[6974])\n",
      "\n",
      " Data(x=[364, 34], edge_index=[2, 7148], y=[364], edge_weight=[7148])\n",
      "\n",
      " Data(x=[99, 34], edge_index=[2, 1420], y=[99], edge_weight=[1420])\n",
      "\n",
      " Data(x=[99, 34], edge_index=[2, 1412], y=[99], edge_weight=[1412])\n",
      "\n",
      " Data(x=[99, 34], edge_index=[2, 1404], y=[99], edge_weight=[1404])\n",
      "\n",
      " Data(x=[99, 34], edge_index=[2, 1402], y=[99], edge_weight=[1402])\n",
      "\n",
      " Data(x=[99, 34], edge_index=[2, 1408], y=[99], edge_weight=[1408])\n",
      "\n",
      " Data(x=[99, 34], edge_index=[2, 1406], y=[99], edge_weight=[1406])\n",
      "\n",
      " Data(x=[177, 34], edge_index=[2, 3176], y=[177], edge_weight=[3176])\n",
      "\n",
      " Data(x=[99, 34], edge_index=[2, 1392], y=[99], edge_weight=[1392])\n",
      "\n",
      " Data(x=[99, 34], edge_index=[2, 1406], y=[99], edge_weight=[1406])\n",
      "\n",
      " Data(x=[99, 34], edge_index=[2, 1456], y=[99], edge_weight=[1456])\n",
      "\n",
      " Data(x=[99, 34], edge_index=[2, 1462], y=[99], edge_weight=[1462])\n",
      "\n",
      " Data(x=[99, 34], edge_index=[2, 1394], y=[99], edge_weight=[1394])\n",
      "\n",
      " Data(x=[99, 34], edge_index=[2, 1390], y=[99], edge_weight=[1390])\n",
      "\n",
      " Data(x=[99, 34], edge_index=[2, 1426], y=[99], edge_weight=[1426])\n",
      "\n",
      " Data(x=[99, 34], edge_index=[2, 1410], y=[99], edge_weight=[1410])\n",
      "\n",
      " Data(x=[469, 34], edge_index=[2, 8526], y=[469], edge_weight=[8526])\n",
      "\n",
      " Data(x=[311, 34], edge_index=[2, 5706], y=[311], edge_weight=[5706])\n"
     ]
    },
    {
     "name": "stderr",
     "output_type": "stream",
     "text": [
      " 56%|██████████████████████████████████▌                           | 111/199 [00:01<00:01, 65.71it/s]"
     ]
    },
    {
     "name": "stdout",
     "output_type": "stream",
     "text": [
      "\n",
      " Data(x=[217, 34], edge_index=[2, 3436], y=[217], edge_weight=[3436])\n",
      "\n",
      " Data(x=[217, 34], edge_index=[2, 3468], y=[217], edge_weight=[3468])\n",
      "\n",
      " Data(x=[202, 34], edge_index=[2, 3502], y=[202], edge_weight=[3502])\n",
      "\n",
      " Data(x=[220, 34], edge_index=[2, 3526], y=[220], edge_weight=[3526])\n",
      "\n",
      " Data(x=[220, 34], edge_index=[2, 3506], y=[220], edge_weight=[3506])\n",
      "\n",
      " Data(x=[99, 34], edge_index=[2, 1412], y=[99], edge_weight=[1412])\n",
      "\n",
      " Data(x=[99, 34], edge_index=[2, 1428], y=[99], edge_weight=[1428])\n",
      "\n",
      " Data(x=[528, 34], edge_index=[2, 10258], y=[528], edge_weight=[10258])\n",
      "\n",
      " Data(x=[330, 34], edge_index=[2, 5808], y=[330], edge_weight=[5808])\n",
      "\n",
      " Data(x=[490, 34], edge_index=[2, 9424], y=[490], edge_weight=[9424])\n"
     ]
    },
    {
     "name": "stderr",
     "output_type": "stream",
     "text": [
      " 60%|█████████████████████████████████████                         | 119/199 [00:01<00:01, 59.51it/s]"
     ]
    },
    {
     "name": "stdout",
     "output_type": "stream",
     "text": [
      "\n",
      " Data(x=[376, 34], edge_index=[2, 6926], y=[376], edge_weight=[6926])\n",
      "\n",
      " Data(x=[373, 34], edge_index=[2, 6928], y=[373], edge_weight=[6928])\n",
      "\n",
      " Data(x=[376, 34], edge_index=[2, 7556], y=[376], edge_weight=[7556])\n",
      "\n",
      " Data(x=[373, 34], edge_index=[2, 7498], y=[373], edge_weight=[7498])\n",
      "\n",
      " Data(x=[249, 34], edge_index=[2, 4102], y=[249], edge_weight=[4102])\n",
      "\n",
      " Data(x=[376, 34], edge_index=[2, 7478], y=[376], edge_weight=[7478])\n",
      "\n",
      " Data(x=[373, 34], edge_index=[2, 7406], y=[373], edge_weight=[7406])\n",
      "\n",
      " Data(x=[99, 34], edge_index=[2, 1434], y=[99], edge_weight=[1434])\n",
      "\n",
      " Data(x=[99, 34], edge_index=[2, 1430], y=[99], edge_weight=[1430])\n",
      "\n",
      " Data(x=[99, 34], edge_index=[2, 1388], y=[99], edge_weight=[1388])\n",
      "\n",
      " Data(x=[99, 34], edge_index=[2, 1394], y=[99], edge_weight=[1394])\n",
      "\n",
      " Data(x=[99, 34], edge_index=[2, 1382], y=[99], edge_weight=[1382])\n",
      "\n",
      " Data(x=[99, 34], edge_index=[2, 1376], y=[99], edge_weight=[1376])\n",
      "\n",
      " Data(x=[99, 34], edge_index=[2, 1388], y=[99], edge_weight=[1388])\n",
      "\n",
      " Data(x=[99, 34], edge_index=[2, 1396], y=[99], edge_weight=[1396])\n",
      "\n",
      " Data(x=[99, 34], edge_index=[2, 1416], y=[99], edge_weight=[1416])\n",
      "\n",
      " Data(x=[99, 34], edge_index=[2, 1418], y=[99], edge_weight=[1418])\n",
      "\n",
      " Data(x=[99, 34], edge_index=[2, 1426], y=[99], edge_weight=[1426])\n",
      "\n",
      " Data(x=[99, 34], edge_index=[2, 1442], y=[99], edge_weight=[1442])\n",
      "\n",
      " Data(x=[99, 34], edge_index=[2, 1398], y=[99], edge_weight=[1398])\n",
      "\n",
      " Data(x=[99, 34], edge_index=[2, 1396], y=[99], edge_weight=[1396])\n",
      "\n",
      " Data(x=[99, 34], edge_index=[2, 1384], y=[99], edge_weight=[1384])\n"
     ]
    },
    {
     "name": "stderr",
     "output_type": "stream",
     "text": [
      " 68%|██████████████████████████████████████████                    | 135/199 [00:01<00:00, 81.73it/s]"
     ]
    },
    {
     "name": "stdout",
     "output_type": "stream",
     "text": [
      "\n",
      " Data(x=[399, 34], edge_index=[2, 6414], y=[399], edge_weight=[6414])\n",
      "\n",
      " Data(x=[134, 34], edge_index=[2, 2126], y=[134], edge_weight=[2126])\n",
      "\n",
      " Data(x=[523, 34], edge_index=[2, 8264], y=[523], edge_weight=[8264])\n",
      "\n",
      " Data(x=[395, 34], edge_index=[2, 6286], y=[395], edge_weight=[6286])\n",
      "\n",
      " Data(x=[767, 34], edge_index=[2, 14964], y=[767], edge_weight=[14964])\n",
      "\n",
      " Data(x=[534, 34], edge_index=[2, 10284], y=[534], edge_weight=[10284])\n",
      "\n",
      " Data(x=[186, 34], edge_index=[2, 2908], y=[186], edge_weight=[2908])\n"
     ]
    },
    {
     "name": "stderr",
     "output_type": "stream",
     "text": [
      " 80%|█████████████████████████████████████████████████▊            | 160/199 [00:02<00:00, 78.00it/s]"
     ]
    },
    {
     "name": "stdout",
     "output_type": "stream",
     "text": [
      "\n",
      " Data(x=[502, 34], edge_index=[2, 9474], y=[502], edge_weight=[9474])\n",
      "\n",
      " Data(x=[447, 34], edge_index=[2, 8248], y=[447], edge_weight=[8248])\n",
      "\n",
      " Data(x=[99, 34], edge_index=[2, 1402], y=[99], edge_weight=[1402])\n",
      "\n",
      " Data(x=[123, 34], edge_index=[2, 1974], y=[123], edge_weight=[1974])\n",
      "\n",
      " Data(x=[99, 34], edge_index=[2, 1454], y=[99], edge_weight=[1454])\n",
      "\n",
      " Data(x=[99, 34], edge_index=[2, 1486], y=[99], edge_weight=[1486])\n",
      "\n",
      " Data(x=[99, 34], edge_index=[2, 1450], y=[99], edge_weight=[1450])\n",
      "\n",
      " Data(x=[99, 34], edge_index=[2, 1458], y=[99], edge_weight=[1458])\n",
      "\n",
      " Data(x=[99, 34], edge_index=[2, 1450], y=[99], edge_weight=[1450])\n",
      "\n",
      " Data(x=[99, 34], edge_index=[2, 1472], y=[99], edge_weight=[1472])\n",
      "\n",
      " Data(x=[99, 34], edge_index=[2, 1442], y=[99], edge_weight=[1442])\n",
      "\n",
      " Data(x=[99, 34], edge_index=[2, 1442], y=[99], edge_weight=[1442])\n",
      "\n",
      " Data(x=[99, 34], edge_index=[2, 1408], y=[99], edge_weight=[1408])\n",
      "\n",
      " Data(x=[99, 34], edge_index=[2, 1460], y=[99], edge_weight=[1460])\n",
      "\n",
      " Data(x=[99, 34], edge_index=[2, 1448], y=[99], edge_weight=[1448])\n",
      "\n",
      " Data(x=[99, 34], edge_index=[2, 1464], y=[99], edge_weight=[1464])\n",
      "\n",
      " Data(x=[99, 34], edge_index=[2, 1470], y=[99], edge_weight=[1470])\n",
      "\n",
      " Data(x=[99, 34], edge_index=[2, 1504], y=[99], edge_weight=[1504])\n",
      "\n",
      " Data(x=[520, 34], edge_index=[2, 8324], y=[520], edge_weight=[8324])\n"
     ]
    },
    {
     "name": "stderr",
     "output_type": "stream",
     "text": [
      " 85%|████████████████████████████████████████████████████▉         | 170/199 [00:02<00:00, 67.99it/s]"
     ]
    },
    {
     "name": "stdout",
     "output_type": "stream",
     "text": [
      "\n",
      " Data(x=[403, 34], edge_index=[2, 6540], y=[403], edge_weight=[6540])\n",
      "\n",
      " Data(x=[543, 34], edge_index=[2, 8710], y=[543], edge_weight=[8710])\n",
      "\n",
      " Data(x=[542, 34], edge_index=[2, 8666], y=[542], edge_weight=[8666])\n",
      "\n",
      " Data(x=[408, 34], edge_index=[2, 6426], y=[408], edge_weight=[6426])\n",
      "\n",
      " Data(x=[315, 34], edge_index=[2, 5620], y=[315], edge_weight=[5620])\n",
      "\n",
      " Data(x=[262, 34], edge_index=[2, 4966], y=[262], edge_weight=[4966])\n",
      "\n",
      " Data(x=[147, 34], edge_index=[2, 2666], y=[147], edge_weight=[2666])\n",
      "\n",
      " Data(x=[124, 34], edge_index=[2, 1996], y=[124], edge_weight=[1996])\n",
      "\n",
      " Data(x=[124, 34], edge_index=[2, 1982], y=[124], edge_weight=[1982])\n",
      "\n",
      " Data(x=[124, 34], edge_index=[2, 1994], y=[124], edge_weight=[1994])\n",
      "\n",
      " Data(x=[124, 34], edge_index=[2, 1974], y=[124], edge_weight=[1974])\n",
      "\n",
      " Data(x=[585, 34], edge_index=[2, 10754], y=[585], edge_weight=[10754])\n"
     ]
    },
    {
     "name": "stderr",
     "output_type": "stream",
     "text": [
      " 90%|███████████████████████████████████████████████████████▊      | 179/199 [00:02<00:00, 70.19it/s]"
     ]
    },
    {
     "name": "stdout",
     "output_type": "stream",
     "text": [
      "\n",
      " Data(x=[585, 34], edge_index=[2, 10582], y=[585], edge_weight=[10582])\n",
      "\n",
      " Data(x=[164, 34], edge_index=[2, 2672], y=[164], edge_weight=[2672])\n",
      "\n",
      " Data(x=[164, 34], edge_index=[2, 2710], y=[164], edge_weight=[2710])\n",
      "\n",
      " Data(x=[99, 34], edge_index=[2, 1384], y=[99], edge_weight=[1384])\n",
      "\n",
      " Data(x=[99, 34], edge_index=[2, 1400], y=[99], edge_weight=[1400])\n",
      "\n",
      " Data(x=[99, 34], edge_index=[2, 1376], y=[99], edge_weight=[1376])\n",
      "\n",
      " Data(x=[99, 34], edge_index=[2, 1388], y=[99], edge_weight=[1388])\n",
      "\n",
      " Data(x=[284, 34], edge_index=[2, 5082], y=[284], edge_weight=[5082])\n",
      "\n",
      " Data(x=[284, 34], edge_index=[2, 5138], y=[284], edge_weight=[5138])\n",
      "\n",
      " Data(x=[186, 34], edge_index=[2, 2888], y=[186], edge_weight=[2888])\n",
      "\n",
      " Data(x=[529, 34], edge_index=[2, 10208], y=[529], edge_weight=[10208])\n",
      "\n",
      " Data(x=[532, 34], edge_index=[2, 10354], y=[532], edge_weight=[10354])\n",
      "\n",
      " Data(x=[217, 34], edge_index=[2, 3434], y=[217], edge_weight=[3434])\n"
     ]
    },
    {
     "name": "stderr",
     "output_type": "stream",
     "text": [
      "100%|██████████████████████████████████████████████████████████████| 199/199 [00:03<00:00, 65.91it/s]\n"
     ]
    },
    {
     "name": "stdout",
     "output_type": "stream",
     "text": [
      "\n",
      " Data(x=[217, 34], edge_index=[2, 3446], y=[217], edge_weight=[3446])\n",
      "\n",
      " Data(x=[99, 34], edge_index=[2, 1410], y=[99], edge_weight=[1410])\n",
      "\n",
      " Data(x=[99, 34], edge_index=[2, 1410], y=[99], edge_weight=[1410])\n",
      "\n",
      " Data(x=[99, 34], edge_index=[2, 1402], y=[99], edge_weight=[1402])\n",
      "\n",
      " Data(x=[99, 34], edge_index=[2, 1376], y=[99], edge_weight=[1376])\n",
      "\n",
      " Data(x=[99, 34], edge_index=[2, 1408], y=[99], edge_weight=[1408])\n",
      "\n",
      " Data(x=[99, 34], edge_index=[2, 1392], y=[99], edge_weight=[1392])\n",
      "\n",
      " Data(x=[558, 34], edge_index=[2, 9116], y=[558], edge_weight=[9116])\n",
      "\n",
      " Data(x=[427, 34], edge_index=[2, 6880], y=[427], edge_weight=[6880])\n",
      "\n",
      " Data(x=[558, 34], edge_index=[2, 9054], y=[558], edge_weight=[9054])\n",
      "\n",
      " Data(x=[427, 34], edge_index=[2, 6794], y=[427], edge_weight=[6794])\n",
      "\n",
      " Data(x=[99, 34], edge_index=[2, 1408], y=[99], edge_weight=[1408])\n",
      "\n",
      " Data(x=[99, 34], edge_index=[2, 1436], y=[99], edge_weight=[1436])\n",
      "\n",
      " Data(x=[163, 34], edge_index=[2, 2488], y=[163], edge_weight=[2488])\n",
      "[INFO ] set 6\n"
     ]
    },
    {
     "name": "stderr",
     "output_type": "stream",
     "text": [
      "  0%|                                                                        | 0/199 [00:00<?, ?it/s]"
     ]
    },
    {
     "name": "stdout",
     "output_type": "stream",
     "text": [
      "\n",
      " Data(x=[144, 34], edge_index=[2, 2010], y=[144], edge_weight=[2010])\n",
      "\n",
      " Data(x=[260, 34], edge_index=[2, 4886], y=[260], edge_weight=[4886])\n"
     ]
    },
    {
     "name": "stderr",
     "output_type": "stream",
     "text": [
      "  4%|██▎                                                             | 7/199 [00:00<00:03, 51.51it/s]"
     ]
    },
    {
     "name": "stdout",
     "output_type": "stream",
     "text": [
      "\n",
      " Data(x=[249, 34], edge_index=[2, 4630], y=[249], edge_weight=[4630])\n",
      "\n",
      " Data(x=[258, 34], edge_index=[2, 4908], y=[258], edge_weight=[4908])\n",
      "\n",
      " Data(x=[99, 34], edge_index=[2, 1430], y=[99], edge_weight=[1430])\n",
      "\n",
      " Data(x=[99, 34], edge_index=[2, 1422], y=[99], edge_weight=[1422])\n",
      "\n",
      " Data(x=[99, 34], edge_index=[2, 1434], y=[99], edge_weight=[1434])\n",
      "\n",
      " Data(x=[99, 34], edge_index=[2, 1416], y=[99], edge_weight=[1416])\n",
      "\n",
      " Data(x=[99, 34], edge_index=[2, 1412], y=[99], edge_weight=[1412])\n",
      "\n",
      " Data(x=[99, 34], edge_index=[2, 1442], y=[99], edge_weight=[1442])\n",
      "\n",
      " Data(x=[99, 34], edge_index=[2, 1446], y=[99], edge_weight=[1446])\n",
      "\n",
      " Data(x=[99, 34], edge_index=[2, 1418], y=[99], edge_weight=[1418])\n",
      "\n",
      " Data(x=[99, 34], edge_index=[2, 1402], y=[99], edge_weight=[1402])\n",
      "\n",
      " Data(x=[99, 34], edge_index=[2, 1380], y=[99], edge_weight=[1380])\n",
      "\n",
      " Data(x=[1058, 34], edge_index=[2, 21656], y=[1058], edge_weight=[21656])\n"
     ]
    },
    {
     "name": "stderr",
     "output_type": "stream",
     "text": [
      " 12%|███████▎                                                       | 23/199 [00:00<00:02, 63.43it/s]"
     ]
    },
    {
     "name": "stdout",
     "output_type": "stream",
     "text": [
      "\n",
      " Data(x=[528, 34], edge_index=[2, 10102], y=[528], edge_weight=[10102])\n",
      "\n",
      " Data(x=[470, 34], edge_index=[2, 8870], y=[470], edge_weight=[8870])\n",
      "\n",
      " Data(x=[274, 34], edge_index=[2, 4484], y=[274], edge_weight=[4484])\n",
      "\n",
      " Data(x=[319, 34], edge_index=[2, 5696], y=[319], edge_weight=[5696])\n",
      "\n",
      " Data(x=[253, 34], edge_index=[2, 4686], y=[253], edge_weight=[4686])\n",
      "\n",
      " Data(x=[255, 34], edge_index=[2, 4792], y=[255], edge_weight=[4792])\n",
      "\n",
      " Data(x=[99, 34], edge_index=[2, 1432], y=[99], edge_weight=[1432])\n",
      "\n",
      " Data(x=[99, 34], edge_index=[2, 1452], y=[99], edge_weight=[1452])\n",
      "\n",
      " Data(x=[99, 34], edge_index=[2, 1396], y=[99], edge_weight=[1396])\n",
      "\n",
      " Data(x=[99, 34], edge_index=[2, 1380], y=[99], edge_weight=[1380])\n",
      "\n",
      " Data(x=[147, 34], edge_index=[2, 2664], y=[147], edge_weight=[2664])\n",
      "\n",
      " Data(x=[147, 34], edge_index=[2, 2686], y=[147], edge_weight=[2686])\n",
      "\n",
      " Data(x=[147, 34], edge_index=[2, 2624], y=[147], edge_weight=[2624])\n",
      "\n",
      " Data(x=[218, 34], edge_index=[2, 3554], y=[218], edge_weight=[3554])\n"
     ]
    },
    {
     "name": "stderr",
     "output_type": "stream",
     "text": [
      " 19%|███████████▋                                                   | 37/199 [00:00<00:02, 61.29it/s]"
     ]
    },
    {
     "name": "stdout",
     "output_type": "stream",
     "text": [
      "\n",
      " Data(x=[455, 34], edge_index=[2, 8980], y=[455], edge_weight=[8980])\n",
      "\n",
      " Data(x=[455, 34], edge_index=[2, 8986], y=[455], edge_weight=[8986])\n",
      "\n",
      " Data(x=[281, 34], edge_index=[2, 4468], y=[281], edge_weight=[4468])\n",
      "\n",
      " Data(x=[280, 34], edge_index=[2, 4434], y=[280], edge_weight=[4434])\n",
      "\n",
      " Data(x=[200, 34], edge_index=[2, 3534], y=[200], edge_weight=[3534])\n",
      "\n",
      " Data(x=[147, 34], edge_index=[2, 2676], y=[147], edge_weight=[2676])\n",
      "\n",
      " Data(x=[254, 34], edge_index=[2, 4644], y=[254], edge_weight=[4644])\n",
      "\n",
      " Data(x=[254, 34], edge_index=[2, 4510], y=[254], edge_weight=[4510])\n",
      "\n",
      " Data(x=[254, 34], edge_index=[2, 4518], y=[254], edge_weight=[4518])\n",
      "\n",
      " Data(x=[254, 34], edge_index=[2, 4516], y=[254], edge_weight=[4516])\n",
      "\n",
      " Data(x=[254, 34], edge_index=[2, 4494], y=[254], edge_weight=[4494])\n",
      "\n",
      " Data(x=[269, 34], edge_index=[2, 4428], y=[269], edge_weight=[4428])\n",
      "\n",
      " Data(x=[99, 34], edge_index=[2, 1404], y=[99], edge_weight=[1404])\n",
      "\n",
      " Data(x=[99, 34], edge_index=[2, 1370], y=[99], edge_weight=[1370])\n",
      "\n",
      " Data(x=[99, 34], edge_index=[2, 1426], y=[99], edge_weight=[1426])\n",
      "\n",
      " Data(x=[99, 34], edge_index=[2, 1408], y=[99], edge_weight=[1408])\n",
      "\n",
      " Data(x=[99, 34], edge_index=[2, 1418], y=[99], edge_weight=[1418])\n",
      "\n",
      " Data(x=[99, 34], edge_index=[2, 1438], y=[99], edge_weight=[1438])\n"
     ]
    },
    {
     "name": "stderr",
     "output_type": "stream",
     "text": [
      " 31%|███████████████████▎                                           | 61/199 [00:00<00:01, 85.20it/s]"
     ]
    },
    {
     "name": "stdout",
     "output_type": "stream",
     "text": [
      "\n",
      " Data(x=[253, 34], edge_index=[2, 4756], y=[253], edge_weight=[4756])\n",
      "\n",
      " Data(x=[382, 34], edge_index=[2, 7204], y=[382], edge_weight=[7204])\n",
      "\n",
      " Data(x=[382, 34], edge_index=[2, 7184], y=[382], edge_weight=[7184])\n",
      "\n",
      " Data(x=[383, 34], edge_index=[2, 7546], y=[383], edge_weight=[7546])\n",
      "\n",
      " Data(x=[99, 34], edge_index=[2, 1438], y=[99], edge_weight=[1438])\n",
      "\n",
      " Data(x=[99, 34], edge_index=[2, 1414], y=[99], edge_weight=[1414])\n",
      "\n",
      " Data(x=[99, 34], edge_index=[2, 1442], y=[99], edge_weight=[1442])\n",
      "\n",
      " Data(x=[99, 34], edge_index=[2, 1394], y=[99], edge_weight=[1394])\n",
      "\n",
      " Data(x=[99, 34], edge_index=[2, 1552], y=[99], edge_weight=[1552])\n",
      "\n",
      " Data(x=[99, 34], edge_index=[2, 1550], y=[99], edge_weight=[1550])\n",
      "\n",
      " Data(x=[99, 34], edge_index=[2, 1592], y=[99], edge_weight=[1592])\n",
      "\n",
      " Data(x=[99, 34], edge_index=[2, 1606], y=[99], edge_weight=[1606])\n",
      "\n",
      " Data(x=[350, 34], edge_index=[2, 7120], y=[350], edge_weight=[7120])\n",
      "\n",
      " Data(x=[99, 34], edge_index=[2, 1434], y=[99], edge_weight=[1434])\n",
      "\n",
      " Data(x=[99, 34], edge_index=[2, 1408], y=[99], edge_weight=[1408])\n",
      "\n",
      " Data(x=[99, 34], edge_index=[2, 1416], y=[99], edge_weight=[1416])\n",
      "\n",
      " Data(x=[99, 34], edge_index=[2, 1396], y=[99], edge_weight=[1396])\n",
      "\n",
      " Data(x=[347, 34], edge_index=[2, 6952], y=[347], edge_weight=[6952])\n"
     ]
    },
    {
     "name": "stderr",
     "output_type": "stream",
     "text": [
      " 35%|██████████████████████▏                                        | 70/199 [00:01<00:02, 62.26it/s]"
     ]
    },
    {
     "name": "stdout",
     "output_type": "stream",
     "text": [
      "\n",
      " Data(x=[1073, 34], edge_index=[2, 22028], y=[1073], edge_weight=[22028])\n",
      "\n",
      " Data(x=[213, 34], edge_index=[2, 3662], y=[213], edge_weight=[3662])\n",
      "\n",
      " Data(x=[213, 34], edge_index=[2, 3662], y=[213], edge_weight=[3662])\n",
      "\n",
      " Data(x=[585, 34], edge_index=[2, 10254], y=[585], edge_weight=[10254])\n",
      "\n",
      " Data(x=[491, 34], edge_index=[2, 7858], y=[491], edge_weight=[7858])\n",
      "\n",
      " Data(x=[539, 34], edge_index=[2, 8718], y=[539], edge_weight=[8718])\n",
      "\n",
      " Data(x=[414, 34], edge_index=[2, 6626], y=[414], edge_weight=[6626])\n",
      "\n",
      " Data(x=[537, 34], edge_index=[2, 8406], y=[537], edge_weight=[8406])\n"
     ]
    },
    {
     "name": "stderr",
     "output_type": "stream",
     "text": [
      " 39%|████████████████████████▋                                      | 78/199 [00:01<00:02, 52.06it/s]"
     ]
    },
    {
     "name": "stdout",
     "output_type": "stream",
     "text": [
      "\n",
      " Data(x=[537, 34], edge_index=[2, 8614], y=[537], edge_weight=[8614])\n",
      "\n",
      " Data(x=[349, 34], edge_index=[2, 7050], y=[349], edge_weight=[7050])\n",
      "\n",
      " Data(x=[262, 34], edge_index=[2, 4894], y=[262], edge_weight=[4894])\n",
      "\n",
      " Data(x=[262, 34], edge_index=[2, 4870], y=[262], edge_weight=[4870])\n",
      "\n",
      " Data(x=[99, 34], edge_index=[2, 1402], y=[99], edge_weight=[1402])\n",
      "\n",
      " Data(x=[99, 34], edge_index=[2, 1394], y=[99], edge_weight=[1394])\n",
      "\n",
      " Data(x=[217, 34], edge_index=[2, 3370], y=[217], edge_weight=[3370])\n",
      "\n",
      " Data(x=[217, 34], edge_index=[2, 3374], y=[217], edge_weight=[3374])\n",
      "\n",
      " Data(x=[147, 34], edge_index=[2, 2656], y=[147], edge_weight=[2656])\n",
      "\n",
      " Data(x=[242, 34], edge_index=[2, 4438], y=[242], edge_weight=[4438])\n",
      "\n",
      " Data(x=[360, 34], edge_index=[2, 6974], y=[360], edge_weight=[6974])\n",
      "\n",
      " Data(x=[364, 34], edge_index=[2, 7148], y=[364], edge_weight=[7148])\n"
     ]
    },
    {
     "name": "stderr",
     "output_type": "stream",
     "text": [
      " 51%|███████████████████████████████▍                              | 101/199 [00:01<00:01, 76.76it/s]"
     ]
    },
    {
     "name": "stdout",
     "output_type": "stream",
     "text": [
      "\n",
      " Data(x=[99, 34], edge_index=[2, 1420], y=[99], edge_weight=[1420])\n",
      "\n",
      " Data(x=[99, 34], edge_index=[2, 1412], y=[99], edge_weight=[1412])\n",
      "\n",
      " Data(x=[99, 34], edge_index=[2, 1404], y=[99], edge_weight=[1404])\n",
      "\n",
      " Data(x=[99, 34], edge_index=[2, 1402], y=[99], edge_weight=[1402])\n",
      "\n",
      " Data(x=[99, 34], edge_index=[2, 1408], y=[99], edge_weight=[1408])\n",
      "\n",
      " Data(x=[99, 34], edge_index=[2, 1406], y=[99], edge_weight=[1406])\n",
      "\n",
      " Data(x=[177, 34], edge_index=[2, 3176], y=[177], edge_weight=[3176])\n",
      "\n",
      " Data(x=[99, 34], edge_index=[2, 1392], y=[99], edge_weight=[1392])\n",
      "\n",
      " Data(x=[99, 34], edge_index=[2, 1406], y=[99], edge_weight=[1406])\n",
      "\n",
      " Data(x=[99, 34], edge_index=[2, 1456], y=[99], edge_weight=[1456])\n",
      "\n",
      " Data(x=[99, 34], edge_index=[2, 1462], y=[99], edge_weight=[1462])\n",
      "\n",
      " Data(x=[99, 34], edge_index=[2, 1394], y=[99], edge_weight=[1394])\n",
      "\n",
      " Data(x=[99, 34], edge_index=[2, 1390], y=[99], edge_weight=[1390])\n",
      "\n",
      " Data(x=[99, 34], edge_index=[2, 1426], y=[99], edge_weight=[1426])\n",
      "\n",
      " Data(x=[99, 34], edge_index=[2, 1410], y=[99], edge_weight=[1410])\n",
      "\n",
      " Data(x=[469, 34], edge_index=[2, 8526], y=[469], edge_weight=[8526])\n",
      "\n",
      " Data(x=[311, 34], edge_index=[2, 5706], y=[311], edge_weight=[5706])\n",
      "\n",
      " Data(x=[217, 34], edge_index=[2, 3436], y=[217], edge_weight=[3436])\n",
      "\n",
      " Data(x=[217, 34], edge_index=[2, 3468], y=[217], edge_weight=[3468])\n",
      "\n",
      " Data(x=[202, 34], edge_index=[2, 3502], y=[202], edge_weight=[3502])\n",
      "\n",
      " Data(x=[220, 34], edge_index=[2, 3526], y=[220], edge_weight=[3526])\n",
      "\n",
      " Data(x=[220, 34], edge_index=[2, 3506], y=[220], edge_weight=[3506])\n",
      "\n",
      " Data(x=[99, 34], edge_index=[2, 1412], y=[99], edge_weight=[1412])\n",
      "\n",
      " Data(x=[99, 34], edge_index=[2, 1428], y=[99], edge_weight=[1428])\n"
     ]
    },
    {
     "name": "stderr",
     "output_type": "stream",
     "text": [
      " 55%|██████████████████████████████████▎                           | 110/199 [00:01<00:01, 78.06it/s]"
     ]
    },
    {
     "name": "stdout",
     "output_type": "stream",
     "text": [
      "\n",
      " Data(x=[528, 34], edge_index=[2, 10258], y=[528], edge_weight=[10258])\n",
      "\n",
      " Data(x=[330, 34], edge_index=[2, 5808], y=[330], edge_weight=[5808])\n",
      "\n",
      " Data(x=[490, 34], edge_index=[2, 9424], y=[490], edge_weight=[9424])\n",
      "\n",
      " Data(x=[376, 34], edge_index=[2, 6926], y=[376], edge_weight=[6926])\n",
      "\n",
      " Data(x=[373, 34], edge_index=[2, 6928], y=[373], edge_weight=[6928])\n",
      "\n",
      " Data(x=[376, 34], edge_index=[2, 7556], y=[376], edge_weight=[7556])\n",
      "\n",
      " Data(x=[373, 34], edge_index=[2, 7498], y=[373], edge_weight=[7498])\n",
      "\n",
      " Data(x=[249, 34], edge_index=[2, 4102], y=[249], edge_weight=[4102])\n"
     ]
    },
    {
     "name": "stderr",
     "output_type": "stream",
     "text": [
      " 68%|██████████████████████████████████████████▎                   | 136/199 [00:01<00:00, 82.51it/s]"
     ]
    },
    {
     "name": "stdout",
     "output_type": "stream",
     "text": [
      "\n",
      " Data(x=[376, 34], edge_index=[2, 7478], y=[376], edge_weight=[7478])\n",
      "\n",
      " Data(x=[373, 34], edge_index=[2, 7406], y=[373], edge_weight=[7406])\n",
      "\n",
      " Data(x=[99, 34], edge_index=[2, 1434], y=[99], edge_weight=[1434])\n",
      "\n",
      " Data(x=[99, 34], edge_index=[2, 1430], y=[99], edge_weight=[1430])\n",
      "\n",
      " Data(x=[99, 34], edge_index=[2, 1388], y=[99], edge_weight=[1388])\n",
      "\n",
      " Data(x=[99, 34], edge_index=[2, 1394], y=[99], edge_weight=[1394])\n",
      "\n",
      " Data(x=[99, 34], edge_index=[2, 1382], y=[99], edge_weight=[1382])\n",
      "\n",
      " Data(x=[99, 34], edge_index=[2, 1376], y=[99], edge_weight=[1376])\n",
      "\n",
      " Data(x=[99, 34], edge_index=[2, 1388], y=[99], edge_weight=[1388])\n",
      "\n",
      " Data(x=[99, 34], edge_index=[2, 1396], y=[99], edge_weight=[1396])\n",
      "\n",
      " Data(x=[99, 34], edge_index=[2, 1416], y=[99], edge_weight=[1416])\n",
      "\n",
      " Data(x=[99, 34], edge_index=[2, 1418], y=[99], edge_weight=[1418])\n",
      "\n",
      " Data(x=[99, 34], edge_index=[2, 1426], y=[99], edge_weight=[1426])\n",
      "\n",
      " Data(x=[99, 34], edge_index=[2, 1442], y=[99], edge_weight=[1442])\n",
      "\n",
      " Data(x=[99, 34], edge_index=[2, 1398], y=[99], edge_weight=[1398])\n",
      "\n",
      " Data(x=[99, 34], edge_index=[2, 1396], y=[99], edge_weight=[1396])\n",
      "\n",
      " Data(x=[99, 34], edge_index=[2, 1384], y=[99], edge_weight=[1384])\n",
      "\n",
      " Data(x=[399, 34], edge_index=[2, 6414], y=[399], edge_weight=[6414])\n",
      "\n",
      " Data(x=[134, 34], edge_index=[2, 2126], y=[134], edge_weight=[2126])\n",
      "\n",
      " Data(x=[523, 34], edge_index=[2, 8264], y=[523], edge_weight=[8264])\n",
      "\n",
      " Data(x=[395, 34], edge_index=[2, 6286], y=[395], edge_weight=[6286])\n"
     ]
    },
    {
     "name": "stderr",
     "output_type": "stream",
     "text": [
      " 73%|█████████████████████████████████████████████▍                | 146/199 [00:02<00:00, 63.83it/s]"
     ]
    },
    {
     "name": "stdout",
     "output_type": "stream",
     "text": [
      "\n",
      " Data(x=[767, 34], edge_index=[2, 14964], y=[767], edge_weight=[14964])\n",
      "\n",
      " Data(x=[534, 34], edge_index=[2, 10284], y=[534], edge_weight=[10284])\n",
      "\n",
      " Data(x=[186, 34], edge_index=[2, 2908], y=[186], edge_weight=[2908])\n",
      "\n",
      " Data(x=[502, 34], edge_index=[2, 9474], y=[502], edge_weight=[9474])\n",
      "\n",
      " Data(x=[447, 34], edge_index=[2, 8248], y=[447], edge_weight=[8248])\n",
      "\n",
      " Data(x=[99, 34], edge_index=[2, 1402], y=[99], edge_weight=[1402])\n",
      "\n",
      " Data(x=[123, 34], edge_index=[2, 1974], y=[123], edge_weight=[1974])\n",
      "\n",
      " Data(x=[99, 34], edge_index=[2, 1454], y=[99], edge_weight=[1454])\n",
      "\n",
      " Data(x=[99, 34], edge_index=[2, 1486], y=[99], edge_weight=[1486])\n",
      "\n",
      " Data(x=[99, 34], edge_index=[2, 1450], y=[99], edge_weight=[1450])\n",
      "\n",
      " Data(x=[99, 34], edge_index=[2, 1458], y=[99], edge_weight=[1458])\n",
      "\n",
      " Data(x=[99, 34], edge_index=[2, 1450], y=[99], edge_weight=[1450])\n",
      "\n",
      " Data(x=[99, 34], edge_index=[2, 1472], y=[99], edge_weight=[1472])\n",
      "\n",
      " Data(x=[99, 34], edge_index=[2, 1442], y=[99], edge_weight=[1442])\n",
      "\n",
      " Data(x=[99, 34], edge_index=[2, 1442], y=[99], edge_weight=[1442])\n"
     ]
    },
    {
     "name": "stderr",
     "output_type": "stream",
     "text": [
      " 81%|██████████████████████████████████████████████████▏           | 161/199 [00:02<00:00, 78.35it/s]"
     ]
    },
    {
     "name": "stdout",
     "output_type": "stream",
     "text": [
      "\n",
      " Data(x=[99, 34], edge_index=[2, 1408], y=[99], edge_weight=[1408])\n",
      "\n",
      " Data(x=[99, 34], edge_index=[2, 1460], y=[99], edge_weight=[1460])\n",
      "\n",
      " Data(x=[99, 34], edge_index=[2, 1448], y=[99], edge_weight=[1448])\n",
      "\n",
      " Data(x=[99, 34], edge_index=[2, 1464], y=[99], edge_weight=[1464])\n",
      "\n",
      " Data(x=[99, 34], edge_index=[2, 1470], y=[99], edge_weight=[1470])\n",
      "\n",
      " Data(x=[99, 34], edge_index=[2, 1504], y=[99], edge_weight=[1504])\n",
      "\n",
      " Data(x=[520, 34], edge_index=[2, 8324], y=[520], edge_weight=[8324])\n",
      "\n",
      " Data(x=[403, 34], edge_index=[2, 6540], y=[403], edge_weight=[6540])\n",
      "\n",
      " Data(x=[543, 34], edge_index=[2, 8710], y=[543], edge_weight=[8710])\n",
      "\n",
      " Data(x=[542, 34], edge_index=[2, 8666], y=[542], edge_weight=[8666])\n",
      "\n",
      " Data(x=[408, 34], edge_index=[2, 6426], y=[408], edge_weight=[6426])\n",
      "\n",
      " Data(x=[315, 34], edge_index=[2, 5620], y=[315], edge_weight=[5620])\n",
      "\n",
      " Data(x=[262, 34], edge_index=[2, 4966], y=[262], edge_weight=[4966])\n"
     ]
    },
    {
     "name": "stderr",
     "output_type": "stream",
     "text": [
      " 86%|█████████████████████████████████████████████████████▎        | 171/199 [00:02<00:00, 74.35it/s]"
     ]
    },
    {
     "name": "stdout",
     "output_type": "stream",
     "text": [
      "\n",
      " Data(x=[147, 34], edge_index=[2, 2666], y=[147], edge_weight=[2666])\n",
      "\n",
      " Data(x=[124, 34], edge_index=[2, 1996], y=[124], edge_weight=[1996])\n",
      "\n",
      " Data(x=[124, 34], edge_index=[2, 1982], y=[124], edge_weight=[1982])\n",
      "\n",
      " Data(x=[124, 34], edge_index=[2, 1994], y=[124], edge_weight=[1994])\n",
      "\n",
      " Data(x=[124, 34], edge_index=[2, 1974], y=[124], edge_weight=[1974])\n",
      "\n",
      " Data(x=[585, 34], edge_index=[2, 10754], y=[585], edge_weight=[10754])\n",
      "\n",
      " Data(x=[585, 34], edge_index=[2, 10582], y=[585], edge_weight=[10582])\n",
      "\n",
      " Data(x=[164, 34], edge_index=[2, 2672], y=[164], edge_weight=[2672])\n",
      "\n",
      " Data(x=[164, 34], edge_index=[2, 2710], y=[164], edge_weight=[2710])\n",
      "\n",
      " Data(x=[99, 34], edge_index=[2, 1384], y=[99], edge_weight=[1384])\n",
      "\n",
      " Data(x=[99, 34], edge_index=[2, 1400], y=[99], edge_weight=[1400])\n",
      "\n",
      " Data(x=[99, 34], edge_index=[2, 1376], y=[99], edge_weight=[1376])\n",
      "\n",
      " Data(x=[99, 34], edge_index=[2, 1388], y=[99], edge_weight=[1388])\n"
     ]
    },
    {
     "name": "stderr",
     "output_type": "stream",
     "text": [
      " 94%|██████████████████████████████████████████████████████████▌   | 188/199 [00:02<00:00, 66.03it/s]"
     ]
    },
    {
     "name": "stdout",
     "output_type": "stream",
     "text": [
      "\n",
      " Data(x=[284, 34], edge_index=[2, 5082], y=[284], edge_weight=[5082])\n",
      "\n",
      " Data(x=[284, 34], edge_index=[2, 5138], y=[284], edge_weight=[5138])\n",
      "\n",
      " Data(x=[186, 34], edge_index=[2, 2888], y=[186], edge_weight=[2888])\n",
      "\n",
      " Data(x=[529, 34], edge_index=[2, 10208], y=[529], edge_weight=[10208])\n",
      "\n",
      " Data(x=[532, 34], edge_index=[2, 10354], y=[532], edge_weight=[10354])\n",
      "\n",
      " Data(x=[217, 34], edge_index=[2, 3434], y=[217], edge_weight=[3434])\n",
      "\n",
      " Data(x=[217, 34], edge_index=[2, 3446], y=[217], edge_weight=[3446])\n",
      "\n",
      " Data(x=[99, 34], edge_index=[2, 1410], y=[99], edge_weight=[1410])\n",
      "\n",
      " Data(x=[99, 34], edge_index=[2, 1410], y=[99], edge_weight=[1410])\n",
      "\n",
      " Data(x=[99, 34], edge_index=[2, 1402], y=[99], edge_weight=[1402])\n",
      "\n",
      " Data(x=[99, 34], edge_index=[2, 1376], y=[99], edge_weight=[1376])\n",
      "\n",
      " Data(x=[99, 34], edge_index=[2, 1408], y=[99], edge_weight=[1408])\n",
      "\n",
      " Data(x=[99, 34], edge_index=[2, 1392], y=[99], edge_weight=[1392])\n",
      "\n",
      " Data(x=[558, 34], edge_index=[2, 9116], y=[558], edge_weight=[9116])\n",
      "\n",
      " Data(x=[427, 34], edge_index=[2, 6880], y=[427], edge_weight=[6880])\n"
     ]
    },
    {
     "name": "stderr",
     "output_type": "stream",
     "text": [
      "100%|██████████████████████████████████████████████████████████████| 199/199 [00:02<00:00, 67.90it/s]\n"
     ]
    },
    {
     "name": "stdout",
     "output_type": "stream",
     "text": [
      "\n",
      " Data(x=[558, 34], edge_index=[2, 9054], y=[558], edge_weight=[9054])\n",
      "\n",
      " Data(x=[427, 34], edge_index=[2, 6794], y=[427], edge_weight=[6794])\n",
      "\n",
      " Data(x=[99, 34], edge_index=[2, 1408], y=[99], edge_weight=[1408])\n",
      "\n",
      " Data(x=[99, 34], edge_index=[2, 1436], y=[99], edge_weight=[1436])\n",
      "\n",
      " Data(x=[163, 34], edge_index=[2, 2488], y=[163], edge_weight=[2488])\n",
      "[INFO ] set 7\n"
     ]
    },
    {
     "name": "stderr",
     "output_type": "stream",
     "text": [
      "  7%|████▎                                                         | 14/199 [00:00<00:01, 136.19it/s]"
     ]
    },
    {
     "name": "stdout",
     "output_type": "stream",
     "text": [
      "\n",
      " Data(x=[144, 34], edge_index=[2, 2010], y=[144], edge_weight=[2010])\n",
      "\n",
      " Data(x=[260, 34], edge_index=[2, 4886], y=[260], edge_weight=[4886])\n",
      "\n",
      " Data(x=[249, 34], edge_index=[2, 4630], y=[249], edge_weight=[4630])\n",
      "\n",
      " Data(x=[258, 34], edge_index=[2, 4908], y=[258], edge_weight=[4908])\n",
      "\n",
      " Data(x=[99, 34], edge_index=[2, 1430], y=[99], edge_weight=[1430])\n",
      "\n",
      " Data(x=[99, 34], edge_index=[2, 1422], y=[99], edge_weight=[1422])\n",
      "\n",
      " Data(x=[99, 34], edge_index=[2, 1434], y=[99], edge_weight=[1434])\n",
      "\n",
      " Data(x=[99, 34], edge_index=[2, 1416], y=[99], edge_weight=[1416])\n",
      "\n",
      " Data(x=[99, 34], edge_index=[2, 1412], y=[99], edge_weight=[1412])\n",
      "\n",
      " Data(x=[99, 34], edge_index=[2, 1442], y=[99], edge_weight=[1442])\n",
      "\n",
      " Data(x=[99, 34], edge_index=[2, 1446], y=[99], edge_weight=[1446])\n",
      "\n",
      " Data(x=[99, 34], edge_index=[2, 1418], y=[99], edge_weight=[1418])\n",
      "\n",
      " Data(x=[99, 34], edge_index=[2, 1402], y=[99], edge_weight=[1402])\n",
      "\n",
      " Data(x=[99, 34], edge_index=[2, 1380], y=[99], edge_weight=[1380])\n"
     ]
    },
    {
     "name": "stderr",
     "output_type": "stream",
     "text": [
      " 14%|████████▊                                                      | 28/199 [00:00<00:02, 62.73it/s]"
     ]
    },
    {
     "name": "stdout",
     "output_type": "stream",
     "text": [
      "\n",
      " Data(x=[1058, 34], edge_index=[2, 21656], y=[1058], edge_weight=[21656])\n",
      "\n",
      " Data(x=[528, 34], edge_index=[2, 10102], y=[528], edge_weight=[10102])\n",
      "\n",
      " Data(x=[470, 34], edge_index=[2, 8870], y=[470], edge_weight=[8870])\n",
      "\n",
      " Data(x=[274, 34], edge_index=[2, 4484], y=[274], edge_weight=[4484])\n",
      "\n",
      " Data(x=[319, 34], edge_index=[2, 5696], y=[319], edge_weight=[5696])\n",
      "\n",
      " Data(x=[253, 34], edge_index=[2, 4686], y=[253], edge_weight=[4686])\n",
      "\n",
      " Data(x=[255, 34], edge_index=[2, 4792], y=[255], edge_weight=[4792])\n",
      "\n",
      " Data(x=[99, 34], edge_index=[2, 1432], y=[99], edge_weight=[1432])\n",
      "\n",
      " Data(x=[99, 34], edge_index=[2, 1452], y=[99], edge_weight=[1452])\n",
      "\n",
      " Data(x=[99, 34], edge_index=[2, 1396], y=[99], edge_weight=[1396])\n",
      "\n",
      " Data(x=[99, 34], edge_index=[2, 1380], y=[99], edge_weight=[1380])\n",
      "\n",
      " Data(x=[147, 34], edge_index=[2, 2664], y=[147], edge_weight=[2664])\n",
      "\n",
      " Data(x=[147, 34], edge_index=[2, 2686], y=[147], edge_weight=[2686])\n",
      "\n",
      " Data(x=[147, 34], edge_index=[2, 2624], y=[147], edge_weight=[2624])\n",
      "\n",
      " Data(x=[218, 34], edge_index=[2, 3554], y=[218], edge_weight=[3554])\n"
     ]
    },
    {
     "name": "stderr",
     "output_type": "stream",
     "text": [
      " 19%|███████████▋                                                   | 37/199 [00:00<00:02, 55.01it/s]"
     ]
    },
    {
     "name": "stdout",
     "output_type": "stream",
     "text": [
      "\n",
      " Data(x=[455, 34], edge_index=[2, 8980], y=[455], edge_weight=[8980])\n",
      "\n",
      " Data(x=[455, 34], edge_index=[2, 8986], y=[455], edge_weight=[8986])\n",
      "\n",
      " Data(x=[281, 34], edge_index=[2, 4468], y=[281], edge_weight=[4468])\n",
      "\n",
      " Data(x=[280, 34], edge_index=[2, 4434], y=[280], edge_weight=[4434])\n",
      "\n",
      " Data(x=[200, 34], edge_index=[2, 3534], y=[200], edge_weight=[3534])\n",
      "\n",
      " Data(x=[147, 34], edge_index=[2, 2676], y=[147], edge_weight=[2676])\n",
      "\n",
      " Data(x=[254, 34], edge_index=[2, 4644], y=[254], edge_weight=[4644])\n",
      "\n",
      " Data(x=[254, 34], edge_index=[2, 4510], y=[254], edge_weight=[4510])\n",
      "\n",
      " Data(x=[254, 34], edge_index=[2, 4518], y=[254], edge_weight=[4518])\n",
      "\n",
      " Data(x=[254, 34], edge_index=[2, 4516], y=[254], edge_weight=[4516])\n"
     ]
    },
    {
     "name": "stderr",
     "output_type": "stream",
     "text": [
      " 29%|██████████████████                                             | 57/199 [00:00<00:01, 72.55it/s]"
     ]
    },
    {
     "name": "stdout",
     "output_type": "stream",
     "text": [
      "\n",
      " Data(x=[254, 34], edge_index=[2, 4494], y=[254], edge_weight=[4494])\n",
      "\n",
      " Data(x=[269, 34], edge_index=[2, 4428], y=[269], edge_weight=[4428])\n",
      "\n",
      " Data(x=[99, 34], edge_index=[2, 1404], y=[99], edge_weight=[1404])\n",
      "\n",
      " Data(x=[99, 34], edge_index=[2, 1370], y=[99], edge_weight=[1370])\n",
      "\n",
      " Data(x=[99, 34], edge_index=[2, 1426], y=[99], edge_weight=[1426])\n",
      "\n",
      " Data(x=[99, 34], edge_index=[2, 1408], y=[99], edge_weight=[1408])\n",
      "\n",
      " Data(x=[99, 34], edge_index=[2, 1418], y=[99], edge_weight=[1418])\n",
      "\n",
      " Data(x=[99, 34], edge_index=[2, 1438], y=[99], edge_weight=[1438])\n",
      "\n",
      " Data(x=[253, 34], edge_index=[2, 4756], y=[253], edge_weight=[4756])\n",
      "\n",
      " Data(x=[382, 34], edge_index=[2, 7204], y=[382], edge_weight=[7204])\n",
      "\n",
      " Data(x=[382, 34], edge_index=[2, 7184], y=[382], edge_weight=[7184])\n",
      "\n",
      " Data(x=[383, 34], edge_index=[2, 7546], y=[383], edge_weight=[7546])\n",
      "\n",
      " Data(x=[99, 34], edge_index=[2, 1438], y=[99], edge_weight=[1438])\n",
      "\n",
      " Data(x=[99, 34], edge_index=[2, 1414], y=[99], edge_weight=[1414])\n",
      "\n",
      " Data(x=[99, 34], edge_index=[2, 1442], y=[99], edge_weight=[1442])\n",
      "\n",
      " Data(x=[99, 34], edge_index=[2, 1394], y=[99], edge_weight=[1394])\n",
      "\n",
      " Data(x=[99, 34], edge_index=[2, 1552], y=[99], edge_weight=[1552])\n",
      "\n",
      " Data(x=[99, 34], edge_index=[2, 1550], y=[99], edge_weight=[1550])\n",
      "\n",
      " Data(x=[99, 34], edge_index=[2, 1592], y=[99], edge_weight=[1592])\n",
      "\n",
      " Data(x=[99, 34], edge_index=[2, 1606], y=[99], edge_weight=[1606])\n",
      "\n",
      " Data(x=[350, 34], edge_index=[2, 7120], y=[350], edge_weight=[7120])\n"
     ]
    },
    {
     "name": "stderr",
     "output_type": "stream",
     "text": [
      " 33%|████████████████████▉                                          | 66/199 [00:01<00:02, 60.25it/s]"
     ]
    },
    {
     "name": "stdout",
     "output_type": "stream",
     "text": [
      "\n",
      " Data(x=[99, 34], edge_index=[2, 1434], y=[99], edge_weight=[1434])\n",
      "\n",
      " Data(x=[99, 34], edge_index=[2, 1408], y=[99], edge_weight=[1408])\n",
      "\n",
      " Data(x=[99, 34], edge_index=[2, 1416], y=[99], edge_weight=[1416])\n",
      "\n",
      " Data(x=[99, 34], edge_index=[2, 1396], y=[99], edge_weight=[1396])\n",
      "\n",
      " Data(x=[347, 34], edge_index=[2, 6952], y=[347], edge_weight=[6952])\n",
      "\n",
      " Data(x=[1073, 34], edge_index=[2, 22028], y=[1073], edge_weight=[22028])\n",
      "\n",
      " Data(x=[213, 34], edge_index=[2, 3662], y=[213], edge_weight=[3662])\n",
      "\n",
      " Data(x=[213, 34], edge_index=[2, 3662], y=[213], edge_weight=[3662])\n"
     ]
    },
    {
     "name": "stderr",
     "output_type": "stream",
     "text": [
      " 37%|███████████████████████▍                                       | 74/199 [00:01<00:02, 52.32it/s]"
     ]
    },
    {
     "name": "stdout",
     "output_type": "stream",
     "text": [
      "\n",
      " Data(x=[585, 34], edge_index=[2, 10254], y=[585], edge_weight=[10254])\n",
      "\n",
      " Data(x=[491, 34], edge_index=[2, 7858], y=[491], edge_weight=[7858])\n",
      "\n",
      " Data(x=[539, 34], edge_index=[2, 8718], y=[539], edge_weight=[8718])\n",
      "\n",
      " Data(x=[414, 34], edge_index=[2, 6626], y=[414], edge_weight=[6626])\n",
      "\n",
      " Data(x=[537, 34], edge_index=[2, 8406], y=[537], edge_weight=[8406])\n",
      "\n",
      " Data(x=[537, 34], edge_index=[2, 8614], y=[537], edge_weight=[8614])\n",
      "\n",
      " Data(x=[349, 34], edge_index=[2, 7050], y=[349], edge_weight=[7050])\n",
      "\n",
      " Data(x=[262, 34], edge_index=[2, 4894], y=[262], edge_weight=[4894])\n",
      "\n",
      " Data(x=[262, 34], edge_index=[2, 4870], y=[262], edge_weight=[4870])\n"
     ]
    },
    {
     "name": "stderr",
     "output_type": "stream",
     "text": [
      " 45%|████████████████████████████▏                                  | 89/199 [00:01<00:01, 55.16it/s]"
     ]
    },
    {
     "name": "stdout",
     "output_type": "stream",
     "text": [
      "\n",
      " Data(x=[99, 34], edge_index=[2, 1402], y=[99], edge_weight=[1402])\n",
      "\n",
      " Data(x=[99, 34], edge_index=[2, 1394], y=[99], edge_weight=[1394])\n",
      "\n",
      " Data(x=[217, 34], edge_index=[2, 3370], y=[217], edge_weight=[3370])\n",
      "\n",
      " Data(x=[217, 34], edge_index=[2, 3374], y=[217], edge_weight=[3374])\n",
      "\n",
      " Data(x=[147, 34], edge_index=[2, 2656], y=[147], edge_weight=[2656])\n",
      "\n",
      " Data(x=[242, 34], edge_index=[2, 4438], y=[242], edge_weight=[4438])\n",
      "\n",
      " Data(x=[360, 34], edge_index=[2, 6974], y=[360], edge_weight=[6974])\n",
      "\n",
      " Data(x=[364, 34], edge_index=[2, 7148], y=[364], edge_weight=[7148])\n",
      "\n",
      " Data(x=[99, 34], edge_index=[2, 1420], y=[99], edge_weight=[1420])\n",
      "\n",
      " Data(x=[99, 34], edge_index=[2, 1412], y=[99], edge_weight=[1412])\n",
      "\n",
      " Data(x=[99, 34], edge_index=[2, 1404], y=[99], edge_weight=[1404])\n",
      "\n",
      " Data(x=[99, 34], edge_index=[2, 1402], y=[99], edge_weight=[1402])\n",
      "\n",
      " Data(x=[99, 34], edge_index=[2, 1408], y=[99], edge_weight=[1408])\n",
      "\n",
      " Data(x=[99, 34], edge_index=[2, 1406], y=[99], edge_weight=[1406])\n"
     ]
    },
    {
     "name": "stderr",
     "output_type": "stream",
     "text": [
      " 51%|███████████████████████████████▊                              | 102/199 [00:01<00:01, 70.39it/s]"
     ]
    },
    {
     "name": "stdout",
     "output_type": "stream",
     "text": [
      "\n",
      " Data(x=[177, 34], edge_index=[2, 3176], y=[177], edge_weight=[3176])\n",
      "\n",
      " Data(x=[99, 34], edge_index=[2, 1392], y=[99], edge_weight=[1392])\n",
      "\n",
      " Data(x=[99, 34], edge_index=[2, 1406], y=[99], edge_weight=[1406])\n",
      "\n",
      " Data(x=[99, 34], edge_index=[2, 1456], y=[99], edge_weight=[1456])\n",
      "\n",
      " Data(x=[99, 34], edge_index=[2, 1462], y=[99], edge_weight=[1462])\n",
      "\n",
      " Data(x=[99, 34], edge_index=[2, 1394], y=[99], edge_weight=[1394])\n",
      "\n",
      " Data(x=[99, 34], edge_index=[2, 1390], y=[99], edge_weight=[1390])\n",
      "\n",
      " Data(x=[99, 34], edge_index=[2, 1426], y=[99], edge_weight=[1426])\n",
      "\n",
      " Data(x=[99, 34], edge_index=[2, 1410], y=[99], edge_weight=[1410])\n",
      "\n",
      " Data(x=[469, 34], edge_index=[2, 8526], y=[469], edge_weight=[8526])\n",
      "\n",
      " Data(x=[311, 34], edge_index=[2, 5706], y=[311], edge_weight=[5706])\n",
      "\n",
      " Data(x=[217, 34], edge_index=[2, 3436], y=[217], edge_weight=[3436])\n",
      "\n",
      " Data(x=[217, 34], edge_index=[2, 3468], y=[217], edge_weight=[3468])\n",
      "\n",
      " Data(x=[202, 34], edge_index=[2, 3502], y=[202], edge_weight=[3502])\n",
      "\n",
      " Data(x=[220, 34], edge_index=[2, 3526], y=[220], edge_weight=[3526])\n",
      "\n",
      " Data(x=[220, 34], edge_index=[2, 3506], y=[220], edge_weight=[3506])\n",
      "\n",
      " Data(x=[99, 34], edge_index=[2, 1412], y=[99], edge_weight=[1412])\n",
      "\n",
      " Data(x=[99, 34], edge_index=[2, 1428], y=[99], edge_weight=[1428])\n",
      "\n",
      " Data(x=[528, 34], edge_index=[2, 10258], y=[528], edge_weight=[10258])\n"
     ]
    },
    {
     "name": "stderr",
     "output_type": "stream",
     "text": [
      " 56%|██████████████████████████████████▌                           | 111/199 [00:01<00:01, 72.52it/s]"
     ]
    },
    {
     "name": "stdout",
     "output_type": "stream",
     "text": [
      "\n",
      " Data(x=[330, 34], edge_index=[2, 5808], y=[330], edge_weight=[5808])\n",
      "\n",
      " Data(x=[490, 34], edge_index=[2, 9424], y=[490], edge_weight=[9424])\n",
      "\n",
      " Data(x=[376, 34], edge_index=[2, 6926], y=[376], edge_weight=[6926])\n",
      "\n",
      " Data(x=[373, 34], edge_index=[2, 6928], y=[373], edge_weight=[6928])\n",
      "\n",
      " Data(x=[376, 34], edge_index=[2, 7556], y=[376], edge_weight=[7556])\n",
      "\n",
      " Data(x=[373, 34], edge_index=[2, 7498], y=[373], edge_weight=[7498])\n",
      "\n",
      " Data(x=[249, 34], edge_index=[2, 4102], y=[249], edge_weight=[4102])\n"
     ]
    },
    {
     "name": "stderr",
     "output_type": "stream",
     "text": [
      " 68%|██████████████████████████████████████████▎                   | 136/199 [00:02<00:00, 77.57it/s]"
     ]
    },
    {
     "name": "stdout",
     "output_type": "stream",
     "text": [
      "\n",
      " Data(x=[376, 34], edge_index=[2, 7478], y=[376], edge_weight=[7478])\n",
      "\n",
      " Data(x=[373, 34], edge_index=[2, 7406], y=[373], edge_weight=[7406])\n",
      "\n",
      " Data(x=[99, 34], edge_index=[2, 1434], y=[99], edge_weight=[1434])\n",
      "\n",
      " Data(x=[99, 34], edge_index=[2, 1430], y=[99], edge_weight=[1430])\n",
      "\n",
      " Data(x=[99, 34], edge_index=[2, 1388], y=[99], edge_weight=[1388])\n",
      "\n",
      " Data(x=[99, 34], edge_index=[2, 1394], y=[99], edge_weight=[1394])\n",
      "\n",
      " Data(x=[99, 34], edge_index=[2, 1382], y=[99], edge_weight=[1382])\n",
      "\n",
      " Data(x=[99, 34], edge_index=[2, 1376], y=[99], edge_weight=[1376])\n",
      "\n",
      " Data(x=[99, 34], edge_index=[2, 1388], y=[99], edge_weight=[1388])\n",
      "\n",
      " Data(x=[99, 34], edge_index=[2, 1396], y=[99], edge_weight=[1396])\n",
      "\n",
      " Data(x=[99, 34], edge_index=[2, 1416], y=[99], edge_weight=[1416])\n",
      "\n",
      " Data(x=[99, 34], edge_index=[2, 1418], y=[99], edge_weight=[1418])\n",
      "\n",
      " Data(x=[99, 34], edge_index=[2, 1426], y=[99], edge_weight=[1426])\n",
      "\n",
      " Data(x=[99, 34], edge_index=[2, 1442], y=[99], edge_weight=[1442])\n",
      "\n",
      " Data(x=[99, 34], edge_index=[2, 1398], y=[99], edge_weight=[1398])\n",
      "\n",
      " Data(x=[99, 34], edge_index=[2, 1396], y=[99], edge_weight=[1396])\n",
      "\n",
      " Data(x=[99, 34], edge_index=[2, 1384], y=[99], edge_weight=[1384])\n",
      "\n",
      " Data(x=[399, 34], edge_index=[2, 6414], y=[399], edge_weight=[6414])\n",
      "\n",
      " Data(x=[134, 34], edge_index=[2, 2126], y=[134], edge_weight=[2126])\n",
      "\n",
      " Data(x=[523, 34], edge_index=[2, 8264], y=[523], edge_weight=[8264])\n",
      "\n",
      " Data(x=[395, 34], edge_index=[2, 6286], y=[395], edge_weight=[6286])\n"
     ]
    },
    {
     "name": "stderr",
     "output_type": "stream",
     "text": [
      " 73%|█████████████████████████████████████████████▍                | 146/199 [00:02<00:00, 59.58it/s]"
     ]
    },
    {
     "name": "stdout",
     "output_type": "stream",
     "text": [
      "\n",
      " Data(x=[767, 34], edge_index=[2, 14964], y=[767], edge_weight=[14964])\n",
      "\n",
      " Data(x=[534, 34], edge_index=[2, 10284], y=[534], edge_weight=[10284])\n",
      "\n",
      " Data(x=[186, 34], edge_index=[2, 2908], y=[186], edge_weight=[2908])\n",
      "\n",
      " Data(x=[502, 34], edge_index=[2, 9474], y=[502], edge_weight=[9474])\n",
      "\n",
      " Data(x=[447, 34], edge_index=[2, 8248], y=[447], edge_weight=[8248])\n",
      "\n",
      " Data(x=[99, 34], edge_index=[2, 1402], y=[99], edge_weight=[1402])\n",
      "\n",
      " Data(x=[123, 34], edge_index=[2, 1974], y=[123], edge_weight=[1974])\n",
      "\n",
      " Data(x=[99, 34], edge_index=[2, 1454], y=[99], edge_weight=[1454])\n",
      "\n",
      " Data(x=[99, 34], edge_index=[2, 1486], y=[99], edge_weight=[1486])\n",
      "\n",
      " Data(x=[99, 34], edge_index=[2, 1450], y=[99], edge_weight=[1450])\n",
      "\n",
      " Data(x=[99, 34], edge_index=[2, 1458], y=[99], edge_weight=[1458])\n",
      "\n",
      " Data(x=[99, 34], edge_index=[2, 1450], y=[99], edge_weight=[1450])\n",
      "\n",
      " Data(x=[99, 34], edge_index=[2, 1472], y=[99], edge_weight=[1472])\n",
      "\n",
      " Data(x=[99, 34], edge_index=[2, 1442], y=[99], edge_weight=[1442])\n",
      "\n",
      " Data(x=[99, 34], edge_index=[2, 1442], y=[99], edge_weight=[1442])\n"
     ]
    },
    {
     "name": "stderr",
     "output_type": "stream",
     "text": [
      " 80%|█████████████████████████████████████████████████▊            | 160/199 [00:02<00:00, 74.05it/s]"
     ]
    },
    {
     "name": "stdout",
     "output_type": "stream",
     "text": [
      "\n",
      " Data(x=[99, 34], edge_index=[2, 1408], y=[99], edge_weight=[1408])\n",
      "\n",
      " Data(x=[99, 34], edge_index=[2, 1460], y=[99], edge_weight=[1460])\n",
      "\n",
      " Data(x=[99, 34], edge_index=[2, 1448], y=[99], edge_weight=[1448])\n",
      "\n",
      " Data(x=[99, 34], edge_index=[2, 1464], y=[99], edge_weight=[1464])\n",
      "\n",
      " Data(x=[99, 34], edge_index=[2, 1470], y=[99], edge_weight=[1470])\n",
      "\n",
      " Data(x=[99, 34], edge_index=[2, 1504], y=[99], edge_weight=[1504])\n",
      "\n",
      " Data(x=[520, 34], edge_index=[2, 8324], y=[520], edge_weight=[8324])\n",
      "\n",
      " Data(x=[403, 34], edge_index=[2, 6540], y=[403], edge_weight=[6540])\n",
      "\n",
      " Data(x=[543, 34], edge_index=[2, 8710], y=[543], edge_weight=[8710])\n",
      "\n",
      " Data(x=[542, 34], edge_index=[2, 8666], y=[542], edge_weight=[8666])\n",
      "\n",
      " Data(x=[408, 34], edge_index=[2, 6426], y=[408], edge_weight=[6426])\n",
      "\n",
      " Data(x=[315, 34], edge_index=[2, 5620], y=[315], edge_weight=[5620])\n",
      "\n",
      " Data(x=[262, 34], edge_index=[2, 4966], y=[262], edge_weight=[4966])\n"
     ]
    },
    {
     "name": "stderr",
     "output_type": "stream",
     "text": [
      " 90%|███████████████████████████████████████████████████████▊      | 179/199 [00:02<00:00, 71.60it/s]"
     ]
    },
    {
     "name": "stdout",
     "output_type": "stream",
     "text": [
      "\n",
      " Data(x=[147, 34], edge_index=[2, 2666], y=[147], edge_weight=[2666])\n",
      "\n",
      " Data(x=[124, 34], edge_index=[2, 1996], y=[124], edge_weight=[1996])\n",
      "\n",
      " Data(x=[124, 34], edge_index=[2, 1982], y=[124], edge_weight=[1982])\n",
      "\n",
      " Data(x=[124, 34], edge_index=[2, 1994], y=[124], edge_weight=[1994])\n",
      "\n",
      " Data(x=[124, 34], edge_index=[2, 1974], y=[124], edge_weight=[1974])\n",
      "\n",
      " Data(x=[585, 34], edge_index=[2, 10754], y=[585], edge_weight=[10754])\n",
      "\n",
      " Data(x=[585, 34], edge_index=[2, 10582], y=[585], edge_weight=[10582])\n",
      "\n",
      " Data(x=[164, 34], edge_index=[2, 2672], y=[164], edge_weight=[2672])\n",
      "\n",
      " Data(x=[164, 34], edge_index=[2, 2710], y=[164], edge_weight=[2710])\n",
      "\n",
      " Data(x=[99, 34], edge_index=[2, 1384], y=[99], edge_weight=[1384])\n",
      "\n",
      " Data(x=[99, 34], edge_index=[2, 1400], y=[99], edge_weight=[1400])\n",
      "\n",
      " Data(x=[99, 34], edge_index=[2, 1376], y=[99], edge_weight=[1376])\n",
      "\n",
      " Data(x=[99, 34], edge_index=[2, 1388], y=[99], edge_weight=[1388])\n",
      "\n",
      " Data(x=[284, 34], edge_index=[2, 5082], y=[284], edge_weight=[5082])\n",
      "\n",
      " Data(x=[284, 34], edge_index=[2, 5138], y=[284], edge_weight=[5138])\n",
      "\n",
      " Data(x=[186, 34], edge_index=[2, 2888], y=[186], edge_weight=[2888])\n"
     ]
    },
    {
     "name": "stderr",
     "output_type": "stream",
     "text": [
      " 98%|█████████████████████████████████████████████████████████████ | 196/199 [00:03<00:00, 61.58it/s]"
     ]
    },
    {
     "name": "stdout",
     "output_type": "stream",
     "text": [
      "\n",
      " Data(x=[529, 34], edge_index=[2, 10208], y=[529], edge_weight=[10208])\n",
      "\n",
      " Data(x=[532, 34], edge_index=[2, 10354], y=[532], edge_weight=[10354])\n",
      "\n",
      " Data(x=[217, 34], edge_index=[2, 3434], y=[217], edge_weight=[3434])\n",
      "\n",
      " Data(x=[217, 34], edge_index=[2, 3446], y=[217], edge_weight=[3446])\n",
      "\n",
      " Data(x=[99, 34], edge_index=[2, 1410], y=[99], edge_weight=[1410])\n",
      "\n",
      " Data(x=[99, 34], edge_index=[2, 1410], y=[99], edge_weight=[1410])\n",
      "\n",
      " Data(x=[99, 34], edge_index=[2, 1402], y=[99], edge_weight=[1402])\n",
      "\n",
      " Data(x=[99, 34], edge_index=[2, 1376], y=[99], edge_weight=[1376])\n",
      "\n",
      " Data(x=[99, 34], edge_index=[2, 1408], y=[99], edge_weight=[1408])\n",
      "\n",
      " Data(x=[99, 34], edge_index=[2, 1392], y=[99], edge_weight=[1392])\n",
      "\n",
      " Data(x=[558, 34], edge_index=[2, 9116], y=[558], edge_weight=[9116])\n",
      "\n",
      " Data(x=[427, 34], edge_index=[2, 6880], y=[427], edge_weight=[6880])\n",
      "\n",
      " Data(x=[558, 34], edge_index=[2, 9054], y=[558], edge_weight=[9054])\n",
      "\n",
      " Data(x=[427, 34], edge_index=[2, 6794], y=[427], edge_weight=[6794])\n",
      "\n",
      " Data(x=[99, 34], edge_index=[2, 1408], y=[99], edge_weight=[1408])\n"
     ]
    },
    {
     "name": "stderr",
     "output_type": "stream",
     "text": [
      "100%|██████████████████████████████████████████████████████████████| 199/199 [00:03<00:00, 64.90it/s]\n"
     ]
    },
    {
     "name": "stdout",
     "output_type": "stream",
     "text": [
      "\n",
      " Data(x=[99, 34], edge_index=[2, 1436], y=[99], edge_weight=[1436])\n",
      "\n",
      " Data(x=[163, 34], edge_index=[2, 2488], y=[163], edge_weight=[2488])\n",
      "[INFO ] set 8\n"
     ]
    },
    {
     "name": "stderr",
     "output_type": "stream",
     "text": [
      "  7%|████                                                          | 13/199 [00:00<00:01, 129.60it/s]"
     ]
    },
    {
     "name": "stdout",
     "output_type": "stream",
     "text": [
      "\n",
      " Data(x=[144, 34], edge_index=[2, 2010], y=[144], edge_weight=[2010])\n",
      "\n",
      " Data(x=[260, 34], edge_index=[2, 4886], y=[260], edge_weight=[4886])\n",
      "\n",
      " Data(x=[249, 34], edge_index=[2, 4630], y=[249], edge_weight=[4630])\n",
      "\n",
      " Data(x=[258, 34], edge_index=[2, 4908], y=[258], edge_weight=[4908])\n",
      "\n",
      " Data(x=[99, 34], edge_index=[2, 1430], y=[99], edge_weight=[1430])\n",
      "\n",
      " Data(x=[99, 34], edge_index=[2, 1422], y=[99], edge_weight=[1422])\n",
      "\n",
      " Data(x=[99, 34], edge_index=[2, 1434], y=[99], edge_weight=[1434])\n",
      "\n",
      " Data(x=[99, 34], edge_index=[2, 1416], y=[99], edge_weight=[1416])\n",
      "\n",
      " Data(x=[99, 34], edge_index=[2, 1412], y=[99], edge_weight=[1412])\n",
      "\n",
      " Data(x=[99, 34], edge_index=[2, 1442], y=[99], edge_weight=[1442])\n",
      "\n",
      " Data(x=[99, 34], edge_index=[2, 1446], y=[99], edge_weight=[1446])\n",
      "\n",
      " Data(x=[99, 34], edge_index=[2, 1418], y=[99], edge_weight=[1418])\n",
      "\n",
      " Data(x=[99, 34], edge_index=[2, 1402], y=[99], edge_weight=[1402])\n",
      "\n",
      " Data(x=[99, 34], edge_index=[2, 1380], y=[99], edge_weight=[1380])\n",
      "\n",
      " Data(x=[1058, 34], edge_index=[2, 21656], y=[1058], edge_weight=[21656])\n"
     ]
    },
    {
     "name": "stderr",
     "output_type": "stream",
     "text": [
      " 13%|████████▏                                                      | 26/199 [00:00<00:02, 63.98it/s]"
     ]
    },
    {
     "name": "stdout",
     "output_type": "stream",
     "text": [
      "\n",
      " Data(x=[528, 34], edge_index=[2, 10102], y=[528], edge_weight=[10102])\n",
      "\n",
      " Data(x=[470, 34], edge_index=[2, 8870], y=[470], edge_weight=[8870])\n",
      "\n",
      " Data(x=[274, 34], edge_index=[2, 4484], y=[274], edge_weight=[4484])\n",
      "\n",
      " Data(x=[319, 34], edge_index=[2, 5696], y=[319], edge_weight=[5696])\n",
      "\n",
      " Data(x=[253, 34], edge_index=[2, 4686], y=[253], edge_weight=[4686])\n",
      "\n",
      " Data(x=[255, 34], edge_index=[2, 4792], y=[255], edge_weight=[4792])\n",
      "\n",
      " Data(x=[99, 34], edge_index=[2, 1432], y=[99], edge_weight=[1432])\n",
      "\n",
      " Data(x=[99, 34], edge_index=[2, 1452], y=[99], edge_weight=[1452])\n",
      "\n",
      " Data(x=[99, 34], edge_index=[2, 1396], y=[99], edge_weight=[1396])\n",
      "\n",
      " Data(x=[99, 34], edge_index=[2, 1380], y=[99], edge_weight=[1380])\n",
      "\n",
      " Data(x=[147, 34], edge_index=[2, 2664], y=[147], edge_weight=[2664])\n",
      "\n",
      " Data(x=[147, 34], edge_index=[2, 2686], y=[147], edge_weight=[2686])\n",
      "\n",
      " Data(x=[147, 34], edge_index=[2, 2624], y=[147], edge_weight=[2624])\n",
      "\n",
      " Data(x=[218, 34], edge_index=[2, 3554], y=[218], edge_weight=[3554])\n",
      "\n",
      " Data(x=[455, 34], edge_index=[2, 8980], y=[455], edge_weight=[8980])\n",
      "\n",
      " Data(x=[455, 34], edge_index=[2, 8986], y=[455], edge_weight=[8986])\n"
     ]
    },
    {
     "name": "stderr",
     "output_type": "stream",
     "text": [
      " 22%|█████████████▌                                                 | 43/199 [00:00<00:02, 59.35it/s]"
     ]
    },
    {
     "name": "stdout",
     "output_type": "stream",
     "text": [
      "\n",
      " Data(x=[281, 34], edge_index=[2, 4468], y=[281], edge_weight=[4468])\n",
      "\n",
      " Data(x=[280, 34], edge_index=[2, 4434], y=[280], edge_weight=[4434])\n",
      "\n",
      " Data(x=[200, 34], edge_index=[2, 3534], y=[200], edge_weight=[3534])\n",
      "\n",
      " Data(x=[147, 34], edge_index=[2, 2676], y=[147], edge_weight=[2676])\n",
      "\n",
      " Data(x=[254, 34], edge_index=[2, 4644], y=[254], edge_weight=[4644])\n",
      "\n",
      " Data(x=[254, 34], edge_index=[2, 4510], y=[254], edge_weight=[4510])\n",
      "\n",
      " Data(x=[254, 34], edge_index=[2, 4518], y=[254], edge_weight=[4518])\n",
      "\n",
      " Data(x=[254, 34], edge_index=[2, 4516], y=[254], edge_weight=[4516])\n",
      "\n",
      " Data(x=[254, 34], edge_index=[2, 4494], y=[254], edge_weight=[4494])\n",
      "\n",
      " Data(x=[269, 34], edge_index=[2, 4428], y=[269], edge_weight=[4428])\n",
      "\n",
      " Data(x=[99, 34], edge_index=[2, 1404], y=[99], edge_weight=[1404])\n",
      "\n",
      " Data(x=[99, 34], edge_index=[2, 1370], y=[99], edge_weight=[1370])\n"
     ]
    },
    {
     "name": "stderr",
     "output_type": "stream",
     "text": [
      " 26%|████████████████▏                                              | 51/199 [00:00<00:02, 63.94it/s]"
     ]
    },
    {
     "name": "stdout",
     "output_type": "stream",
     "text": [
      "\n",
      " Data(x=[99, 34], edge_index=[2, 1426], y=[99], edge_weight=[1426])\n",
      "\n",
      " Data(x=[99, 34], edge_index=[2, 1408], y=[99], edge_weight=[1408])\n",
      "\n",
      " Data(x=[99, 34], edge_index=[2, 1418], y=[99], edge_weight=[1418])\n",
      "\n",
      " Data(x=[99, 34], edge_index=[2, 1438], y=[99], edge_weight=[1438])\n",
      "\n",
      " Data(x=[253, 34], edge_index=[2, 4756], y=[253], edge_weight=[4756])\n",
      "\n",
      " Data(x=[382, 34], edge_index=[2, 7204], y=[382], edge_weight=[7204])\n",
      "\n",
      " Data(x=[382, 34], edge_index=[2, 7184], y=[382], edge_weight=[7184])\n",
      "\n",
      " Data(x=[383, 34], edge_index=[2, 7546], y=[383], edge_weight=[7546])\n",
      "\n",
      " Data(x=[99, 34], edge_index=[2, 1438], y=[99], edge_weight=[1438])\n",
      "\n",
      " Data(x=[99, 34], edge_index=[2, 1414], y=[99], edge_weight=[1414])\n",
      "\n",
      " Data(x=[99, 34], edge_index=[2, 1442], y=[99], edge_weight=[1442])\n",
      "\n",
      " Data(x=[99, 34], edge_index=[2, 1394], y=[99], edge_weight=[1394])\n",
      "\n",
      " Data(x=[99, 34], edge_index=[2, 1552], y=[99], edge_weight=[1552])\n",
      "\n",
      " Data(x=[99, 34], edge_index=[2, 1550], y=[99], edge_weight=[1550])\n",
      "\n",
      " Data(x=[99, 34], edge_index=[2, 1592], y=[99], edge_weight=[1592])\n",
      "\n",
      " Data(x=[99, 34], edge_index=[2, 1606], y=[99], edge_weight=[1606])\n",
      "\n",
      " Data(x=[350, 34], edge_index=[2, 7120], y=[350], edge_weight=[7120])\n",
      "\n",
      " Data(x=[99, 34], edge_index=[2, 1434], y=[99], edge_weight=[1434])\n",
      "\n",
      " Data(x=[99, 34], edge_index=[2, 1408], y=[99], edge_weight=[1408])\n",
      "\n",
      " Data(x=[99, 34], edge_index=[2, 1416], y=[99], edge_weight=[1416])\n",
      "\n",
      " Data(x=[99, 34], edge_index=[2, 1396], y=[99], edge_weight=[1396])\n"
     ]
    },
    {
     "name": "stderr",
     "output_type": "stream",
     "text": [
      " 33%|████████████████████▌                                          | 65/199 [00:00<00:01, 80.74it/s]"
     ]
    },
    {
     "name": "stdout",
     "output_type": "stream",
     "text": [
      "\n",
      " Data(x=[347, 34], edge_index=[2, 6952], y=[347], edge_weight=[6952])\n",
      "\n",
      " Data(x=[1073, 34], edge_index=[2, 22028], y=[1073], edge_weight=[22028])\n",
      "\n",
      " Data(x=[213, 34], edge_index=[2, 3662], y=[213], edge_weight=[3662])\n",
      "\n",
      " Data(x=[213, 34], edge_index=[2, 3662], y=[213], edge_weight=[3662])\n",
      "\n",
      " Data(x=[585, 34], edge_index=[2, 10254], y=[585], edge_weight=[10254])\n"
     ]
    },
    {
     "name": "stderr",
     "output_type": "stream",
     "text": [
      " 37%|███████████████████████▍                                       | 74/199 [00:01<00:02, 52.84it/s]"
     ]
    },
    {
     "name": "stdout",
     "output_type": "stream",
     "text": [
      "\n",
      " Data(x=[491, 34], edge_index=[2, 7858], y=[491], edge_weight=[7858])\n",
      "\n",
      " Data(x=[539, 34], edge_index=[2, 8718], y=[539], edge_weight=[8718])\n",
      "\n",
      " Data(x=[414, 34], edge_index=[2, 6626], y=[414], edge_weight=[6626])\n",
      "\n",
      " Data(x=[537, 34], edge_index=[2, 8406], y=[537], edge_weight=[8406])\n",
      "\n",
      " Data(x=[537, 34], edge_index=[2, 8614], y=[537], edge_weight=[8614])\n",
      "\n",
      " Data(x=[349, 34], edge_index=[2, 7050], y=[349], edge_weight=[7050])\n",
      "\n",
      " Data(x=[262, 34], edge_index=[2, 4894], y=[262], edge_weight=[4894])\n",
      "\n",
      " Data(x=[262, 34], edge_index=[2, 4870], y=[262], edge_weight=[4870])\n",
      "\n",
      " Data(x=[99, 34], edge_index=[2, 1402], y=[99], edge_weight=[1402])\n",
      "\n",
      " Data(x=[99, 34], edge_index=[2, 1394], y=[99], edge_weight=[1394])\n",
      "\n",
      " Data(x=[217, 34], edge_index=[2, 3370], y=[217], edge_weight=[3370])\n",
      "\n",
      " Data(x=[217, 34], edge_index=[2, 3374], y=[217], edge_weight=[3374])\n"
     ]
    },
    {
     "name": "stderr",
     "output_type": "stream",
     "text": [
      " 49%|██████████████████████████████▋                                | 97/199 [00:01<00:01, 71.40it/s]"
     ]
    },
    {
     "name": "stdout",
     "output_type": "stream",
     "text": [
      "\n",
      " Data(x=[147, 34], edge_index=[2, 2656], y=[147], edge_weight=[2656])\n",
      "\n",
      " Data(x=[242, 34], edge_index=[2, 4438], y=[242], edge_weight=[4438])\n",
      "\n",
      " Data(x=[360, 34], edge_index=[2, 6974], y=[360], edge_weight=[6974])\n",
      "\n",
      " Data(x=[364, 34], edge_index=[2, 7148], y=[364], edge_weight=[7148])\n",
      "\n",
      " Data(x=[99, 34], edge_index=[2, 1420], y=[99], edge_weight=[1420])\n",
      "\n",
      " Data(x=[99, 34], edge_index=[2, 1412], y=[99], edge_weight=[1412])\n",
      "\n",
      " Data(x=[99, 34], edge_index=[2, 1404], y=[99], edge_weight=[1404])\n",
      "\n",
      " Data(x=[99, 34], edge_index=[2, 1402], y=[99], edge_weight=[1402])\n",
      "\n",
      " Data(x=[99, 34], edge_index=[2, 1408], y=[99], edge_weight=[1408])\n",
      "\n",
      " Data(x=[99, 34], edge_index=[2, 1406], y=[99], edge_weight=[1406])\n",
      "\n",
      " Data(x=[177, 34], edge_index=[2, 3176], y=[177], edge_weight=[3176])\n",
      "\n",
      " Data(x=[99, 34], edge_index=[2, 1392], y=[99], edge_weight=[1392])\n",
      "\n",
      " Data(x=[99, 34], edge_index=[2, 1406], y=[99], edge_weight=[1406])\n",
      "\n",
      " Data(x=[99, 34], edge_index=[2, 1456], y=[99], edge_weight=[1456])\n",
      "\n",
      " Data(x=[99, 34], edge_index=[2, 1462], y=[99], edge_weight=[1462])\n",
      "\n",
      " Data(x=[99, 34], edge_index=[2, 1394], y=[99], edge_weight=[1394])\n",
      "\n",
      " Data(x=[99, 34], edge_index=[2, 1390], y=[99], edge_weight=[1390])\n",
      "\n",
      " Data(x=[99, 34], edge_index=[2, 1426], y=[99], edge_weight=[1426])\n",
      "\n",
      " Data(x=[99, 34], edge_index=[2, 1410], y=[99], edge_weight=[1410])\n"
     ]
    },
    {
     "name": "stderr",
     "output_type": "stream",
     "text": [
      " 53%|█████████████████████████████████                             | 106/199 [00:01<00:01, 74.92it/s]"
     ]
    },
    {
     "name": "stdout",
     "output_type": "stream",
     "text": [
      "\n",
      " Data(x=[469, 34], edge_index=[2, 8526], y=[469], edge_weight=[8526])\n",
      "\n",
      " Data(x=[311, 34], edge_index=[2, 5706], y=[311], edge_weight=[5706])\n",
      "\n",
      " Data(x=[217, 34], edge_index=[2, 3436], y=[217], edge_weight=[3436])\n",
      "\n",
      " Data(x=[217, 34], edge_index=[2, 3468], y=[217], edge_weight=[3468])\n",
      "\n",
      " Data(x=[202, 34], edge_index=[2, 3502], y=[202], edge_weight=[3502])\n",
      "\n",
      " Data(x=[220, 34], edge_index=[2, 3526], y=[220], edge_weight=[3526])\n",
      "\n",
      " Data(x=[220, 34], edge_index=[2, 3506], y=[220], edge_weight=[3506])\n",
      "\n",
      " Data(x=[99, 34], edge_index=[2, 1412], y=[99], edge_weight=[1412])\n",
      "\n",
      " Data(x=[99, 34], edge_index=[2, 1428], y=[99], edge_weight=[1428])\n",
      "\n",
      " Data(x=[528, 34], edge_index=[2, 10258], y=[528], edge_weight=[10258])\n",
      "\n",
      " Data(x=[330, 34], edge_index=[2, 5808], y=[330], edge_weight=[5808])\n",
      "\n",
      " Data(x=[490, 34], edge_index=[2, 9424], y=[490], edge_weight=[9424])\n",
      "\n",
      " Data(x=[376, 34], edge_index=[2, 6926], y=[376], edge_weight=[6926])\n",
      "\n",
      " Data(x=[373, 34], edge_index=[2, 6928], y=[373], edge_weight=[6928])\n"
     ]
    },
    {
     "name": "stderr",
     "output_type": "stream",
     "text": [
      " 62%|██████████████████████████████████████▎                       | 123/199 [00:01<00:01, 64.35it/s]"
     ]
    },
    {
     "name": "stdout",
     "output_type": "stream",
     "text": [
      "\n",
      " Data(x=[376, 34], edge_index=[2, 7556], y=[376], edge_weight=[7556])\n",
      "\n",
      " Data(x=[373, 34], edge_index=[2, 7498], y=[373], edge_weight=[7498])\n",
      "\n",
      " Data(x=[249, 34], edge_index=[2, 4102], y=[249], edge_weight=[4102])\n",
      "\n",
      " Data(x=[376, 34], edge_index=[2, 7478], y=[376], edge_weight=[7478])\n",
      "\n",
      " Data(x=[373, 34], edge_index=[2, 7406], y=[373], edge_weight=[7406])\n",
      "\n",
      " Data(x=[99, 34], edge_index=[2, 1434], y=[99], edge_weight=[1434])\n",
      "\n",
      " Data(x=[99, 34], edge_index=[2, 1430], y=[99], edge_weight=[1430])\n",
      "\n",
      " Data(x=[99, 34], edge_index=[2, 1388], y=[99], edge_weight=[1388])\n",
      "\n",
      " Data(x=[99, 34], edge_index=[2, 1394], y=[99], edge_weight=[1394])\n",
      "\n",
      " Data(x=[99, 34], edge_index=[2, 1382], y=[99], edge_weight=[1382])\n",
      "\n",
      " Data(x=[99, 34], edge_index=[2, 1376], y=[99], edge_weight=[1376])\n",
      "\n",
      " Data(x=[99, 34], edge_index=[2, 1388], y=[99], edge_weight=[1388])\n",
      "\n",
      " Data(x=[99, 34], edge_index=[2, 1396], y=[99], edge_weight=[1396])\n",
      "\n",
      " Data(x=[99, 34], edge_index=[2, 1416], y=[99], edge_weight=[1416])\n",
      "\n",
      " Data(x=[99, 34], edge_index=[2, 1418], y=[99], edge_weight=[1418])\n",
      "\n",
      " Data(x=[99, 34], edge_index=[2, 1426], y=[99], edge_weight=[1426])\n",
      "\n",
      " Data(x=[99, 34], edge_index=[2, 1442], y=[99], edge_weight=[1442])\n",
      "\n",
      " Data(x=[99, 34], edge_index=[2, 1398], y=[99], edge_weight=[1398])\n",
      "\n",
      " Data(x=[99, 34], edge_index=[2, 1396], y=[99], edge_weight=[1396])\n"
     ]
    },
    {
     "name": "stderr",
     "output_type": "stream",
     "text": [
      " 69%|██████████████████████████████████████████▋                   | 137/199 [00:01<00:00, 77.98it/s]"
     ]
    },
    {
     "name": "stdout",
     "output_type": "stream",
     "text": [
      "\n",
      " Data(x=[99, 34], edge_index=[2, 1384], y=[99], edge_weight=[1384])\n",
      "\n",
      " Data(x=[399, 34], edge_index=[2, 6414], y=[399], edge_weight=[6414])\n",
      "\n",
      " Data(x=[134, 34], edge_index=[2, 2126], y=[134], edge_weight=[2126])\n",
      "\n",
      " Data(x=[523, 34], edge_index=[2, 8264], y=[523], edge_weight=[8264])\n",
      "\n",
      " Data(x=[395, 34], edge_index=[2, 6286], y=[395], edge_weight=[6286])\n",
      "\n",
      " Data(x=[767, 34], edge_index=[2, 14964], y=[767], edge_weight=[14964])\n",
      "\n",
      " Data(x=[534, 34], edge_index=[2, 10284], y=[534], edge_weight=[10284])\n",
      "\n",
      " Data(x=[186, 34], edge_index=[2, 2908], y=[186], edge_weight=[2908])\n",
      "\n",
      " Data(x=[502, 34], edge_index=[2, 9474], y=[502], edge_weight=[9474])\n"
     ]
    },
    {
     "name": "stderr",
     "output_type": "stream",
     "text": [
      " 80%|█████████████████████████████████████████████████▊            | 160/199 [00:02<00:00, 77.64it/s]"
     ]
    },
    {
     "name": "stdout",
     "output_type": "stream",
     "text": [
      "\n",
      " Data(x=[447, 34], edge_index=[2, 8248], y=[447], edge_weight=[8248])\n",
      "\n",
      " Data(x=[99, 34], edge_index=[2, 1402], y=[99], edge_weight=[1402])\n",
      "\n",
      " Data(x=[123, 34], edge_index=[2, 1974], y=[123], edge_weight=[1974])\n",
      "\n",
      " Data(x=[99, 34], edge_index=[2, 1454], y=[99], edge_weight=[1454])\n",
      "\n",
      " Data(x=[99, 34], edge_index=[2, 1486], y=[99], edge_weight=[1486])\n",
      "\n",
      " Data(x=[99, 34], edge_index=[2, 1450], y=[99], edge_weight=[1450])\n",
      "\n",
      " Data(x=[99, 34], edge_index=[2, 1458], y=[99], edge_weight=[1458])\n",
      "\n",
      " Data(x=[99, 34], edge_index=[2, 1450], y=[99], edge_weight=[1450])\n",
      "\n",
      " Data(x=[99, 34], edge_index=[2, 1472], y=[99], edge_weight=[1472])\n",
      "\n",
      " Data(x=[99, 34], edge_index=[2, 1442], y=[99], edge_weight=[1442])\n",
      "\n",
      " Data(x=[99, 34], edge_index=[2, 1442], y=[99], edge_weight=[1442])\n",
      "\n",
      " Data(x=[99, 34], edge_index=[2, 1408], y=[99], edge_weight=[1408])\n",
      "\n",
      " Data(x=[99, 34], edge_index=[2, 1460], y=[99], edge_weight=[1460])\n",
      "\n",
      " Data(x=[99, 34], edge_index=[2, 1448], y=[99], edge_weight=[1448])\n",
      "\n",
      " Data(x=[99, 34], edge_index=[2, 1464], y=[99], edge_weight=[1464])\n",
      "\n",
      " Data(x=[99, 34], edge_index=[2, 1470], y=[99], edge_weight=[1470])\n",
      "\n",
      " Data(x=[99, 34], edge_index=[2, 1504], y=[99], edge_weight=[1504])\n",
      "\n",
      " Data(x=[520, 34], edge_index=[2, 8324], y=[520], edge_weight=[8324])\n",
      "\n",
      " Data(x=[403, 34], edge_index=[2, 6540], y=[403], edge_weight=[6540])\n",
      "\n",
      " Data(x=[543, 34], edge_index=[2, 8710], y=[543], edge_weight=[8710])\n",
      "\n",
      " Data(x=[542, 34], edge_index=[2, 8666], y=[542], edge_weight=[8666])\n"
     ]
    },
    {
     "name": "stderr",
     "output_type": "stream",
     "text": [
      " 90%|███████████████████████████████████████████████████████▊      | 179/199 [00:02<00:00, 73.53it/s]"
     ]
    },
    {
     "name": "stdout",
     "output_type": "stream",
     "text": [
      "\n",
      " Data(x=[408, 34], edge_index=[2, 6426], y=[408], edge_weight=[6426])\n",
      "\n",
      " Data(x=[315, 34], edge_index=[2, 5620], y=[315], edge_weight=[5620])\n",
      "\n",
      " Data(x=[262, 34], edge_index=[2, 4966], y=[262], edge_weight=[4966])\n",
      "\n",
      " Data(x=[147, 34], edge_index=[2, 2666], y=[147], edge_weight=[2666])\n",
      "\n",
      " Data(x=[124, 34], edge_index=[2, 1996], y=[124], edge_weight=[1996])\n",
      "\n",
      " Data(x=[124, 34], edge_index=[2, 1982], y=[124], edge_weight=[1982])\n",
      "\n",
      " Data(x=[124, 34], edge_index=[2, 1994], y=[124], edge_weight=[1994])\n",
      "\n",
      " Data(x=[124, 34], edge_index=[2, 1974], y=[124], edge_weight=[1974])\n",
      "\n",
      " Data(x=[585, 34], edge_index=[2, 10754], y=[585], edge_weight=[10754])\n",
      "\n",
      " Data(x=[585, 34], edge_index=[2, 10582], y=[585], edge_weight=[10582])\n",
      "\n",
      " Data(x=[164, 34], edge_index=[2, 2672], y=[164], edge_weight=[2672])\n",
      "\n",
      " Data(x=[164, 34], edge_index=[2, 2710], y=[164], edge_weight=[2710])\n",
      "\n",
      " Data(x=[99, 34], edge_index=[2, 1384], y=[99], edge_weight=[1384])\n",
      "\n",
      " Data(x=[99, 34], edge_index=[2, 1400], y=[99], edge_weight=[1400])\n",
      "\n",
      " Data(x=[99, 34], edge_index=[2, 1376], y=[99], edge_weight=[1376])\n",
      "\n",
      " Data(x=[99, 34], edge_index=[2, 1388], y=[99], edge_weight=[1388])\n",
      "\n",
      " Data(x=[284, 34], edge_index=[2, 5082], y=[284], edge_weight=[5082])\n"
     ]
    },
    {
     "name": "stderr",
     "output_type": "stream",
     "text": [
      " 94%|██████████████████████████████████████████████████████████▌   | 188/199 [00:02<00:00, 64.84it/s]"
     ]
    },
    {
     "name": "stdout",
     "output_type": "stream",
     "text": [
      "\n",
      " Data(x=[284, 34], edge_index=[2, 5138], y=[284], edge_weight=[5138])\n",
      "\n",
      " Data(x=[186, 34], edge_index=[2, 2888], y=[186], edge_weight=[2888])\n",
      "\n",
      " Data(x=[529, 34], edge_index=[2, 10208], y=[529], edge_weight=[10208])\n",
      "\n",
      " Data(x=[532, 34], edge_index=[2, 10354], y=[532], edge_weight=[10354])\n",
      "\n",
      " Data(x=[217, 34], edge_index=[2, 3434], y=[217], edge_weight=[3434])\n",
      "\n",
      " Data(x=[217, 34], edge_index=[2, 3446], y=[217], edge_weight=[3446])\n",
      "\n",
      " Data(x=[99, 34], edge_index=[2, 1410], y=[99], edge_weight=[1410])\n",
      "\n",
      " Data(x=[99, 34], edge_index=[2, 1410], y=[99], edge_weight=[1410])\n",
      "\n",
      " Data(x=[99, 34], edge_index=[2, 1402], y=[99], edge_weight=[1402])\n",
      "\n",
      " Data(x=[99, 34], edge_index=[2, 1376], y=[99], edge_weight=[1376])\n",
      "\n",
      " Data(x=[99, 34], edge_index=[2, 1408], y=[99], edge_weight=[1408])\n",
      "\n",
      " Data(x=[99, 34], edge_index=[2, 1392], y=[99], edge_weight=[1392])\n"
     ]
    },
    {
     "name": "stderr",
     "output_type": "stream",
     "text": [
      "100%|██████████████████████████████████████████████████████████████| 199/199 [00:02<00:00, 67.86it/s]"
     ]
    },
    {
     "name": "stdout",
     "output_type": "stream",
     "text": [
      "\n",
      " Data(x=[558, 34], edge_index=[2, 9116], y=[558], edge_weight=[9116])\n",
      "\n",
      " Data(x=[427, 34], edge_index=[2, 6880], y=[427], edge_weight=[6880])\n",
      "\n",
      " Data(x=[558, 34], edge_index=[2, 9054], y=[558], edge_weight=[9054])\n",
      "\n",
      " Data(x=[427, 34], edge_index=[2, 6794], y=[427], edge_weight=[6794])\n",
      "\n",
      " Data(x=[99, 34], edge_index=[2, 1408], y=[99], edge_weight=[1408])\n",
      "\n",
      " Data(x=[99, 34], edge_index=[2, 1436], y=[99], edge_weight=[1436])\n",
      "\n",
      " Data(x=[163, 34], edge_index=[2, 2488], y=[163], edge_weight=[2488])\n"
     ]
    },
    {
     "name": "stderr",
     "output_type": "stream",
     "text": [
      "\n"
     ]
    }
   ],
   "source": [
    "validCnt, invalidCnt, numTrainSet = 0, 0, 9\n",
    "data_list = []\n",
    "\n",
    "for i in range(numTrainSet): # using set0 for test\n",
    "    print(f'[INFO ] set {i}')\n",
    "    for seqInfo in tqdm(open(f'{proj_p}/valid_data.set/test_seq.info', 'r').readlines()[1:]):\n",
    "        try:\n",
    "            result = convertBS2Graph(seqInfo=seqInfo,\n",
    "                            file_p=f'{data_p}/set_{0}/{seqInfo.split(\",\")[0]}',\n",
    "                            pdb=seqInfo.split(',')[0],\n",
    "                            chain=seqInfo.split(',')[1]\n",
    "                            )\n",
    "            node_attr, edge_idx, edge_weight = result\n",
    "            y = [ int(i) for i in seqInfo.split(',')[-1][:-1] ]\n",
    "            y = torch.tensor(y, dtype=torch.long)\n",
    "            dtmp = Data(x=node_attr, edge_index=edge_idx, edge_weight=edge_weight, y=y)\n",
    "            print('\\n', dtmp)\n",
    "            data_list.append(dtmp)\n",
    "            # print(\"data_preparation :\", seqInfo.split(',')[0], seqInfo.split(',')[1], \"...ok\")\n",
    "        except Exception as E:\n",
    "            print(E)"
   ]
  },
  {
   "cell_type": "code",
   "execution_count": 4,
   "id": "ebabf073",
   "metadata": {},
   "outputs": [
    {
     "name": "stdout",
     "output_type": "stream",
     "text": [
      "Number of training set: 1250\n",
      "Number of Validaation set: 180\n",
      "Number of test set: 361\n"
     ]
    }
   ],
   "source": [
    "train_set, val_set, test_set = data_list[:1250], data_list[1250:1430], data_list[1430:] # data_length = 1791\n",
    "print(f\"Number of training set: {len(train_set)}\")\n",
    "print(f\"Number of Validaation set: {len(val_set)}\")\n",
    "print(f\"Number of test set: {len(test_set)}\")"
   ]
  },
  {
   "cell_type": "code",
   "execution_count": 5,
   "id": "ace9b703",
   "metadata": {},
   "outputs": [],
   "source": [
    "train_loader = DataLoader(train_set, batch_size=100, shuffle=True, drop_last=False)\n",
    "test_loader = DataLoader(test_set, batch_size=100, shuffle=True, drop_last=False)\n",
    "val_loader = DataLoader(val_set, batch_size=100, shuffle=False, drop_last=False)"
   ]
  },
  {
   "cell_type": "code",
   "execution_count": 6,
   "id": "58b19c73",
   "metadata": {},
   "outputs": [
    {
     "name": "stdout",
     "output_type": "stream",
     "text": [
      "DataBatch(x=[25596, 34], edge_index=[2, 444602], y=[25596], edge_weight=[444602], batch=[25596], ptr=[101])\n",
      "tensor([ 0,  0,  0,  ..., 99, 99, 99])\n",
      "100\n",
      "34\n"
     ]
    }
   ],
   "source": [
    "for batch in train_loader:\n",
    "    print(batch)\n",
    "    print(batch.batch)\n",
    "    print(batch.num_graphs)\n",
    "    print(batch.num_node_features)\n",
    "    break"
   ]
  },
  {
   "cell_type": "code",
   "execution_count": 7,
   "id": "b55a43e4",
   "metadata": {},
   "outputs": [
    {
     "name": "stdout",
     "output_type": "stream",
     "text": [
      "data.keys :  ['edge_weight', 'y', 'edge_index', 'x']\n",
      "data.num_node_features 34\n"
     ]
    }
   ],
   "source": [
    "data = data_list[0]\n",
    "print(\"data.keys : \", data.keys)\n",
    "print(\"data.num_node_features\", data.num_node_features)"
   ]
  },
  {
   "cell_type": "code",
   "execution_count": 8,
   "id": "9eb76ae2",
   "metadata": {},
   "outputs": [
    {
     "name": "stdout",
     "output_type": "stream",
     "text": [
      "cuda\n",
      "myGCN(\n",
      "  (conv1): GCNConv(34, 70)\n",
      "  (conv2): GCNConv(70, 70)\n",
      "  (conv3): GCNConv(70, 70)\n",
      "  (lin1): Linear(in_features=70, out_features=35, bias=True)\n",
      "  (lin2): Linear(in_features=35, out_features=21, bias=True)\n",
      ")\n"
     ]
    }
   ],
   "source": [
    "if torch.cuda.is_available():\n",
    "    device = torch.device('cuda')\n",
    "else:\n",
    "    device = torch.device('cpu')\n",
    "\n",
    "print(device)\n",
    "model = myGCN(in_channel=34, hidden_layer_size=70)\n",
    "model.to(device)\n",
    "print(model)"
   ]
  },
  {
   "cell_type": "code",
   "execution_count": 9,
   "id": "2266aba1",
   "metadata": {},
   "outputs": [],
   "source": [
    "optimizer = torch.optim.Adam(model.parameters(), lr=0.005)\n",
    "criterion = torch.nn.CrossEntropyLoss()"
   ]
  },
  {
   "cell_type": "code",
   "execution_count": 10,
   "id": "a5b15fb8",
   "metadata": {},
   "outputs": [],
   "source": [
    "def test(loader):\n",
    "    model.eval()\n",
    "    error = 0.0\n",
    "    out_all = []\n",
    "    true = []\n",
    "    for data in loader:  # Iterate in batches over the training/test dataset.\n",
    "        out = model(data.to(device))\n",
    "        out = out.argmax(dim=1)\n",
    "        tmp = (out - data.y) ** 2\n",
    "        error += tmp.sum().item()  # Check against ground-truth labels.\n",
    "\n",
    "        out_all.extend([x.item() for x in out])\n",
    "        true.extend([x.item() for x in data.y])\n",
    "    return error / len(loader.dataset), out_all, true  # Derive ratio of correct predictions.\n"
   ]
  },
  {
   "cell_type": "code",
   "execution_count": 11,
   "id": "5c6a154f",
   "metadata": {},
   "outputs": [],
   "source": [
    "def train():\n",
    "    model.train()\n",
    "    for idx, batch in enumerate(train_loader):\n",
    "        out = model(batch.to(device))\n",
    "        #out = out.argmax(dim=1)\n",
    "        loss = criterion(out, batch.y)\n",
    "        loss.backward()\n",
    "        optimizer.step()  # Update parameters based on gradients.\n",
    "        optimizer.zero_grad()  # Clear gradients.\n",
    "        if idx%100 == 0:\n",
    "            print(f\"IDX: {idx:5d}\\tLoss: {loss:.4f}\")\n"
   ]
  },
  {
   "cell_type": "code",
   "execution_count": 16,
   "id": "a9e2416b",
   "metadata": {},
   "outputs": [
    {
     "name": "stdout",
     "output_type": "stream",
     "text": [
      "====================================================================================================\n",
      "Epoch:  1\n",
      "IDX:     0\tLoss: 0.1590\n",
      "----------------------------------------------------------------------------------------------------\n",
      "Epoch: 001, Train Acc: 11.0872, Val Acc: 10.9000, Test Acc: 10.7867\n",
      "====================================================================================================\n",
      "Epoch:  2\n",
      "IDX:     0\tLoss: 0.1573\n",
      "----------------------------------------------------------------------------------------------------\n",
      "Epoch: 002, Train Acc: 11.1048, Val Acc: 10.9167, Test Acc: 10.8089\n",
      "====================================================================================================\n",
      "Epoch:  3\n",
      "IDX:     0\tLoss: 0.1533\n",
      "----------------------------------------------------------------------------------------------------\n",
      "Epoch: 003, Train Acc: 10.7576, Val Acc: 10.6000, Test Acc: 10.4875\n",
      "====================================================================================================\n",
      "Epoch:  4\n",
      "IDX:     0\tLoss: 0.1564\n",
      "----------------------------------------------------------------------------------------------------\n",
      "Epoch: 004, Train Acc: 10.9944, Val Acc: 10.8611, Test Acc: 10.6898\n",
      "====================================================================================================\n",
      "Epoch:  5\n",
      "IDX:     0\tLoss: 0.1490\n",
      "----------------------------------------------------------------------------------------------------\n",
      "Epoch: 005, Train Acc: 10.7360, Val Acc: 10.6000, Test Acc: 10.4183\n",
      "====================================================================================================\n",
      "Epoch:  6\n",
      "IDX:     0\tLoss: 0.1644\n",
      "----------------------------------------------------------------------------------------------------\n",
      "Epoch: 006, Train Acc: 10.5864, Val Acc: 10.4333, Test Acc: 10.3463\n",
      "====================================================================================================\n",
      "Epoch:  7\n",
      "IDX:     0\tLoss: 0.1379\n",
      "----------------------------------------------------------------------------------------------------\n",
      "Epoch: 007, Train Acc: 10.5912, Val Acc: 10.4167, Test Acc: 10.3158\n",
      "====================================================================================================\n",
      "Epoch:  8\n",
      "IDX:     0\tLoss: 0.1463\n",
      "----------------------------------------------------------------------------------------------------\n",
      "Epoch: 008, Train Acc: 11.1904, Val Acc: 11.0056, Test Acc: 10.8670\n",
      "====================================================================================================\n",
      "Epoch:  9\n",
      "IDX:     0\tLoss: 0.1521\n",
      "----------------------------------------------------------------------------------------------------\n",
      "Epoch: 009, Train Acc: 11.3408, Val Acc: 11.2167, Test Acc: 11.0083\n",
      "====================================================================================================\n",
      "Epoch:  10\n",
      "IDX:     0\tLoss: 0.1417\n",
      "----------------------------------------------------------------------------------------------------\n",
      "Epoch: 010, Train Acc: 10.8592, Val Acc: 10.7278, Test Acc: 10.6233\n",
      "====================================================================================================\n",
      "Epoch:  11\n",
      "IDX:     0\tLoss: 0.1555\n",
      "----------------------------------------------------------------------------------------------------\n",
      "Epoch: 011, Train Acc: 10.9944, Val Acc: 10.8222, Test Acc: 10.7313\n",
      "====================================================================================================\n",
      "Epoch:  12\n",
      "IDX:     0\tLoss: 0.1488\n",
      "----------------------------------------------------------------------------------------------------\n",
      "Epoch: 012, Train Acc: 10.7200, Val Acc: 10.5444, Test Acc: 10.4543\n",
      "====================================================================================================\n",
      "Epoch:  13\n",
      "IDX:     0\tLoss: 0.1320\n",
      "----------------------------------------------------------------------------------------------------\n",
      "Epoch: 013, Train Acc: 10.4904, Val Acc: 10.3333, Test Acc: 10.2078\n",
      "====================================================================================================\n",
      "Epoch:  14\n",
      "IDX:     0\tLoss: 0.1472\n",
      "----------------------------------------------------------------------------------------------------\n",
      "Epoch: 014, Train Acc: 10.4784, Val Acc: 10.3056, Test Acc: 10.2105\n",
      "====================================================================================================\n",
      "Epoch:  15\n",
      "IDX:     0\tLoss: 0.1310\n",
      "----------------------------------------------------------------------------------------------------\n",
      "Epoch: 015, Train Acc: 10.8944, Val Acc: 10.7222, Test Acc: 10.5817\n",
      "====================================================================================================\n",
      "Epoch:  16\n",
      "IDX:     0\tLoss: 0.1419\n",
      "----------------------------------------------------------------------------------------------------\n",
      "Epoch: 016, Train Acc: 10.6224, Val Acc: 10.4500, Test Acc: 10.2936\n",
      "====================================================================================================\n",
      "Epoch:  17\n",
      "IDX:     0\tLoss: 0.1523\n",
      "----------------------------------------------------------------------------------------------------\n",
      "Epoch: 017, Train Acc: 10.4040, Val Acc: 10.2389, Test Acc: 10.1274\n",
      "====================================================================================================\n",
      "Epoch:  18\n",
      "IDX:     0\tLoss: 0.1478\n",
      "----------------------------------------------------------------------------------------------------\n",
      "Epoch: 018, Train Acc: 10.4984, Val Acc: 10.3667, Test Acc: 10.2327\n",
      "====================================================================================================\n",
      "Epoch:  19\n",
      "IDX:     0\tLoss: 0.1470\n",
      "----------------------------------------------------------------------------------------------------\n",
      "Epoch: 019, Train Acc: 10.6480, Val Acc: 10.4833, Test Acc: 10.3823\n",
      "====================================================================================================\n",
      "Epoch:  20\n",
      "IDX:     0\tLoss: 0.1399\n",
      "----------------------------------------------------------------------------------------------------\n",
      "Epoch: 020, Train Acc: 10.6648, Val Acc: 10.5444, Test Acc: 10.3934\n",
      "====================================================================================================\n",
      "Epoch:  21\n",
      "IDX:     0\tLoss: 0.1362\n",
      "----------------------------------------------------------------------------------------------------\n",
      "Epoch: 021, Train Acc: 10.3968, Val Acc: 10.2667, Test Acc: 10.1136\n",
      "====================================================================================================\n",
      "Epoch:  22\n",
      "IDX:     0\tLoss: 0.1467\n",
      "----------------------------------------------------------------------------------------------------\n",
      "Epoch: 022, Train Acc: 10.2520, Val Acc: 10.1000, Test Acc: 10.0111\n",
      "====================================================================================================\n",
      "Epoch:  23\n",
      "IDX:     0\tLoss: 0.1367\n",
      "----------------------------------------------------------------------------------------------------\n",
      "Epoch: 023, Train Acc: 10.3624, Val Acc: 10.2278, Test Acc: 10.1025\n",
      "====================================================================================================\n",
      "Epoch:  24\n",
      "IDX:     0\tLoss: 0.1415\n",
      "----------------------------------------------------------------------------------------------------\n",
      "Epoch: 024, Train Acc: 10.1184, Val Acc: 10.0000, Test Acc: 9.9141\n",
      "====================================================================================================\n",
      "Epoch:  25\n",
      "IDX:     0\tLoss: 0.1336\n",
      "----------------------------------------------------------------------------------------------------\n",
      "Epoch: 025, Train Acc: 10.4632, Val Acc: 10.3278, Test Acc: 10.2078\n",
      "====================================================================================================\n",
      "Epoch:  26\n",
      "IDX:     0\tLoss: 0.1466\n",
      "----------------------------------------------------------------------------------------------------\n",
      "Epoch: 026, Train Acc: 10.1264, Val Acc: 10.0000, Test Acc: 9.9363\n",
      "====================================================================================================\n",
      "Epoch:  27\n",
      "IDX:     0\tLoss: 0.1405\n",
      "----------------------------------------------------------------------------------------------------\n",
      "Epoch: 027, Train Acc: 10.4624, Val Acc: 10.3111, Test Acc: 10.2133\n",
      "====================================================================================================\n",
      "Epoch:  28\n",
      "IDX:     0\tLoss: 0.1347\n",
      "----------------------------------------------------------------------------------------------------\n",
      "Epoch: 028, Train Acc: 10.5616, Val Acc: 10.4333, Test Acc: 10.2909\n",
      "====================================================================================================\n",
      "Epoch:  29\n",
      "IDX:     0\tLoss: 0.1633\n",
      "----------------------------------------------------------------------------------------------------\n",
      "Epoch: 029, Train Acc: 10.5144, Val Acc: 10.3556, Test Acc: 10.2548\n",
      "====================================================================================================\n",
      "Epoch:  30\n",
      "IDX:     0\tLoss: 0.1436\n",
      "----------------------------------------------------------------------------------------------------\n",
      "Epoch: 030, Train Acc: 10.1832, Val Acc: 10.0778, Test Acc: 10.0249\n",
      "====================================================================================================\n",
      "Epoch:  31\n",
      "IDX:     0\tLoss: 0.1439\n",
      "----------------------------------------------------------------------------------------------------\n",
      "Epoch: 031, Train Acc: 9.9048, Val Acc: 9.7889, Test Acc: 9.7368\n",
      "====================================================================================================\n",
      "Epoch:  32\n",
      "IDX:     0\tLoss: 0.1258\n",
      "----------------------------------------------------------------------------------------------------\n",
      "Epoch: 032, Train Acc: 10.1880, Val Acc: 10.0667, Test Acc: 9.9141\n",
      "====================================================================================================\n",
      "Epoch:  33\n",
      "IDX:     0\tLoss: 0.1170\n",
      "----------------------------------------------------------------------------------------------------\n",
      "Epoch: 033, Train Acc: 10.0840, Val Acc: 9.9556, Test Acc: 9.9086\n",
      "====================================================================================================\n",
      "Epoch:  34\n",
      "IDX:     0\tLoss: 0.1328\n",
      "----------------------------------------------------------------------------------------------------\n",
      "Epoch: 034, Train Acc: 9.9088, Val Acc: 9.7722, Test Acc: 9.7645\n",
      "====================================================================================================\n",
      "Epoch:  35\n",
      "IDX:     0\tLoss: 0.1385\n",
      "----------------------------------------------------------------------------------------------------\n",
      "Epoch: 035, Train Acc: 10.4152, Val Acc: 10.2389, Test Acc: 10.1884\n",
      "====================================================================================================\n",
      "Epoch:  36\n",
      "IDX:     0\tLoss: 0.1280\n",
      "----------------------------------------------------------------------------------------------------\n",
      "Epoch: 036, Train Acc: 9.8160, Val Acc: 9.7222, Test Acc: 9.6537\n",
      "====================================================================================================\n",
      "Epoch:  37\n",
      "IDX:     0\tLoss: 0.1482\n",
      "----------------------------------------------------------------------------------------------------\n",
      "Epoch: 037, Train Acc: 10.1832, Val Acc: 10.0333, Test Acc: 9.9474\n",
      "====================================================================================================\n",
      "Epoch:  38\n",
      "IDX:     0\tLoss: 0.1246\n",
      "----------------------------------------------------------------------------------------------------\n",
      "Epoch: 038, Train Acc: 9.9376, Val Acc: 9.8611, Test Acc: 9.7645\n",
      "====================================================================================================\n",
      "Epoch:  39\n",
      "IDX:     0\tLoss: 0.1249\n",
      "----------------------------------------------------------------------------------------------------\n",
      "Epoch: 039, Train Acc: 9.9024, Val Acc: 9.7889, Test Acc: 9.7202\n",
      "====================================================================================================\n",
      "Epoch:  40\n",
      "IDX:     0\tLoss: 0.1354\n",
      "----------------------------------------------------------------------------------------------------\n",
      "Epoch: 040, Train Acc: 9.9784, Val Acc: 9.8556, Test Acc: 9.7479\n",
      "====================================================================================================\n",
      "Epoch:  41\n",
      "IDX:     0\tLoss: 0.1305\n",
      "----------------------------------------------------------------------------------------------------\n",
      "Epoch: 041, Train Acc: 10.0328, Val Acc: 9.9056, Test Acc: 9.8338\n",
      "====================================================================================================\n",
      "Epoch:  42\n",
      "IDX:     0\tLoss: 0.1189\n",
      "----------------------------------------------------------------------------------------------------\n",
      "Epoch: 042, Train Acc: 10.1088, Val Acc: 10.0056, Test Acc: 9.9169\n",
      "====================================================================================================\n",
      "Epoch:  43\n",
      "IDX:     0\tLoss: 0.1292\n",
      "----------------------------------------------------------------------------------------------------\n",
      "Epoch: 043, Train Acc: 9.7896, Val Acc: 9.7222, Test Acc: 9.6454\n",
      "====================================================================================================\n",
      "Epoch:  44\n",
      "IDX:     0\tLoss: 0.1290\n",
      "----------------------------------------------------------------------------------------------------\n",
      "Epoch: 044, Train Acc: 9.9088, Val Acc: 9.8278, Test Acc: 9.6759\n",
      "====================================================================================================\n",
      "Epoch:  45\n",
      "IDX:     0\tLoss: 0.1389\n",
      "----------------------------------------------------------------------------------------------------\n",
      "Epoch: 045, Train Acc: 10.1336, Val Acc: 10.0167, Test Acc: 9.9030\n",
      "====================================================================================================\n",
      "Epoch:  46\n",
      "IDX:     0\tLoss: 0.1303\n",
      "----------------------------------------------------------------------------------------------------\n",
      "Epoch: 046, Train Acc: 10.4376, Val Acc: 10.2444, Test Acc: 10.2244\n",
      "====================================================================================================\n",
      "Epoch:  47\n",
      "IDX:     0\tLoss: 0.1382\n",
      "----------------------------------------------------------------------------------------------------\n",
      "Epoch: 047, Train Acc: 9.8912, Val Acc: 9.7778, Test Acc: 9.7147\n",
      "====================================================================================================\n",
      "Epoch:  48\n",
      "IDX:     0\tLoss: 0.1229\n",
      "----------------------------------------------------------------------------------------------------\n",
      "Epoch: 048, Train Acc: 9.8608, Val Acc: 9.8167, Test Acc: 9.7258\n",
      "====================================================================================================\n",
      "Epoch:  49\n",
      "IDX:     0\tLoss: 0.1348\n",
      "----------------------------------------------------------------------------------------------------\n",
      "Epoch: 049, Train Acc: 10.2520, Val Acc: 10.1111, Test Acc: 10.0443\n"
     ]
    }
   ],
   "source": [
    "train_acc_list = []\n",
    "val_acc_list = []\n",
    "test_acc_list = []\n",
    "\n",
    "for epoch in range(1, 50):\n",
    "    print(\"=\" * 100)\n",
    "    print(\"Epoch: \", epoch)\n",
    "\n",
    "    train()\n",
    "\n",
    "    train_acc, out_tmp, true_tmp = test(train_loader)\n",
    "    train_acc_list.append(train_acc)\n",
    "\n",
    "    test_acc, out_all, true_all = test(test_loader)\n",
    "    test_acc_list.append(test_acc)\n",
    "\n",
    "    val_acc, val_pred, val_true = test(val_loader)\n",
    "    val_acc_list.append(val_acc)\n",
    "\n",
    "    print(\"-\" * 100)\n",
    "    print(f'Epoch: {epoch:03d}, Train Acc: {train_acc:.4f}, Val Acc: {val_acc:.4f}, Test Acc: {test_acc:.4f}')"
   ]
  },
  {
   "cell_type": "code",
   "execution_count": 17,
   "id": "23e842ed",
   "metadata": {},
   "outputs": [],
   "source": [
    "# torch.save(model, '/home/dongwoo/project/geo/BS_prediction/model.pt')\n",
    "# model = torch.load('/home/dongwoo/project/geo/BS_prediction/model.pt')"
   ]
  },
  {
   "cell_type": "code",
   "execution_count": 22,
   "id": "e6fa2f85",
   "metadata": {},
   "outputs": [],
   "source": [
    "experimental = [x for x in true_all]\n",
    "prediction = [x for x in out_all]"
   ]
  },
  {
   "cell_type": "code",
   "execution_count": 23,
   "id": "4cfeac60",
   "metadata": {},
   "outputs": [
    {
     "data": {
      "image/png": "[encoded data removed]",
      "text/plain": [
       "<Figure size 576x576 with 1 Axes>"
      ]
     },
     "metadata": {
      "needs_background": "light"
     },
     "output_type": "display_data"
    }
   ],
   "source": [
    "def draw_loss_change(train_loss, val_loss, test_loss):\n",
    "  plt.figure(figsize=(8,8)) # 빈 그림을 정의\n",
    "  plt.plot(train_loss, color = 'r', label = 'Train loss') # training loss\n",
    "  plt.plot(val_loss, color = 'b', label = 'Val loss') # validation set loss\n",
    "  plt.plot(test_loss, color = 'g',  label = 'Test loss') # test set loss\n",
    "  plt.xlabel(\"Epoch\")#out_all = [x.detach().numpy() for x in out_all]\n",
    "  plt.ylabel(\"Loss\")\n",
    "  plt.legend(loc='best') # label을 표시 하겠다.\n",
    "\n",
    "draw_loss_change(train_acc_list, val_acc_list, test_acc_list)"
   ]
  },
  {
   "cell_type": "code",
   "execution_count": 25,
   "id": "509b2f78",
   "metadata": {},
   "outputs": [],
   "source": [
    "from sklearn.metrics import accuracy_score, f1_score, precision_score, recall_score, roc_auc_score, confusion_matrix\n",
    "def metrics(y_test, pred):\n",
    "    accuracy = accuracy_score(y_test, pred)\n",
    "    precision = precision_score(y_test, pred)\n",
    "    recall = recall_score(y_test, pred)\n",
    "    f1 = f1_score(y_test, pred)\n",
    "    roc_score = roc_auc_score(y_test, pred)\n",
    "    print('정확도 : {0:.2f}, 정밀도 : {1:.2f}, 재현율 : {2:.2f}'.format(accuracy, precision, recall))\n",
    "    print('f1-score : {0:.2f}, auc : {1:.2f}'.format(f1, roc_score))"
   ]
  },
  {
   "cell_type": "code",
   "execution_count": 27,
   "id": "94b91733",
   "metadata": {},
   "outputs": [
    {
     "name": "stdout",
     "output_type": "stream",
     "text": [
      "정확도 : 0.96, 정밀도 : 0.90, 재현율 : 0.47\n",
      "f1-score : 0.62, auc : 0.73\n"
     ]
    }
   ],
   "source": [
    "metrics(experimental, prediction)"
   ]
  },
  {
   "cell_type": "code",
   "execution_count": null,
   "id": "55654f84",
   "metadata": {},
   "outputs": [],
   "source": []
  }
 ],
 "metadata": {
  "kernelspec": {
   "display_name": "Python 3 (ipykernel)",
   "language": "python",
   "name": "python3"
  },
  "language_info": {
   "codemirror_mode": {
    "name": "ipython",
    "version": 3
   },
   "file_extension": ".py",
   "mimetype": "text/x-python",
   "name": "python",
   "nbconvert_exporter": "python",
   "pygments_lexer": "ipython3",
   "version": "3.8.12"
  }
 },
 "nbformat": 4,
 "nbformat_minor": 5
}
